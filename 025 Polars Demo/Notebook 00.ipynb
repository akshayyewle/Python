{
 "cells": [
  {
   "cell_type": "markdown",
   "metadata": {},
   "source": [
    "# **Setup**\n",
    "\n",
    "- https://towardsdatascience.com/practical-introduction-to-polars-8d9cdca350f1 "
   ]
  },
  {
   "cell_type": "code",
   "execution_count": 123,
   "metadata": {},
   "outputs": [],
   "source": [
    "from dataclasses import dataclass\n",
    "from datetime import datetime, timedelta\n",
    "from random import choice, gauss, randrange, seed\n",
    "from typing import Any, Dict\n",
    "\n",
    "import pandas as pd\n",
    "import polars as pl\n",
    "\n",
    "seed(42)"
   ]
  },
  {
   "cell_type": "markdown",
   "metadata": {},
   "source": [
    "# **Index**\n",
    "\n",
    "1. Data preparation and DataFrame creation.\n",
    "2. Summary statistics of the DataFrame.\n",
    "3. Retrieving the first five records.\n",
    "4. Renaming columns.\n",
    "5. Changing column types.\n",
    "6. Filling missing values.\n",
    "7. Removing missing values.\n",
    "8. Removing duplicate records.\n",
    "9. Filtering data.\n",
    "10. Selecting the required columns.\n",
    "11. Grouping data.\n",
    "12. Merging data with another DataFrame.\n",
    "13. Calculating a new column.\n",
    "14. Creating a Pivot table."
   ]
  },
  {
   "cell_type": "markdown",
   "metadata": {},
   "source": [
    "# **01 Generate Demo Data**"
   ]
  },
  {
   "cell_type": "code",
   "execution_count": 124,
   "metadata": {},
   "outputs": [
    {
     "data": {
      "text/plain": [
       "datetime.datetime(2024, 8, 31, 0, 0)"
      ]
     },
     "execution_count": 124,
     "metadata": {},
     "output_type": "execute_result"
    }
   ],
   "source": [
    "base_time= datetime(2024, 8, 31, 0, 0, 0, 0)\n",
    "base_time"
   ]
  },
  {
   "cell_type": "code",
   "execution_count": 125,
   "metadata": {},
   "outputs": [
    {
     "data": {
      "text/plain": [
       "[{'OnlineStore': 'Shop3',\n",
       "  'product': '0001',\n",
       "  'quantity': 1.0,\n",
       "  'Action type': 'view',\n",
       "  'Action_time': datetime.datetime(2024, 5, 21, 9, 24)},\n",
       " {'OnlineStore': 'Shop3',\n",
       "  'product': '0001',\n",
       "  'quantity': 3.0,\n",
       "  'Action type': 'view',\n",
       "  'Action_time': datetime.datetime(2023, 3, 10, 15, 54)},\n",
       " {'OnlineStore': 'Shop3',\n",
       "  'product': '0001',\n",
       "  'quantity': 3.0,\n",
       "  'Action type': 'view',\n",
       "  'Action_time': datetime.datetime(2024, 3, 24, 19, 2)},\n",
       " {'OnlineStore': 'Shop1',\n",
       "  'product': '0003',\n",
       "  'quantity': 3.0,\n",
       "  'Action type': 'view',\n",
       "  'Action_time': datetime.datetime(2024, 8, 11, 16, 16)},\n",
       " {'OnlineStore': 'Shop3',\n",
       "  'product': '0001',\n",
       "  'quantity': 3.0,\n",
       "  'Action type': 'view',\n",
       "  'Action_time': datetime.datetime(2024, 3, 23, 11, 32)}]"
      ]
     },
     "execution_count": 125,
     "metadata": {},
     "output_type": "execute_result"
    }
   ],
   "source": [
    "user_actions_data = [\n",
    "    {\n",
    "        \"OnlineStore\": choice([\"Shop1\", \"Shop2\", \"Shop3\"]),\n",
    "        \"product\": choice([\"0001\", \"0002\", \"0003\"]),\n",
    "        \"quantity\": choice([1.0, 2.0, 3.0]),\n",
    "        \"Action type\": (\"purchase\" if gauss() > 0.6 else \"view\"),\n",
    "        \"Action_time\": base_time - timedelta(minutes=randrange(1_000_000)),\n",
    "    }\n",
    "    for x in range(1_000_000)\n",
    "]\n",
    "\n",
    "# Data Preview \n",
    "user_actions_data[:5]"
   ]
  },
  {
   "cell_type": "code",
   "execution_count": 126,
   "metadata": {},
   "outputs": [
    {
     "data": {
      "text/plain": [
       "[{'OnlineStore': 'Shop1',\n",
       "  'product': '0001',\n",
       "  'quantity': 1.0,\n",
       "  'Action type': 'view',\n",
       "  'Action_time': datetime.datetime(2024, 8, 30, 14, 11)},\n",
       " {'OnlineStore': 'Shop3',\n",
       "  'product': '0001',\n",
       "  'quantity': None,\n",
       "  'Action type': 'view',\n",
       "  'Action_time': datetime.datetime(2024, 8, 30, 17, 9)},\n",
       " {'OnlineStore': 'Shop3',\n",
       "  'product': '0001',\n",
       "  'quantity': 1.0,\n",
       "  'Action type': 'purchase',\n",
       "  'Action_time': datetime.datetime(2024, 8, 30, 11, 23)},\n",
       " {'OnlineStore': 'Shop2',\n",
       "  'product': None,\n",
       "  'quantity': None,\n",
       "  'Action type': 'view',\n",
       "  'Action_time': datetime.datetime(2024, 8, 30, 19, 53)},\n",
       " {'OnlineStore': 'Shop3',\n",
       "  'product': None,\n",
       "  'quantity': 1.0,\n",
       "  'Action type': 'purchase',\n",
       "  'Action_time': datetime.datetime(2024, 8, 30, 9, 36)}]"
      ]
     },
     "execution_count": 126,
     "metadata": {},
     "output_type": "execute_result"
    }
   ],
   "source": [
    "# Generate Demo Data\n",
    "corrupted_data = [\n",
    "    {\n",
    "        \"OnlineStore\": choice([\"Shop1\", \"Shop2\", \"Shop3\"]),\n",
    "        \"product\": choice([\"0001\", None]),\n",
    "        \"quantity\": choice([1.0, None]),\n",
    "        \"Action type\": (\"purchase\" if gauss() > 0.6 else \"view\"),\n",
    "        \"Action_time\": base_time - timedelta(minutes=randrange(1_000)),\n",
    "    }\n",
    "    for x in range(1_000)\n",
    "]\n",
    "\n",
    "# Preview Corrupted Data\n",
    "corrupted_data[:5]"
   ]
  },
  {
   "cell_type": "code",
   "execution_count": 127,
   "metadata": {},
   "outputs": [
    {
     "data": {
      "text/plain": [
       "{'product_id': ['0001', '0002', '0003'], 'price': [100, 25, 80]}"
      ]
     },
     "execution_count": 127,
     "metadata": {},
     "output_type": "execute_result"
    }
   ],
   "source": [
    "product_catalog_data = {\"product_id\": [\"0001\", \"0002\", \"0003\"], \"price\": [100, 25, 80]}\n",
    "\n",
    "# Preview Product Catalog Data\n",
    "product_catalog_data"
   ]
  },
  {
   "cell_type": "markdown",
   "metadata": {},
   "source": [
    "## **Create Dataframes**"
   ]
  },
  {
   "cell_type": "code",
   "execution_count": 128,
   "metadata": {},
   "outputs": [],
   "source": [
    "# Pandas\n",
    "user_actions_pd_df = pd.DataFrame(user_actions_data)\n",
    "corrupted_pd_df = pd.DataFrame(corrupted_data)\n",
    "product_catalog_pd_df = pd.DataFrame(product_catalog_data)\n",
    "\n",
    "# Polars\n",
    "user_actions_pl_df = pl.DataFrame(user_actions_data)\n",
    "corrupted_pl_df = pl.DataFrame(corrupted_data)\n",
    "product_catalog_pl_df = pl.DataFrame(product_catalog_data)"
   ]
  },
  {
   "cell_type": "markdown",
   "metadata": {},
   "source": [
    "## **Concatenate Dataframes**"
   ]
  },
  {
   "cell_type": "code",
   "execution_count": 129,
   "metadata": {},
   "outputs": [],
   "source": [
    "# Pandas\n",
    "user_actions_pd_df = pd.concat([user_actions_pd_df, corrupted_pd_df])\n",
    "\n",
    "# Polars\n",
    "user_actions_pl_df = pl.concat([user_actions_pl_df, corrupted_pl_df])"
   ]
  },
  {
   "cell_type": "markdown",
   "metadata": {},
   "source": [
    "# **02 Summary Statistics**"
   ]
  },
  {
   "cell_type": "code",
   "execution_count": 130,
   "metadata": {},
   "outputs": [
    {
     "data": {
      "text/html": [
       "<div>\n",
       "<style scoped>\n",
       "    .dataframe tbody tr th:only-of-type {\n",
       "        vertical-align: middle;\n",
       "    }\n",
       "\n",
       "    .dataframe tbody tr th {\n",
       "        vertical-align: top;\n",
       "    }\n",
       "\n",
       "    .dataframe thead th {\n",
       "        text-align: right;\n",
       "    }\n",
       "</style>\n",
       "<table border=\"1\" class=\"dataframe\">\n",
       "  <thead>\n",
       "    <tr style=\"text-align: right;\">\n",
       "      <th></th>\n",
       "      <th>OnlineStore</th>\n",
       "      <th>product</th>\n",
       "      <th>quantity</th>\n",
       "      <th>Action type</th>\n",
       "      <th>Action_time</th>\n",
       "    </tr>\n",
       "  </thead>\n",
       "  <tbody>\n",
       "    <tr>\n",
       "      <th>count</th>\n",
       "      <td>1001000</td>\n",
       "      <td>1000492</td>\n",
       "      <td>1.000510e+06</td>\n",
       "      <td>1001000</td>\n",
       "      <td>1001000</td>\n",
       "    </tr>\n",
       "    <tr>\n",
       "      <th>unique</th>\n",
       "      <td>3</td>\n",
       "      <td>3</td>\n",
       "      <td>NaN</td>\n",
       "      <td>2</td>\n",
       "      <td>NaN</td>\n",
       "    </tr>\n",
       "    <tr>\n",
       "      <th>top</th>\n",
       "      <td>Shop3</td>\n",
       "      <td>0001</td>\n",
       "      <td>NaN</td>\n",
       "      <td>view</td>\n",
       "      <td>NaN</td>\n",
       "    </tr>\n",
       "    <tr>\n",
       "      <th>freq</th>\n",
       "      <td>333931</td>\n",
       "      <td>333963</td>\n",
       "      <td>NaN</td>\n",
       "      <td>726623</td>\n",
       "      <td>NaN</td>\n",
       "    </tr>\n",
       "    <tr>\n",
       "      <th>mean</th>\n",
       "      <td>NaN</td>\n",
       "      <td>NaN</td>\n",
       "      <td>1.998925e+00</td>\n",
       "      <td>NaN</td>\n",
       "      <td>2023-09-19 03:24:30.981699072</td>\n",
       "    </tr>\n",
       "    <tr>\n",
       "      <th>min</th>\n",
       "      <td>NaN</td>\n",
       "      <td>NaN</td>\n",
       "      <td>1.000000e+00</td>\n",
       "      <td>NaN</td>\n",
       "      <td>2022-10-06 13:23:00</td>\n",
       "    </tr>\n",
       "    <tr>\n",
       "      <th>25%</th>\n",
       "      <td>NaN</td>\n",
       "      <td>NaN</td>\n",
       "      <td>1.000000e+00</td>\n",
       "      <td>NaN</td>\n",
       "      <td>2023-03-29 03:08:45</td>\n",
       "    </tr>\n",
       "    <tr>\n",
       "      <th>50%</th>\n",
       "      <td>NaN</td>\n",
       "      <td>NaN</td>\n",
       "      <td>2.000000e+00</td>\n",
       "      <td>NaN</td>\n",
       "      <td>2023-09-19 06:48:30</td>\n",
       "    </tr>\n",
       "    <tr>\n",
       "      <th>75%</th>\n",
       "      <td>NaN</td>\n",
       "      <td>NaN</td>\n",
       "      <td>3.000000e+00</td>\n",
       "      <td>NaN</td>\n",
       "      <td>2024-03-11 03:01:15</td>\n",
       "    </tr>\n",
       "    <tr>\n",
       "      <th>max</th>\n",
       "      <td>NaN</td>\n",
       "      <td>NaN</td>\n",
       "      <td>3.000000e+00</td>\n",
       "      <td>NaN</td>\n",
       "      <td>2024-08-30 23:58:00</td>\n",
       "    </tr>\n",
       "    <tr>\n",
       "      <th>std</th>\n",
       "      <td>NaN</td>\n",
       "      <td>NaN</td>\n",
       "      <td>8.164457e-01</td>\n",
       "      <td>NaN</td>\n",
       "      <td>NaN</td>\n",
       "    </tr>\n",
       "  </tbody>\n",
       "</table>\n",
       "</div>"
      ],
      "text/plain": [
       "       OnlineStore  product      quantity Action type  \\\n",
       "count      1001000  1000492  1.000510e+06     1001000   \n",
       "unique           3        3           NaN           2   \n",
       "top          Shop3     0001           NaN        view   \n",
       "freq        333931   333963           NaN      726623   \n",
       "mean           NaN      NaN  1.998925e+00         NaN   \n",
       "min            NaN      NaN  1.000000e+00         NaN   \n",
       "25%            NaN      NaN  1.000000e+00         NaN   \n",
       "50%            NaN      NaN  2.000000e+00         NaN   \n",
       "75%            NaN      NaN  3.000000e+00         NaN   \n",
       "max            NaN      NaN  3.000000e+00         NaN   \n",
       "std            NaN      NaN  8.164457e-01         NaN   \n",
       "\n",
       "                          Action_time  \n",
       "count                         1001000  \n",
       "unique                            NaN  \n",
       "top                               NaN  \n",
       "freq                              NaN  \n",
       "mean    2023-09-19 03:24:30.981699072  \n",
       "min               2022-10-06 13:23:00  \n",
       "25%               2023-03-29 03:08:45  \n",
       "50%               2023-09-19 06:48:30  \n",
       "75%               2024-03-11 03:01:15  \n",
       "max               2024-08-30 23:58:00  \n",
       "std                               NaN  "
      ]
     },
     "execution_count": 130,
     "metadata": {},
     "output_type": "execute_result"
    }
   ],
   "source": [
    "# Pandas\n",
    "user_actions_pd_df.describe(include='all')"
   ]
  },
  {
   "cell_type": "code",
   "execution_count": 131,
   "metadata": {},
   "outputs": [
    {
     "data": {
      "text/html": [
       "<div><style>\n",
       ".dataframe > thead > tr,\n",
       ".dataframe > tbody > tr {\n",
       "  text-align: right;\n",
       "  white-space: pre-wrap;\n",
       "}\n",
       "</style>\n",
       "<small>shape: (9, 6)</small><table border=\"1\" class=\"dataframe\"><thead><tr><th>statistic</th><th>OnlineStore</th><th>product</th><th>quantity</th><th>Action type</th><th>Action_time</th></tr><tr><td>str</td><td>str</td><td>str</td><td>f64</td><td>str</td><td>str</td></tr></thead><tbody><tr><td>&quot;count&quot;</td><td>&quot;1001000&quot;</td><td>&quot;1000492&quot;</td><td>1.00051e6</td><td>&quot;1001000&quot;</td><td>&quot;1001000&quot;</td></tr><tr><td>&quot;null_count&quot;</td><td>&quot;0&quot;</td><td>&quot;508&quot;</td><td>490.0</td><td>&quot;0&quot;</td><td>&quot;0&quot;</td></tr><tr><td>&quot;mean&quot;</td><td>null</td><td>null</td><td>1.998925</td><td>null</td><td>&quot;2023-09-19 03:24:30.981698&quot;</td></tr><tr><td>&quot;std&quot;</td><td>null</td><td>null</td><td>0.816446</td><td>null</td><td>null</td></tr><tr><td>&quot;min&quot;</td><td>&quot;Shop1&quot;</td><td>&quot;0001&quot;</td><td>1.0</td><td>&quot;purchase&quot;</td><td>&quot;2022-10-06 13:23:00&quot;</td></tr><tr><td>&quot;25%&quot;</td><td>null</td><td>null</td><td>1.0</td><td>null</td><td>&quot;2023-03-29 03:09:00&quot;</td></tr><tr><td>&quot;50%&quot;</td><td>null</td><td>null</td><td>2.0</td><td>null</td><td>&quot;2023-09-19 06:49:00&quot;</td></tr><tr><td>&quot;75%&quot;</td><td>null</td><td>null</td><td>3.0</td><td>null</td><td>&quot;2024-03-11 03:01:00&quot;</td></tr><tr><td>&quot;max&quot;</td><td>&quot;Shop3&quot;</td><td>&quot;0003&quot;</td><td>3.0</td><td>&quot;view&quot;</td><td>&quot;2024-08-30 23:58:00&quot;</td></tr></tbody></table></div>"
      ],
      "text/plain": [
       "shape: (9, 6)\n",
       "┌────────────┬─────────────┬─────────┬───────────┬─────────────┬────────────────────────────┐\n",
       "│ statistic  ┆ OnlineStore ┆ product ┆ quantity  ┆ Action type ┆ Action_time                │\n",
       "│ ---        ┆ ---         ┆ ---     ┆ ---       ┆ ---         ┆ ---                        │\n",
       "│ str        ┆ str         ┆ str     ┆ f64       ┆ str         ┆ str                        │\n",
       "╞════════════╪═════════════╪═════════╪═══════════╪═════════════╪════════════════════════════╡\n",
       "│ count      ┆ 1001000     ┆ 1000492 ┆ 1.00051e6 ┆ 1001000     ┆ 1001000                    │\n",
       "│ null_count ┆ 0           ┆ 508     ┆ 490.0     ┆ 0           ┆ 0                          │\n",
       "│ mean       ┆ null        ┆ null    ┆ 1.998925  ┆ null        ┆ 2023-09-19 03:24:30.981698 │\n",
       "│ std        ┆ null        ┆ null    ┆ 0.816446  ┆ null        ┆ null                       │\n",
       "│ min        ┆ Shop1       ┆ 0001    ┆ 1.0       ┆ purchase    ┆ 2022-10-06 13:23:00        │\n",
       "│ 25%        ┆ null        ┆ null    ┆ 1.0       ┆ null        ┆ 2023-03-29 03:09:00        │\n",
       "│ 50%        ┆ null        ┆ null    ┆ 2.0       ┆ null        ┆ 2023-09-19 06:49:00        │\n",
       "│ 75%        ┆ null        ┆ null    ┆ 3.0       ┆ null        ┆ 2024-03-11 03:01:00        │\n",
       "│ max        ┆ Shop3       ┆ 0003    ┆ 3.0       ┆ view        ┆ 2024-08-30 23:58:00        │\n",
       "└────────────┴─────────────┴─────────┴───────────┴─────────────┴────────────────────────────┘"
      ]
     },
     "execution_count": 131,
     "metadata": {},
     "output_type": "execute_result"
    }
   ],
   "source": [
    "# Polars\n",
    "user_actions_pl_df.describe()"
   ]
  },
  {
   "cell_type": "markdown",
   "metadata": {},
   "source": [
    "## **Dataframe Info**"
   ]
  },
  {
   "cell_type": "code",
   "execution_count": 132,
   "metadata": {},
   "outputs": [
    {
     "name": "stdout",
     "output_type": "stream",
     "text": [
      "<class 'pandas.core.frame.DataFrame'>\n",
      "Index: 1001000 entries, 0 to 999\n",
      "Data columns (total 5 columns):\n",
      " #   Column       Non-Null Count    Dtype         \n",
      "---  ------       --------------    -----         \n",
      " 0   OnlineStore  1001000 non-null  object        \n",
      " 1   product      1000492 non-null  object        \n",
      " 2   quantity     1000510 non-null  float64       \n",
      " 3   Action type  1001000 non-null  object        \n",
      " 4   Action_time  1001000 non-null  datetime64[ns]\n",
      "dtypes: datetime64[ns](1), float64(1), object(3)\n",
      "memory usage: 45.8+ MB\n"
     ]
    }
   ],
   "source": [
    "# Pandas\n",
    "user_actions_pd_df.info()"
   ]
  },
  {
   "cell_type": "code",
   "execution_count": 133,
   "metadata": {},
   "outputs": [
    {
     "name": "stdout",
     "output_type": "stream",
     "text": [
      "Rows: 1001000\n",
      "Columns: 5\n",
      "$ OnlineStore          <str> 'Shop3', 'Shop3', 'Shop3', 'Shop1', 'Shop3', 'Shop2', 'Shop1', 'Shop2', 'Shop1', 'Shop2'\n",
      "$ product              <str> '0001', '0001', '0001', '0003', '0001', '0003', '0001', '0001', '0002', '0003'\n",
      "$ quantity             <f64> 1.0, 3.0, 3.0, 3.0, 3.0, 2.0, 3.0, 1.0, 2.0, 1.0\n",
      "$ Action type          <str> 'view', 'view', 'view', 'view', 'view', 'view', 'view', 'view', 'view', 'view'\n",
      "$ Action_time <datetime[μs]> 2024-05-21 09:24:00, 2023-03-10 15:54:00, 2024-03-24 19:02:00, 2024-08-11 16:16:00, 2024-03-23 11:32:00, 2023-01-19 14:11:00, 2024-03-27 05:08:00, 2023-11-28 08:18:00, 2023-03-18 15:01:00, 2022-10-29 09:44:00\n",
      "\n"
     ]
    }
   ],
   "source": [
    "# Polars - Glimpse Function\n",
    "user_actions_pl_df.glimpse()"
   ]
  },
  {
   "cell_type": "markdown",
   "metadata": {},
   "source": [
    "# **03 View First 5 Records**"
   ]
  },
  {
   "cell_type": "code",
   "execution_count": 134,
   "metadata": {},
   "outputs": [
    {
     "data": {
      "text/html": [
       "<div>\n",
       "<style scoped>\n",
       "    .dataframe tbody tr th:only-of-type {\n",
       "        vertical-align: middle;\n",
       "    }\n",
       "\n",
       "    .dataframe tbody tr th {\n",
       "        vertical-align: top;\n",
       "    }\n",
       "\n",
       "    .dataframe thead th {\n",
       "        text-align: right;\n",
       "    }\n",
       "</style>\n",
       "<table border=\"1\" class=\"dataframe\">\n",
       "  <thead>\n",
       "    <tr style=\"text-align: right;\">\n",
       "      <th></th>\n",
       "      <th>OnlineStore</th>\n",
       "      <th>product</th>\n",
       "      <th>quantity</th>\n",
       "      <th>Action type</th>\n",
       "      <th>Action_time</th>\n",
       "    </tr>\n",
       "  </thead>\n",
       "  <tbody>\n",
       "    <tr>\n",
       "      <th>0</th>\n",
       "      <td>Shop3</td>\n",
       "      <td>0001</td>\n",
       "      <td>1.0</td>\n",
       "      <td>view</td>\n",
       "      <td>2024-05-21 09:24:00</td>\n",
       "    </tr>\n",
       "    <tr>\n",
       "      <th>1</th>\n",
       "      <td>Shop3</td>\n",
       "      <td>0001</td>\n",
       "      <td>3.0</td>\n",
       "      <td>view</td>\n",
       "      <td>2023-03-10 15:54:00</td>\n",
       "    </tr>\n",
       "    <tr>\n",
       "      <th>2</th>\n",
       "      <td>Shop3</td>\n",
       "      <td>0001</td>\n",
       "      <td>3.0</td>\n",
       "      <td>view</td>\n",
       "      <td>2024-03-24 19:02:00</td>\n",
       "    </tr>\n",
       "    <tr>\n",
       "      <th>3</th>\n",
       "      <td>Shop1</td>\n",
       "      <td>0003</td>\n",
       "      <td>3.0</td>\n",
       "      <td>view</td>\n",
       "      <td>2024-08-11 16:16:00</td>\n",
       "    </tr>\n",
       "    <tr>\n",
       "      <th>4</th>\n",
       "      <td>Shop3</td>\n",
       "      <td>0001</td>\n",
       "      <td>3.0</td>\n",
       "      <td>view</td>\n",
       "      <td>2024-03-23 11:32:00</td>\n",
       "    </tr>\n",
       "  </tbody>\n",
       "</table>\n",
       "</div>"
      ],
      "text/plain": [
       "  OnlineStore product  quantity Action type         Action_time\n",
       "0       Shop3    0001       1.0        view 2024-05-21 09:24:00\n",
       "1       Shop3    0001       3.0        view 2023-03-10 15:54:00\n",
       "2       Shop3    0001       3.0        view 2024-03-24 19:02:00\n",
       "3       Shop1    0003       3.0        view 2024-08-11 16:16:00\n",
       "4       Shop3    0001       3.0        view 2024-03-23 11:32:00"
      ]
     },
     "execution_count": 134,
     "metadata": {},
     "output_type": "execute_result"
    }
   ],
   "source": [
    "# Pandas\n",
    "user_actions_pd_df.head()"
   ]
  },
  {
   "cell_type": "code",
   "execution_count": 135,
   "metadata": {},
   "outputs": [
    {
     "data": {
      "text/html": [
       "<div><style>\n",
       ".dataframe > thead > tr,\n",
       ".dataframe > tbody > tr {\n",
       "  text-align: right;\n",
       "  white-space: pre-wrap;\n",
       "}\n",
       "</style>\n",
       "<small>shape: (5, 5)</small><table border=\"1\" class=\"dataframe\"><thead><tr><th>OnlineStore</th><th>product</th><th>quantity</th><th>Action type</th><th>Action_time</th></tr><tr><td>str</td><td>str</td><td>f64</td><td>str</td><td>datetime[μs]</td></tr></thead><tbody><tr><td>&quot;Shop3&quot;</td><td>&quot;0001&quot;</td><td>1.0</td><td>&quot;view&quot;</td><td>2024-05-21 09:24:00</td></tr><tr><td>&quot;Shop3&quot;</td><td>&quot;0001&quot;</td><td>3.0</td><td>&quot;view&quot;</td><td>2023-03-10 15:54:00</td></tr><tr><td>&quot;Shop3&quot;</td><td>&quot;0001&quot;</td><td>3.0</td><td>&quot;view&quot;</td><td>2024-03-24 19:02:00</td></tr><tr><td>&quot;Shop1&quot;</td><td>&quot;0003&quot;</td><td>3.0</td><td>&quot;view&quot;</td><td>2024-08-11 16:16:00</td></tr><tr><td>&quot;Shop3&quot;</td><td>&quot;0001&quot;</td><td>3.0</td><td>&quot;view&quot;</td><td>2024-03-23 11:32:00</td></tr></tbody></table></div>"
      ],
      "text/plain": [
       "shape: (5, 5)\n",
       "┌─────────────┬─────────┬──────────┬─────────────┬─────────────────────┐\n",
       "│ OnlineStore ┆ product ┆ quantity ┆ Action type ┆ Action_time         │\n",
       "│ ---         ┆ ---     ┆ ---      ┆ ---         ┆ ---                 │\n",
       "│ str         ┆ str     ┆ f64      ┆ str         ┆ datetime[μs]        │\n",
       "╞═════════════╪═════════╪══════════╪═════════════╪═════════════════════╡\n",
       "│ Shop3       ┆ 0001    ┆ 1.0      ┆ view        ┆ 2024-05-21 09:24:00 │\n",
       "│ Shop3       ┆ 0001    ┆ 3.0      ┆ view        ┆ 2023-03-10 15:54:00 │\n",
       "│ Shop3       ┆ 0001    ┆ 3.0      ┆ view        ┆ 2024-03-24 19:02:00 │\n",
       "│ Shop1       ┆ 0003    ┆ 3.0      ┆ view        ┆ 2024-08-11 16:16:00 │\n",
       "│ Shop3       ┆ 0001    ┆ 3.0      ┆ view        ┆ 2024-03-23 11:32:00 │\n",
       "└─────────────┴─────────┴──────────┴─────────────┴─────────────────────┘"
      ]
     },
     "execution_count": 135,
     "metadata": {},
     "output_type": "execute_result"
    }
   ],
   "source": [
    "# Polars\n",
    "user_actions_pl_df.head()"
   ]
  },
  {
   "cell_type": "markdown",
   "metadata": {},
   "source": [
    "# **04 Rename Columns**"
   ]
  },
  {
   "cell_type": "code",
   "execution_count": 136,
   "metadata": {},
   "outputs": [
    {
     "data": {
      "text/plain": [
       "Index(['online_store', 'product_id', 'quantity', 'action_type', 'action_dt'], dtype='object')"
      ]
     },
     "execution_count": 136,
     "metadata": {},
     "output_type": "execute_result"
    }
   ],
   "source": [
    "# Pandas\n",
    "user_actions_pd_df = user_actions_pd_df.rename(\n",
    "    columns={\n",
    "        \"OnlineStore\": \"online_store\",\n",
    "        \"product\": \"product_id\",\n",
    "        \"Action type\": \"action_type\",\n",
    "        \"Action_time\": \"action_dt\",\n",
    "    }\n",
    ")\n",
    "\n",
    "user_actions_pd_df.columns"
   ]
  },
  {
   "cell_type": "code",
   "execution_count": 137,
   "metadata": {},
   "outputs": [
    {
     "data": {
      "text/plain": [
       "['online_store', 'product_id', 'quantity', 'action_type', 'action_dt']"
      ]
     },
     "execution_count": 137,
     "metadata": {},
     "output_type": "execute_result"
    }
   ],
   "source": [
    "# Polars\n",
    "user_actions_pl_df = user_actions_pl_df.rename(\n",
    "    {\n",
    "        \"OnlineStore\": \"online_store\",\n",
    "        \"product\": \"product_id\",\n",
    "        \"Action type\": \"action_type\",\n",
    "        \"Action_time\": \"action_dt\",\n",
    "    }\n",
    ")\n",
    "\n",
    "user_actions_pl_df.columns"
   ]
  },
  {
   "cell_type": "markdown",
   "metadata": {},
   "source": [
    "# **05 Change Column Data Types**"
   ]
  },
  {
   "cell_type": "code",
   "execution_count": 138,
   "metadata": {},
   "outputs": [
    {
     "data": {
      "text/plain": [
       "online_store            object\n",
       "product_id              object\n",
       "quantity                 Int64\n",
       "action_type             object\n",
       "action_dt       datetime64[ns]\n",
       "dtype: object"
      ]
     },
     "execution_count": 138,
     "metadata": {},
     "output_type": "execute_result"
    }
   ],
   "source": [
    "# Pandas\n",
    "user_actions_pd_df = user_actions_pd_df.astype({\"quantity\": \"Int64\"})\n",
    "\n",
    "user_actions_pd_df.dtypes"
   ]
  },
  {
   "cell_type": "code",
   "execution_count": 139,
   "metadata": {},
   "outputs": [
    {
     "data": {
      "text/plain": [
       "[String, String, Int32, String, Datetime(time_unit='us', time_zone=None)]"
      ]
     },
     "execution_count": 139,
     "metadata": {},
     "output_type": "execute_result"
    }
   ],
   "source": [
    "# Polars\n",
    "user_actions_pl_df = user_actions_pl_df.cast({\"quantity\": pl.Int32})\n",
    "\n",
    "# Get Data Types\n",
    "user_actions_pl_df.dtypes"
   ]
  },
  {
   "cell_type": "markdown",
   "metadata": {},
   "source": [
    "# **XX Data Size**"
   ]
  },
  {
   "cell_type": "code",
   "execution_count": 140,
   "metadata": {},
   "outputs": [
    {
     "name": "stdout",
     "output_type": "stream",
     "text": [
      "<class 'pandas.core.frame.DataFrame'>\n",
      "Index: 1001000 entries, 0 to 999\n",
      "Data columns (total 5 columns):\n",
      " #   Column        Non-Null Count    Dtype         \n",
      "---  ------        --------------    -----         \n",
      " 0   online_store  1001000 non-null  object        \n",
      " 1   product_id    1000492 non-null  object        \n",
      " 2   quantity      1000510 non-null  Int64         \n",
      " 3   action_type   1001000 non-null  object        \n",
      " 4   action_dt     1001000 non-null  datetime64[ns]\n",
      "dtypes: Int64(1), datetime64[ns](1), object(3)\n",
      "memory usage: 46.8+ MB\n"
     ]
    }
   ],
   "source": [
    "# Pandas\n",
    "user_actions_pd_df.info()"
   ]
  },
  {
   "cell_type": "code",
   "execution_count": 141,
   "metadata": {},
   "outputs": [
    {
     "data": {
      "text/plain": [
       "24.91054630279541"
      ]
     },
     "execution_count": 141,
     "metadata": {},
     "output_type": "execute_result"
    }
   ],
   "source": [
    "# Polars\n",
    "user_actions_pl_df.estimated_size(\"mb\")"
   ]
  },
  {
   "cell_type": "markdown",
   "metadata": {},
   "source": [
    "# **06 Fill Missing Values**"
   ]
  },
  {
   "cell_type": "code",
   "execution_count": 142,
   "metadata": {},
   "outputs": [
    {
     "name": "stdout",
     "output_type": "stream",
     "text": [
      "<class 'pandas.core.frame.DataFrame'>\n",
      "Index: 1001000 entries, 0 to 999\n",
      "Data columns (total 5 columns):\n",
      " #   Column        Non-Null Count    Dtype         \n",
      "---  ------        --------------    -----         \n",
      " 0   online_store  1001000 non-null  object        \n",
      " 1   product_id    1000492 non-null  object        \n",
      " 2   quantity      1000510 non-null  Int64         \n",
      " 3   action_type   1001000 non-null  object        \n",
      " 4   action_dt     1001000 non-null  datetime64[ns]\n",
      "dtypes: Int64(1), datetime64[ns](1), object(3)\n",
      "memory usage: 46.8+ MB\n",
      "<class 'pandas.core.frame.DataFrame'>\n",
      "Index: 1001000 entries, 0 to 999\n",
      "Data columns (total 5 columns):\n",
      " #   Column        Non-Null Count    Dtype         \n",
      "---  ------        --------------    -----         \n",
      " 0   online_store  1001000 non-null  object        \n",
      " 1   product_id    1000492 non-null  object        \n",
      " 2   quantity      1001000 non-null  Int64         \n",
      " 3   action_type   1001000 non-null  object        \n",
      " 4   action_dt     1001000 non-null  datetime64[ns]\n",
      "dtypes: Int64(1), datetime64[ns](1), object(3)\n",
      "memory usage: 46.8+ MB\n"
     ]
    },
    {
     "name": "stderr",
     "output_type": "stream",
     "text": [
      "C:\\Users\\aksha\\AppData\\Local\\Temp\\ipykernel_12664\\370503049.py:4: FutureWarning: A value is trying to be set on a copy of a DataFrame or Series through chained assignment using an inplace method.\n",
      "The behavior will change in pandas 3.0. This inplace method will never work because the intermediate object on which we are setting values always behaves as a copy.\n",
      "\n",
      "For example, when doing 'df[col].method(value, inplace=True)', try using 'df.method({col: value}, inplace=True)' or df[col] = df[col].method(value) instead, to perform the operation inplace on the original object.\n",
      "\n",
      "\n",
      "  user_actions_pd_df[\"quantity\"].fillna(0, inplace=True)\n"
     ]
    },
    {
     "data": {
      "text/plain": [
       "None"
      ]
     },
     "metadata": {},
     "output_type": "display_data"
    }
   ],
   "source": [
    "user_actions_pd_df.info()\n",
    "\n",
    "# Pandas\n",
    "user_actions_pd_df[\"quantity\"].fillna(0, inplace=True)\n",
    "display(user_actions_pd_df.info())"
   ]
  },
  {
   "cell_type": "code",
   "execution_count": 143,
   "metadata": {},
   "outputs": [
    {
     "data": {
      "text/html": [
       "<div><style>\n",
       ".dataframe > thead > tr,\n",
       ".dataframe > tbody > tr {\n",
       "  text-align: right;\n",
       "  white-space: pre-wrap;\n",
       "}\n",
       "</style>\n",
       "<small>shape: (9, 6)</small><table border=\"1\" class=\"dataframe\"><thead><tr><th>statistic</th><th>online_store</th><th>product_id</th><th>quantity</th><th>action_type</th><th>action_dt</th></tr><tr><td>str</td><td>str</td><td>str</td><td>f64</td><td>str</td><td>str</td></tr></thead><tbody><tr><td>&quot;count&quot;</td><td>&quot;1001000&quot;</td><td>&quot;1000492&quot;</td><td>1.001e6</td><td>&quot;1001000&quot;</td><td>&quot;1001000&quot;</td></tr><tr><td>&quot;null_count&quot;</td><td>&quot;0&quot;</td><td>&quot;508&quot;</td><td>0.0</td><td>&quot;0&quot;</td><td>&quot;0&quot;</td></tr><tr><td>&quot;mean&quot;</td><td>null</td><td>null</td><td>1.997946</td><td>null</td><td>&quot;2023-09-19 03:24:30.981698&quot;</td></tr><tr><td>&quot;std&quot;</td><td>null</td><td>null</td><td>0.817442</td><td>null</td><td>null</td></tr><tr><td>&quot;min&quot;</td><td>&quot;Shop1&quot;</td><td>&quot;0001&quot;</td><td>0.0</td><td>&quot;purchase&quot;</td><td>&quot;2022-10-06 13:23:00&quot;</td></tr><tr><td>&quot;25%&quot;</td><td>null</td><td>null</td><td>1.0</td><td>null</td><td>&quot;2023-03-29 03:09:00&quot;</td></tr><tr><td>&quot;50%&quot;</td><td>null</td><td>null</td><td>2.0</td><td>null</td><td>&quot;2023-09-19 06:49:00&quot;</td></tr><tr><td>&quot;75%&quot;</td><td>null</td><td>null</td><td>3.0</td><td>null</td><td>&quot;2024-03-11 03:01:00&quot;</td></tr><tr><td>&quot;max&quot;</td><td>&quot;Shop3&quot;</td><td>&quot;0003&quot;</td><td>3.0</td><td>&quot;view&quot;</td><td>&quot;2024-08-30 23:58:00&quot;</td></tr></tbody></table></div>"
      ],
      "text/plain": [
       "shape: (9, 6)\n",
       "┌────────────┬──────────────┬────────────┬──────────┬─────────────┬────────────────────────────┐\n",
       "│ statistic  ┆ online_store ┆ product_id ┆ quantity ┆ action_type ┆ action_dt                  │\n",
       "│ ---        ┆ ---          ┆ ---        ┆ ---      ┆ ---         ┆ ---                        │\n",
       "│ str        ┆ str          ┆ str        ┆ f64      ┆ str         ┆ str                        │\n",
       "╞════════════╪══════════════╪════════════╪══════════╪═════════════╪════════════════════════════╡\n",
       "│ count      ┆ 1001000      ┆ 1000492    ┆ 1.001e6  ┆ 1001000     ┆ 1001000                    │\n",
       "│ null_count ┆ 0            ┆ 508        ┆ 0.0      ┆ 0           ┆ 0                          │\n",
       "│ mean       ┆ null         ┆ null       ┆ 1.997946 ┆ null        ┆ 2023-09-19 03:24:30.981698 │\n",
       "│ std        ┆ null         ┆ null       ┆ 0.817442 ┆ null        ┆ null                       │\n",
       "│ min        ┆ Shop1        ┆ 0001       ┆ 0.0      ┆ purchase    ┆ 2022-10-06 13:23:00        │\n",
       "│ 25%        ┆ null         ┆ null       ┆ 1.0      ┆ null        ┆ 2023-03-29 03:09:00        │\n",
       "│ 50%        ┆ null         ┆ null       ┆ 2.0      ┆ null        ┆ 2023-09-19 06:49:00        │\n",
       "│ 75%        ┆ null         ┆ null       ┆ 3.0      ┆ null        ┆ 2024-03-11 03:01:00        │\n",
       "│ max        ┆ Shop3        ┆ 0003       ┆ 3.0      ┆ view        ┆ 2024-08-30 23:58:00        │\n",
       "└────────────┴──────────────┴────────────┴──────────┴─────────────┴────────────────────────────┘"
      ]
     },
     "execution_count": 143,
     "metadata": {},
     "output_type": "execute_result"
    }
   ],
   "source": [
    "# Polars\n",
    "user_actions_pl_df = user_actions_pl_df.with_columns(pl.col(\"quantity\").fill_null(0))\n",
    "\n",
    "# Describe\n",
    "user_actions_pl_df.describe()"
   ]
  },
  {
   "cell_type": "markdown",
   "metadata": {},
   "source": [
    "# **07 Remove Missing Values**"
   ]
  },
  {
   "cell_type": "code",
   "execution_count": 144,
   "metadata": {},
   "outputs": [
    {
     "name": "stdout",
     "output_type": "stream",
     "text": [
      "<class 'pandas.core.frame.DataFrame'>\n",
      "Index: 1000492 entries, 0 to 999\n",
      "Data columns (total 5 columns):\n",
      " #   Column        Non-Null Count    Dtype         \n",
      "---  ------        --------------    -----         \n",
      " 0   online_store  1000492 non-null  object        \n",
      " 1   product_id    1000492 non-null  object        \n",
      " 2   quantity      1000492 non-null  Int64         \n",
      " 3   action_type   1000492 non-null  object        \n",
      " 4   action_dt     1000492 non-null  datetime64[ns]\n",
      "dtypes: Int64(1), datetime64[ns](1), object(3)\n",
      "memory usage: 46.8+ MB\n"
     ]
    }
   ],
   "source": [
    "# Pandas\n",
    "user_actions_pd_df.dropna(subset=[\"product_id\"], inplace=True)\n",
    "\n",
    "user_actions_pd_df.info()"
   ]
  },
  {
   "cell_type": "code",
   "execution_count": 145,
   "metadata": {},
   "outputs": [],
   "source": [
    "# Polars\n",
    "user_actions_pl_df = user_actions_pl_df.drop_nulls(subset=[\"product_id\"])"
   ]
  },
  {
   "cell_type": "markdown",
   "metadata": {},
   "source": [
    "# **08 Remove Duplicates**"
   ]
  },
  {
   "cell_type": "code",
   "execution_count": 146,
   "metadata": {},
   "outputs": [],
   "source": [
    "# Pandas\n",
    "user_actions_pd_df.drop_duplicates(\n",
    "    subset=[\"online_store\", \"action_type\", \"action_dt\"],\n",
    "    keep=\"last\",\n",
    "    inplace=True,\n",
    ")"
   ]
  },
  {
   "cell_type": "code",
   "execution_count": 147,
   "metadata": {},
   "outputs": [],
   "source": [
    "# Polars\n",
    "user_actions_pl_df = user_actions_pl_df.unique(\n",
    "    subset=[\"online_store\", \"action_type\", \"action_dt\"],\n",
    "    keep=\"last\",\n",
    ")"
   ]
  },
  {
   "cell_type": "markdown",
   "metadata": {},
   "source": [
    "# **09 Filtering Data**"
   ]
  },
  {
   "cell_type": "code",
   "execution_count": 148,
   "metadata": {},
   "outputs": [
    {
     "data": {
      "text/html": [
       "<div>\n",
       "<style scoped>\n",
       "    .dataframe tbody tr th:only-of-type {\n",
       "        vertical-align: middle;\n",
       "    }\n",
       "\n",
       "    .dataframe tbody tr th {\n",
       "        vertical-align: top;\n",
       "    }\n",
       "\n",
       "    .dataframe thead th {\n",
       "        text-align: right;\n",
       "    }\n",
       "</style>\n",
       "<table border=\"1\" class=\"dataframe\">\n",
       "  <thead>\n",
       "    <tr style=\"text-align: right;\">\n",
       "      <th></th>\n",
       "      <th>online_store</th>\n",
       "      <th>product_id</th>\n",
       "      <th>quantity</th>\n",
       "      <th>action_type</th>\n",
       "      <th>action_dt</th>\n",
       "    </tr>\n",
       "  </thead>\n",
       "  <tbody>\n",
       "    <tr>\n",
       "      <th>11</th>\n",
       "      <td>Shop2</td>\n",
       "      <td>0003</td>\n",
       "      <td>1</td>\n",
       "      <td>purchase</td>\n",
       "      <td>2023-04-05 22:43:00</td>\n",
       "    </tr>\n",
       "    <tr>\n",
       "      <th>15</th>\n",
       "      <td>Shop2</td>\n",
       "      <td>0003</td>\n",
       "      <td>3</td>\n",
       "      <td>purchase</td>\n",
       "      <td>2023-05-17 02:46:00</td>\n",
       "    </tr>\n",
       "    <tr>\n",
       "      <th>16</th>\n",
       "      <td>Shop1</td>\n",
       "      <td>0003</td>\n",
       "      <td>3</td>\n",
       "      <td>purchase</td>\n",
       "      <td>2024-05-04 00:21:00</td>\n",
       "    </tr>\n",
       "    <tr>\n",
       "      <th>17</th>\n",
       "      <td>Shop2</td>\n",
       "      <td>0002</td>\n",
       "      <td>2</td>\n",
       "      <td>purchase</td>\n",
       "      <td>2022-10-27 03:38:00</td>\n",
       "    </tr>\n",
       "    <tr>\n",
       "      <th>19</th>\n",
       "      <td>Shop1</td>\n",
       "      <td>0001</td>\n",
       "      <td>1</td>\n",
       "      <td>purchase</td>\n",
       "      <td>2023-01-22 18:49:00</td>\n",
       "    </tr>\n",
       "    <tr>\n",
       "      <th>...</th>\n",
       "      <td>...</td>\n",
       "      <td>...</td>\n",
       "      <td>...</td>\n",
       "      <td>...</td>\n",
       "      <td>...</td>\n",
       "    </tr>\n",
       "    <tr>\n",
       "      <th>978</th>\n",
       "      <td>Shop2</td>\n",
       "      <td>0001</td>\n",
       "      <td>1</td>\n",
       "      <td>purchase</td>\n",
       "      <td>2024-08-30 13:49:00</td>\n",
       "    </tr>\n",
       "    <tr>\n",
       "      <th>982</th>\n",
       "      <td>Shop3</td>\n",
       "      <td>0001</td>\n",
       "      <td>0</td>\n",
       "      <td>purchase</td>\n",
       "      <td>2024-08-30 14:35:00</td>\n",
       "    </tr>\n",
       "    <tr>\n",
       "      <th>985</th>\n",
       "      <td>Shop3</td>\n",
       "      <td>0001</td>\n",
       "      <td>1</td>\n",
       "      <td>purchase</td>\n",
       "      <td>2024-08-30 18:40:00</td>\n",
       "    </tr>\n",
       "    <tr>\n",
       "      <th>988</th>\n",
       "      <td>Shop2</td>\n",
       "      <td>0001</td>\n",
       "      <td>1</td>\n",
       "      <td>purchase</td>\n",
       "      <td>2024-08-30 07:28:00</td>\n",
       "    </tr>\n",
       "    <tr>\n",
       "      <th>995</th>\n",
       "      <td>Shop3</td>\n",
       "      <td>0001</td>\n",
       "      <td>0</td>\n",
       "      <td>purchase</td>\n",
       "      <td>2024-08-30 20:38:00</td>\n",
       "    </tr>\n",
       "  </tbody>\n",
       "</table>\n",
       "<p>262237 rows × 5 columns</p>\n",
       "</div>"
      ],
      "text/plain": [
       "    online_store product_id  quantity action_type           action_dt\n",
       "11         Shop2       0003         1    purchase 2023-04-05 22:43:00\n",
       "15         Shop2       0003         3    purchase 2023-05-17 02:46:00\n",
       "16         Shop1       0003         3    purchase 2024-05-04 00:21:00\n",
       "17         Shop2       0002         2    purchase 2022-10-27 03:38:00\n",
       "19         Shop1       0001         1    purchase 2023-01-22 18:49:00\n",
       "..           ...        ...       ...         ...                 ...\n",
       "978        Shop2       0001         1    purchase 2024-08-30 13:49:00\n",
       "982        Shop3       0001         0    purchase 2024-08-30 14:35:00\n",
       "985        Shop3       0001         1    purchase 2024-08-30 18:40:00\n",
       "988        Shop2       0001         1    purchase 2024-08-30 07:28:00\n",
       "995        Shop3       0001         0    purchase 2024-08-30 20:38:00\n",
       "\n",
       "[262237 rows x 5 columns]"
      ]
     },
     "execution_count": 148,
     "metadata": {},
     "output_type": "execute_result"
    }
   ],
   "source": [
    "# Pandas\n",
    "user_actions_pd_df = user_actions_pd_df.loc[\n",
    "    user_actions_pd_df[\"action_type\"] == \"purchase\"\n",
    "]\n",
    "\n",
    "user_actions_pd_df"
   ]
  },
  {
   "cell_type": "code",
   "execution_count": 149,
   "metadata": {},
   "outputs": [
    {
     "data": {
      "text/html": [
       "<div><style>\n",
       ".dataframe > thead > tr,\n",
       ".dataframe > tbody > tr {\n",
       "  text-align: right;\n",
       "  white-space: pre-wrap;\n",
       "}\n",
       "</style>\n",
       "<small>shape: (5, 5)</small><table border=\"1\" class=\"dataframe\"><thead><tr><th>online_store</th><th>product_id</th><th>quantity</th><th>action_type</th><th>action_dt</th></tr><tr><td>str</td><td>str</td><td>i32</td><td>str</td><td>datetime[μs]</td></tr></thead><tbody><tr><td>&quot;Shop1&quot;</td><td>&quot;0002&quot;</td><td>3</td><td>&quot;purchase&quot;</td><td>2023-11-02 07:39:00</td></tr><tr><td>&quot;Shop2&quot;</td><td>&quot;0003&quot;</td><td>1</td><td>&quot;purchase&quot;</td><td>2022-10-19 16:03:00</td></tr><tr><td>&quot;Shop1&quot;</td><td>&quot;0003&quot;</td><td>2</td><td>&quot;purchase&quot;</td><td>2023-06-18 18:41:00</td></tr><tr><td>&quot;Shop2&quot;</td><td>&quot;0001&quot;</td><td>2</td><td>&quot;purchase&quot;</td><td>2023-11-17 14:59:00</td></tr><tr><td>&quot;Shop1&quot;</td><td>&quot;0002&quot;</td><td>2</td><td>&quot;purchase&quot;</td><td>2023-01-26 20:03:00</td></tr></tbody></table></div>"
      ],
      "text/plain": [
       "shape: (5, 5)\n",
       "┌──────────────┬────────────┬──────────┬─────────────┬─────────────────────┐\n",
       "│ online_store ┆ product_id ┆ quantity ┆ action_type ┆ action_dt           │\n",
       "│ ---          ┆ ---        ┆ ---      ┆ ---         ┆ ---                 │\n",
       "│ str          ┆ str        ┆ i32      ┆ str         ┆ datetime[μs]        │\n",
       "╞══════════════╪════════════╪══════════╪═════════════╪═════════════════════╡\n",
       "│ Shop1        ┆ 0002       ┆ 3        ┆ purchase    ┆ 2023-11-02 07:39:00 │\n",
       "│ Shop2        ┆ 0003       ┆ 1        ┆ purchase    ┆ 2022-10-19 16:03:00 │\n",
       "│ Shop1        ┆ 0003       ┆ 2        ┆ purchase    ┆ 2023-06-18 18:41:00 │\n",
       "│ Shop2        ┆ 0001       ┆ 2        ┆ purchase    ┆ 2023-11-17 14:59:00 │\n",
       "│ Shop1        ┆ 0002       ┆ 2        ┆ purchase    ┆ 2023-01-26 20:03:00 │\n",
       "└──────────────┴────────────┴──────────┴─────────────┴─────────────────────┘"
      ]
     },
     "execution_count": 149,
     "metadata": {},
     "output_type": "execute_result"
    }
   ],
   "source": [
    "# Polars\n",
    "user_actions_pl_df = user_actions_pl_df.filter(\n",
    "    pl.col(\"action_type\") == \"purchase\"\n",
    ")\n",
    "\n",
    "user_actions_pl_df.head(5)"
   ]
  },
  {
   "cell_type": "markdown",
   "metadata": {},
   "source": [
    "# **10 Select Specific Columns**"
   ]
  },
  {
   "cell_type": "code",
   "execution_count": 150,
   "metadata": {},
   "outputs": [
    {
     "data": {
      "text/html": [
       "<div>\n",
       "<style scoped>\n",
       "    .dataframe tbody tr th:only-of-type {\n",
       "        vertical-align: middle;\n",
       "    }\n",
       "\n",
       "    .dataframe tbody tr th {\n",
       "        vertical-align: top;\n",
       "    }\n",
       "\n",
       "    .dataframe thead th {\n",
       "        text-align: right;\n",
       "    }\n",
       "</style>\n",
       "<table border=\"1\" class=\"dataframe\">\n",
       "  <thead>\n",
       "    <tr style=\"text-align: right;\">\n",
       "      <th></th>\n",
       "      <th>online_store</th>\n",
       "      <th>action_type</th>\n",
       "      <th>product_id</th>\n",
       "      <th>quantity</th>\n",
       "    </tr>\n",
       "  </thead>\n",
       "  <tbody>\n",
       "    <tr>\n",
       "      <th>11</th>\n",
       "      <td>Shop2</td>\n",
       "      <td>purchase</td>\n",
       "      <td>0003</td>\n",
       "      <td>1</td>\n",
       "    </tr>\n",
       "    <tr>\n",
       "      <th>15</th>\n",
       "      <td>Shop2</td>\n",
       "      <td>purchase</td>\n",
       "      <td>0003</td>\n",
       "      <td>3</td>\n",
       "    </tr>\n",
       "    <tr>\n",
       "      <th>16</th>\n",
       "      <td>Shop1</td>\n",
       "      <td>purchase</td>\n",
       "      <td>0003</td>\n",
       "      <td>3</td>\n",
       "    </tr>\n",
       "    <tr>\n",
       "      <th>17</th>\n",
       "      <td>Shop2</td>\n",
       "      <td>purchase</td>\n",
       "      <td>0002</td>\n",
       "      <td>2</td>\n",
       "    </tr>\n",
       "    <tr>\n",
       "      <th>19</th>\n",
       "      <td>Shop1</td>\n",
       "      <td>purchase</td>\n",
       "      <td>0001</td>\n",
       "      <td>1</td>\n",
       "    </tr>\n",
       "  </tbody>\n",
       "</table>\n",
       "</div>"
      ],
      "text/plain": [
       "   online_store action_type product_id  quantity\n",
       "11        Shop2    purchase       0003         1\n",
       "15        Shop2    purchase       0003         3\n",
       "16        Shop1    purchase       0003         3\n",
       "17        Shop2    purchase       0002         2\n",
       "19        Shop1    purchase       0001         1"
      ]
     },
     "execution_count": 150,
     "metadata": {},
     "output_type": "execute_result"
    }
   ],
   "source": [
    "# Pandas\n",
    "user_actions_pd_df_01 = user_actions_pd_df[\n",
    "    [\"online_store\", \"action_type\", \"product_id\", \"quantity\"]\n",
    "]\n",
    "\n",
    "user_actions_pd_df_01.head()"
   ]
  },
  {
   "cell_type": "code",
   "execution_count": 151,
   "metadata": {},
   "outputs": [
    {
     "data": {
      "text/html": [
       "<div><style>\n",
       ".dataframe > thead > tr,\n",
       ".dataframe > tbody > tr {\n",
       "  text-align: right;\n",
       "  white-space: pre-wrap;\n",
       "}\n",
       "</style>\n",
       "<small>shape: (5, 4)</small><table border=\"1\" class=\"dataframe\"><thead><tr><th>online_store</th><th>action_type</th><th>product_id</th><th>quantity</th></tr><tr><td>str</td><td>str</td><td>str</td><td>i32</td></tr></thead><tbody><tr><td>&quot;Shop1&quot;</td><td>&quot;purchase&quot;</td><td>&quot;0002&quot;</td><td>3</td></tr><tr><td>&quot;Shop2&quot;</td><td>&quot;purchase&quot;</td><td>&quot;0003&quot;</td><td>1</td></tr><tr><td>&quot;Shop1&quot;</td><td>&quot;purchase&quot;</td><td>&quot;0003&quot;</td><td>2</td></tr><tr><td>&quot;Shop2&quot;</td><td>&quot;purchase&quot;</td><td>&quot;0001&quot;</td><td>2</td></tr><tr><td>&quot;Shop1&quot;</td><td>&quot;purchase&quot;</td><td>&quot;0002&quot;</td><td>2</td></tr></tbody></table></div>"
      ],
      "text/plain": [
       "shape: (5, 4)\n",
       "┌──────────────┬─────────────┬────────────┬──────────┐\n",
       "│ online_store ┆ action_type ┆ product_id ┆ quantity │\n",
       "│ ---          ┆ ---         ┆ ---        ┆ ---      │\n",
       "│ str          ┆ str         ┆ str        ┆ i32      │\n",
       "╞══════════════╪═════════════╪════════════╪══════════╡\n",
       "│ Shop1        ┆ purchase    ┆ 0002       ┆ 3        │\n",
       "│ Shop2        ┆ purchase    ┆ 0003       ┆ 1        │\n",
       "│ Shop1        ┆ purchase    ┆ 0003       ┆ 2        │\n",
       "│ Shop2        ┆ purchase    ┆ 0001       ┆ 2        │\n",
       "│ Shop1        ┆ purchase    ┆ 0002       ┆ 2        │\n",
       "└──────────────┴─────────────┴────────────┴──────────┘"
      ]
     },
     "execution_count": 151,
     "metadata": {},
     "output_type": "execute_result"
    }
   ],
   "source": [
    "# Polars\n",
    "user_actions_pl_df_01 = user_actions_pl_df.select(\n",
    "    \"online_store\", \"action_type\", \"product_id\", \"quantity\"\n",
    ")\n",
    "\n",
    "user_actions_pl_df_01.head()   "
   ]
  },
  {
   "cell_type": "markdown",
   "metadata": {},
   "source": [
    "# **11 Grouping Data**"
   ]
  },
  {
   "cell_type": "code",
   "execution_count": 152,
   "metadata": {},
   "outputs": [
    {
     "data": {
      "text/html": [
       "<div>\n",
       "<style scoped>\n",
       "    .dataframe tbody tr th:only-of-type {\n",
       "        vertical-align: middle;\n",
       "    }\n",
       "\n",
       "    .dataframe tbody tr th {\n",
       "        vertical-align: top;\n",
       "    }\n",
       "\n",
       "    .dataframe thead th {\n",
       "        text-align: right;\n",
       "    }\n",
       "</style>\n",
       "<table border=\"1\" class=\"dataframe\">\n",
       "  <thead>\n",
       "    <tr style=\"text-align: right;\">\n",
       "      <th></th>\n",
       "      <th>online_store</th>\n",
       "      <th>product_id</th>\n",
       "      <th>action_type</th>\n",
       "      <th>quantity</th>\n",
       "    </tr>\n",
       "  </thead>\n",
       "  <tbody>\n",
       "    <tr>\n",
       "      <th>0</th>\n",
       "      <td>Shop1</td>\n",
       "      <td>0001</td>\n",
       "      <td>purchase</td>\n",
       "      <td>57772</td>\n",
       "    </tr>\n",
       "    <tr>\n",
       "      <th>1</th>\n",
       "      <td>Shop1</td>\n",
       "      <td>0002</td>\n",
       "      <td>purchase</td>\n",
       "      <td>58015</td>\n",
       "    </tr>\n",
       "    <tr>\n",
       "      <th>2</th>\n",
       "      <td>Shop1</td>\n",
       "      <td>0003</td>\n",
       "      <td>purchase</td>\n",
       "      <td>58242</td>\n",
       "    </tr>\n",
       "    <tr>\n",
       "      <th>3</th>\n",
       "      <td>Shop2</td>\n",
       "      <td>0001</td>\n",
       "      <td>purchase</td>\n",
       "      <td>58256</td>\n",
       "    </tr>\n",
       "    <tr>\n",
       "      <th>4</th>\n",
       "      <td>Shop2</td>\n",
       "      <td>0002</td>\n",
       "      <td>purchase</td>\n",
       "      <td>58648</td>\n",
       "    </tr>\n",
       "  </tbody>\n",
       "</table>\n",
       "</div>"
      ],
      "text/plain": [
       "  online_store product_id action_type  quantity\n",
       "0        Shop1       0001    purchase     57772\n",
       "1        Shop1       0002    purchase     58015\n",
       "2        Shop1       0003    purchase     58242\n",
       "3        Shop2       0001    purchase     58256\n",
       "4        Shop2       0002    purchase     58648"
      ]
     },
     "execution_count": 152,
     "metadata": {},
     "output_type": "execute_result"
    }
   ],
   "source": [
    "# Pandas\n",
    "user_actions_pd_df = (\n",
    "    user_actions_pd_df.groupby([\"online_store\", \"product_id\", \"action_type\"])\n",
    "    .agg({\"quantity\": \"sum\"})\n",
    "    .reset_index()\n",
    ")\n",
    "\n",
    "user_actions_pd_df.head()"
   ]
  },
  {
   "cell_type": "code",
   "execution_count": 153,
   "metadata": {},
   "outputs": [
    {
     "data": {
      "text/html": [
       "<div><style>\n",
       ".dataframe > thead > tr,\n",
       ".dataframe > tbody > tr {\n",
       "  text-align: right;\n",
       "  white-space: pre-wrap;\n",
       "}\n",
       "</style>\n",
       "<small>shape: (5, 4)</small><table border=\"1\" class=\"dataframe\"><thead><tr><th>online_store</th><th>product_id</th><th>action_type</th><th>quantity</th></tr><tr><td>str</td><td>str</td><td>str</td><td>i32</td></tr></thead><tbody><tr><td>&quot;Shop2&quot;</td><td>&quot;0001&quot;</td><td>&quot;purchase&quot;</td><td>58256</td></tr><tr><td>&quot;Shop1&quot;</td><td>&quot;0002&quot;</td><td>&quot;purchase&quot;</td><td>58015</td></tr><tr><td>&quot;Shop2&quot;</td><td>&quot;0003&quot;</td><td>&quot;purchase&quot;</td><td>58458</td></tr><tr><td>&quot;Shop1&quot;</td><td>&quot;0001&quot;</td><td>&quot;purchase&quot;</td><td>57772</td></tr><tr><td>&quot;Shop2&quot;</td><td>&quot;0002&quot;</td><td>&quot;purchase&quot;</td><td>58648</td></tr></tbody></table></div>"
      ],
      "text/plain": [
       "shape: (5, 4)\n",
       "┌──────────────┬────────────┬─────────────┬──────────┐\n",
       "│ online_store ┆ product_id ┆ action_type ┆ quantity │\n",
       "│ ---          ┆ ---        ┆ ---         ┆ ---      │\n",
       "│ str          ┆ str        ┆ str         ┆ i32      │\n",
       "╞══════════════╪════════════╪═════════════╪══════════╡\n",
       "│ Shop2        ┆ 0001       ┆ purchase    ┆ 58256    │\n",
       "│ Shop1        ┆ 0002       ┆ purchase    ┆ 58015    │\n",
       "│ Shop2        ┆ 0003       ┆ purchase    ┆ 58458    │\n",
       "│ Shop1        ┆ 0001       ┆ purchase    ┆ 57772    │\n",
       "│ Shop2        ┆ 0002       ┆ purchase    ┆ 58648    │\n",
       "└──────────────┴────────────┴─────────────┴──────────┘"
      ]
     },
     "execution_count": 153,
     "metadata": {},
     "output_type": "execute_result"
    }
   ],
   "source": [
    "# Polars\n",
    "user_actions_pl_df = (\n",
    "    user_actions_pl_df.group_by([\"online_store\", \"product_id\", \"action_type\"])\n",
    "    .agg(pl.col(\"quantity\").sum())\n",
    ")\n",
    "\n",
    "user_actions_pl_df.head()"
   ]
  },
  {
   "cell_type": "markdown",
   "metadata": {},
   "source": [
    "# **12 Merge Dataframes**"
   ]
  },
  {
   "cell_type": "code",
   "execution_count": 154,
   "metadata": {},
   "outputs": [
    {
     "data": {
      "text/html": [
       "<div>\n",
       "<style scoped>\n",
       "    .dataframe tbody tr th:only-of-type {\n",
       "        vertical-align: middle;\n",
       "    }\n",
       "\n",
       "    .dataframe tbody tr th {\n",
       "        vertical-align: top;\n",
       "    }\n",
       "\n",
       "    .dataframe thead th {\n",
       "        text-align: right;\n",
       "    }\n",
       "</style>\n",
       "<table border=\"1\" class=\"dataframe\">\n",
       "  <thead>\n",
       "    <tr style=\"text-align: right;\">\n",
       "      <th></th>\n",
       "      <th>online_store</th>\n",
       "      <th>product_id</th>\n",
       "      <th>action_type</th>\n",
       "      <th>quantity</th>\n",
       "      <th>price</th>\n",
       "    </tr>\n",
       "  </thead>\n",
       "  <tbody>\n",
       "    <tr>\n",
       "      <th>0</th>\n",
       "      <td>Shop1</td>\n",
       "      <td>0001</td>\n",
       "      <td>purchase</td>\n",
       "      <td>57772</td>\n",
       "      <td>100</td>\n",
       "    </tr>\n",
       "    <tr>\n",
       "      <th>1</th>\n",
       "      <td>Shop1</td>\n",
       "      <td>0002</td>\n",
       "      <td>purchase</td>\n",
       "      <td>58015</td>\n",
       "      <td>25</td>\n",
       "    </tr>\n",
       "    <tr>\n",
       "      <th>2</th>\n",
       "      <td>Shop1</td>\n",
       "      <td>0003</td>\n",
       "      <td>purchase</td>\n",
       "      <td>58242</td>\n",
       "      <td>80</td>\n",
       "    </tr>\n",
       "    <tr>\n",
       "      <th>3</th>\n",
       "      <td>Shop2</td>\n",
       "      <td>0001</td>\n",
       "      <td>purchase</td>\n",
       "      <td>58256</td>\n",
       "      <td>100</td>\n",
       "    </tr>\n",
       "    <tr>\n",
       "      <th>4</th>\n",
       "      <td>Shop2</td>\n",
       "      <td>0002</td>\n",
       "      <td>purchase</td>\n",
       "      <td>58648</td>\n",
       "      <td>25</td>\n",
       "    </tr>\n",
       "  </tbody>\n",
       "</table>\n",
       "</div>"
      ],
      "text/plain": [
       "  online_store product_id action_type  quantity  price\n",
       "0        Shop1       0001    purchase     57772    100\n",
       "1        Shop1       0002    purchase     58015     25\n",
       "2        Shop1       0003    purchase     58242     80\n",
       "3        Shop2       0001    purchase     58256    100\n",
       "4        Shop2       0002    purchase     58648     25"
      ]
     },
     "execution_count": 154,
     "metadata": {},
     "output_type": "execute_result"
    }
   ],
   "source": [
    "# Pandas - Merge & Join methods\n",
    "user_actions_pd_df = user_actions_pd_df.merge(product_catalog_pd_df, on='product_id')\n",
    "\n",
    "user_actions_pd_df.head()"
   ]
  },
  {
   "cell_type": "code",
   "execution_count": 155,
   "metadata": {},
   "outputs": [
    {
     "data": {
      "text/html": [
       "<div><style>\n",
       ".dataframe > thead > tr,\n",
       ".dataframe > tbody > tr {\n",
       "  text-align: right;\n",
       "  white-space: pre-wrap;\n",
       "}\n",
       "</style>\n",
       "<small>shape: (5, 5)</small><table border=\"1\" class=\"dataframe\"><thead><tr><th>online_store</th><th>product_id</th><th>action_type</th><th>quantity</th><th>price</th></tr><tr><td>str</td><td>str</td><td>str</td><td>i32</td><td>i64</td></tr></thead><tbody><tr><td>&quot;Shop2&quot;</td><td>&quot;0002&quot;</td><td>&quot;purchase&quot;</td><td>58648</td><td>25</td></tr><tr><td>&quot;Shop3&quot;</td><td>&quot;0002&quot;</td><td>&quot;purchase&quot;</td><td>58326</td><td>25</td></tr><tr><td>&quot;Shop3&quot;</td><td>&quot;0003&quot;</td><td>&quot;purchase&quot;</td><td>59107</td><td>80</td></tr><tr><td>&quot;Shop1&quot;</td><td>&quot;0003&quot;</td><td>&quot;purchase&quot;</td><td>58242</td><td>80</td></tr><tr><td>&quot;Shop3&quot;</td><td>&quot;0001&quot;</td><td>&quot;purchase&quot;</td><td>57891</td><td>100</td></tr></tbody></table></div>"
      ],
      "text/plain": [
       "shape: (5, 5)\n",
       "┌──────────────┬────────────┬─────────────┬──────────┬───────┐\n",
       "│ online_store ┆ product_id ┆ action_type ┆ quantity ┆ price │\n",
       "│ ---          ┆ ---        ┆ ---         ┆ ---      ┆ ---   │\n",
       "│ str          ┆ str        ┆ str         ┆ i32      ┆ i64   │\n",
       "╞══════════════╪════════════╪═════════════╪══════════╪═══════╡\n",
       "│ Shop2        ┆ 0002       ┆ purchase    ┆ 58648    ┆ 25    │\n",
       "│ Shop3        ┆ 0002       ┆ purchase    ┆ 58326    ┆ 25    │\n",
       "│ Shop3        ┆ 0003       ┆ purchase    ┆ 59107    ┆ 80    │\n",
       "│ Shop1        ┆ 0003       ┆ purchase    ┆ 58242    ┆ 80    │\n",
       "│ Shop3        ┆ 0001       ┆ purchase    ┆ 57891    ┆ 100   │\n",
       "└──────────────┴────────────┴─────────────┴──────────┴───────┘"
      ]
     },
     "execution_count": 155,
     "metadata": {},
     "output_type": "execute_result"
    }
   ],
   "source": [
    "# Polars - Join method\n",
    "user_actions_pl_df = user_actions_pl_df.join(product_catalog_pl_df, on='product_id')\n",
    "\n",
    "user_actions_pl_df.tail()"
   ]
  },
  {
   "cell_type": "markdown",
   "metadata": {},
   "source": [
    "# **13 Add New Column**"
   ]
  },
  {
   "cell_type": "code",
   "execution_count": 156,
   "metadata": {},
   "outputs": [
    {
     "data": {
      "text/html": [
       "<div>\n",
       "<style scoped>\n",
       "    .dataframe tbody tr th:only-of-type {\n",
       "        vertical-align: middle;\n",
       "    }\n",
       "\n",
       "    .dataframe tbody tr th {\n",
       "        vertical-align: top;\n",
       "    }\n",
       "\n",
       "    .dataframe thead th {\n",
       "        text-align: right;\n",
       "    }\n",
       "</style>\n",
       "<table border=\"1\" class=\"dataframe\">\n",
       "  <thead>\n",
       "    <tr style=\"text-align: right;\">\n",
       "      <th></th>\n",
       "      <th>online_store</th>\n",
       "      <th>action_type</th>\n",
       "      <th>total</th>\n",
       "    </tr>\n",
       "  </thead>\n",
       "  <tbody>\n",
       "    <tr>\n",
       "      <th>0</th>\n",
       "      <td>Shop1</td>\n",
       "      <td>purchase</td>\n",
       "      <td>5777200</td>\n",
       "    </tr>\n",
       "    <tr>\n",
       "      <th>1</th>\n",
       "      <td>Shop1</td>\n",
       "      <td>purchase</td>\n",
       "      <td>1450375</td>\n",
       "    </tr>\n",
       "    <tr>\n",
       "      <th>2</th>\n",
       "      <td>Shop1</td>\n",
       "      <td>purchase</td>\n",
       "      <td>4659360</td>\n",
       "    </tr>\n",
       "    <tr>\n",
       "      <th>3</th>\n",
       "      <td>Shop2</td>\n",
       "      <td>purchase</td>\n",
       "      <td>5825600</td>\n",
       "    </tr>\n",
       "    <tr>\n",
       "      <th>4</th>\n",
       "      <td>Shop2</td>\n",
       "      <td>purchase</td>\n",
       "      <td>1466200</td>\n",
       "    </tr>\n",
       "  </tbody>\n",
       "</table>\n",
       "</div>"
      ],
      "text/plain": [
       "  online_store action_type    total\n",
       "0        Shop1    purchase  5777200\n",
       "1        Shop1    purchase  1450375\n",
       "2        Shop1    purchase  4659360\n",
       "3        Shop2    purchase  5825600\n",
       "4        Shop2    purchase  1466200"
      ]
     },
     "execution_count": 156,
     "metadata": {},
     "output_type": "execute_result"
    }
   ],
   "source": [
    "# Pandas\n",
    "user_actions_pd_df[\"total\"] = (\n",
    "    user_actions_pd_df[\"price\"] * user_actions_pd_df[\"quantity\"]\n",
    ")\n",
    "user_actions_pd_df = user_actions_pd_df[[\"online_store\", \"action_type\", \"total\"]]\n",
    "user_actions_pd_df.head()"
   ]
  },
  {
   "cell_type": "code",
   "execution_count": 157,
   "metadata": {},
   "outputs": [
    {
     "data": {
      "text/html": [
       "<div><style>\n",
       ".dataframe > thead > tr,\n",
       ".dataframe > tbody > tr {\n",
       "  text-align: right;\n",
       "  white-space: pre-wrap;\n",
       "}\n",
       "</style>\n",
       "<small>shape: (5, 3)</small><table border=\"1\" class=\"dataframe\"><thead><tr><th>online_store</th><th>action_type</th><th>total</th></tr><tr><td>str</td><td>str</td><td>i64</td></tr></thead><tbody><tr><td>&quot;Shop2&quot;</td><td>&quot;purchase&quot;</td><td>5825600</td></tr><tr><td>&quot;Shop1&quot;</td><td>&quot;purchase&quot;</td><td>1450375</td></tr><tr><td>&quot;Shop2&quot;</td><td>&quot;purchase&quot;</td><td>4676640</td></tr><tr><td>&quot;Shop1&quot;</td><td>&quot;purchase&quot;</td><td>5777200</td></tr><tr><td>&quot;Shop2&quot;</td><td>&quot;purchase&quot;</td><td>1466200</td></tr></tbody></table></div>"
      ],
      "text/plain": [
       "shape: (5, 3)\n",
       "┌──────────────┬─────────────┬─────────┐\n",
       "│ online_store ┆ action_type ┆ total   │\n",
       "│ ---          ┆ ---         ┆ ---     │\n",
       "│ str          ┆ str         ┆ i64     │\n",
       "╞══════════════╪═════════════╪═════════╡\n",
       "│ Shop2        ┆ purchase    ┆ 5825600 │\n",
       "│ Shop1        ┆ purchase    ┆ 1450375 │\n",
       "│ Shop2        ┆ purchase    ┆ 4676640 │\n",
       "│ Shop1        ┆ purchase    ┆ 5777200 │\n",
       "│ Shop2        ┆ purchase    ┆ 1466200 │\n",
       "└──────────────┴─────────────┴─────────┘"
      ]
     },
     "execution_count": 157,
     "metadata": {},
     "output_type": "execute_result"
    }
   ],
   "source": [
    "# Polars\n",
    "user_actions_pl_df = user_actions_pl_df.with_columns((pl.col(\"price\") * pl.col(\"quantity\")).alias(\"total\"))\n",
    "\n",
    "user_actions_pl_df_01 = user_actions_pl_df.select(\"online_store\", \"action_type\", \"total\")\n",
    "user_actions_pl_df_01.head()"
   ]
  },
  {
   "cell_type": "code",
   "execution_count": 158,
   "metadata": {},
   "outputs": [
    {
     "data": {
      "text/html": [
       "<div><style>\n",
       ".dataframe > thead > tr,\n",
       ".dataframe > tbody > tr {\n",
       "  text-align: right;\n",
       "  white-space: pre-wrap;\n",
       "}\n",
       "</style>\n",
       "<small>shape: (5, 3)</small><table border=\"1\" class=\"dataframe\"><thead><tr><th>online_store</th><th>action_type</th><th>total 02</th></tr><tr><td>str</td><td>str</td><td>i64</td></tr></thead><tbody><tr><td>&quot;Shop2&quot;</td><td>&quot;purchase&quot;</td><td>5825600</td></tr><tr><td>&quot;Shop1&quot;</td><td>&quot;purchase&quot;</td><td>1450375</td></tr><tr><td>&quot;Shop2&quot;</td><td>&quot;purchase&quot;</td><td>4676640</td></tr><tr><td>&quot;Shop1&quot;</td><td>&quot;purchase&quot;</td><td>5777200</td></tr><tr><td>&quot;Shop2&quot;</td><td>&quot;purchase&quot;</td><td>1466200</td></tr></tbody></table></div>"
      ],
      "text/plain": [
       "shape: (5, 3)\n",
       "┌──────────────┬─────────────┬──────────┐\n",
       "│ online_store ┆ action_type ┆ total 02 │\n",
       "│ ---          ┆ ---         ┆ ---      │\n",
       "│ str          ┆ str         ┆ i64      │\n",
       "╞══════════════╪═════════════╪══════════╡\n",
       "│ Shop2        ┆ purchase    ┆ 5825600  │\n",
       "│ Shop1        ┆ purchase    ┆ 1450375  │\n",
       "│ Shop2        ┆ purchase    ┆ 4676640  │\n",
       "│ Shop1        ┆ purchase    ┆ 5777200  │\n",
       "│ Shop2        ┆ purchase    ┆ 1466200  │\n",
       "└──────────────┴─────────────┴──────────┘"
      ]
     },
     "execution_count": 158,
     "metadata": {},
     "output_type": "execute_result"
    }
   ],
   "source": [
    "# Polars Option 02\n",
    "user_actions_pl_df_02 = user_actions_pl_df.select(\"online_store\",\"action_type\",\n",
    "    (pl.col(\"price\") * pl.col(\"quantity\")).alias(\"total 02\"),)\n",
    "\n",
    "user_actions_pl_df_02.head()"
   ]
  },
  {
   "cell_type": "markdown",
   "metadata": {},
   "source": [
    "# **14 Pivot Table**"
   ]
  },
  {
   "cell_type": "code",
   "execution_count": 159,
   "metadata": {},
   "outputs": [
    {
     "data": {
      "text/html": [
       "<div>\n",
       "<style scoped>\n",
       "    .dataframe tbody tr th:only-of-type {\n",
       "        vertical-align: middle;\n",
       "    }\n",
       "\n",
       "    .dataframe tbody tr th {\n",
       "        vertical-align: top;\n",
       "    }\n",
       "\n",
       "    .dataframe thead th {\n",
       "        text-align: right;\n",
       "    }\n",
       "</style>\n",
       "<table border=\"1\" class=\"dataframe\">\n",
       "  <thead>\n",
       "    <tr style=\"text-align: right;\">\n",
       "      <th>online_store</th>\n",
       "      <th>Shop1</th>\n",
       "      <th>Shop2</th>\n",
       "      <th>Shop3</th>\n",
       "    </tr>\n",
       "    <tr>\n",
       "      <th>action_type</th>\n",
       "      <th></th>\n",
       "      <th></th>\n",
       "      <th></th>\n",
       "    </tr>\n",
       "  </thead>\n",
       "  <tbody>\n",
       "    <tr>\n",
       "      <th>purchase</th>\n",
       "      <td>11886935</td>\n",
       "      <td>11968440</td>\n",
       "      <td>11975810</td>\n",
       "    </tr>\n",
       "  </tbody>\n",
       "</table>\n",
       "</div>"
      ],
      "text/plain": [
       "online_store     Shop1     Shop2     Shop3\n",
       "action_type                               \n",
       "purchase      11886935  11968440  11975810"
      ]
     },
     "execution_count": 159,
     "metadata": {},
     "output_type": "execute_result"
    }
   ],
   "source": [
    "# Pandas\n",
    "result_pd = user_actions_pd_df.pivot_table(columns=\"online_store\",index=\"action_type\",values=\"total\",aggfunc=\"sum\",)\n",
    "\n",
    "result_pd"
   ]
  },
  {
   "cell_type": "code",
   "execution_count": 160,
   "metadata": {},
   "outputs": [
    {
     "data": {
      "text/html": [
       "<div><style>\n",
       ".dataframe > thead > tr,\n",
       ".dataframe > tbody > tr {\n",
       "  text-align: right;\n",
       "  white-space: pre-wrap;\n",
       "}\n",
       "</style>\n",
       "<small>shape: (1, 4)</small><table border=\"1\" class=\"dataframe\"><thead><tr><th>action_type</th><th>Shop2</th><th>Shop1</th><th>Shop3</th></tr><tr><td>str</td><td>i64</td><td>i64</td><td>i64</td></tr></thead><tbody><tr><td>&quot;purchase&quot;</td><td>11968440</td><td>11886935</td><td>11975810</td></tr></tbody></table></div>"
      ],
      "text/plain": [
       "shape: (1, 4)\n",
       "┌─────────────┬──────────┬──────────┬──────────┐\n",
       "│ action_type ┆ Shop2    ┆ Shop1    ┆ Shop3    │\n",
       "│ ---         ┆ ---      ┆ ---      ┆ ---      │\n",
       "│ str         ┆ i64      ┆ i64      ┆ i64      │\n",
       "╞═════════════╪══════════╪══════════╪══════════╡\n",
       "│ purchase    ┆ 11968440 ┆ 11886935 ┆ 11975810 │\n",
       "└─────────────┴──────────┴──────────┴──────────┘"
      ]
     },
     "execution_count": 160,
     "metadata": {},
     "output_type": "execute_result"
    }
   ],
   "source": [
    "# Polars\n",
    "result_pl = user_actions_pl_df.pivot(on=\"online_store\", index=\"action_type\", \n",
    "                                    values=\"total\", aggregate_function=\"sum\",)\n",
    "\n",
    "result_pl"
   ]
  }
 ],
 "metadata": {
  "kernelspec": {
   "display_name": "Python 3",
   "language": "python",
   "name": "python3"
  },
  "language_info": {
   "codemirror_mode": {
    "name": "ipython",
    "version": 3
   },
   "file_extension": ".py",
   "mimetype": "text/x-python",
   "name": "python",
   "nbconvert_exporter": "python",
   "pygments_lexer": "ipython3",
   "version": "3.13.1"
  }
 },
 "nbformat": 4,
 "nbformat_minor": 2
}
