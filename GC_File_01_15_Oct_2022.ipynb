{
  "nbformat": 4,
  "nbformat_minor": 0,
  "metadata": {
    "colab": {
      "provenance": [],
      "collapsed_sections": [],
      "authorship_tag": "ABX9TyNSihtK8L+7dMBtLexk26oo",
      "include_colab_link": true
    },
    "kernelspec": {
      "name": "python3",
      "display_name": "Python 3"
    },
    "language_info": {
      "name": "python"
    }
  },
  "cells": [
    {
      "cell_type": "markdown",
      "metadata": {
        "id": "view-in-github",
        "colab_type": "text"
      },
      "source": [
        "<a href=\"https://colab.research.google.com/github/akshayyewle/akshayyewle/blob/main/GC_File_01_15_Oct_2022.ipynb\" target=\"_parent\"><img src=\"https://colab.research.google.com/assets/colab-badge.svg\" alt=\"Open In Colab\"/></a>"
      ]
    },
    {
      "cell_type": "code",
      "execution_count": null,
      "metadata": {
        "colab": {
          "base_uri": "https://localhost:8080/"
        },
        "id": "Eo2tQaBPN2Mr",
        "outputId": "82538fa4-1c3d-4250-a86a-1f23465dfff9"
      },
      "outputs": [
        {
          "output_type": "stream",
          "name": "stdout",
          "text": [
            "Hello\n",
            "<class 'str'>\n"
          ]
        }
      ],
      "source": [
        "a = \"\"\"Hello\"\"\"\n",
        "print(a)\n",
        "print(type(a))"
      ]
    },
    {
      "cell_type": "code",
      "source": [
        "name = input(\"What's your name? \")\n",
        "print(\"Hello,\", name)\n",
        "print(\"Let's do a multiplication with you.\")\n",
        "x = input(\"Enter your first operand: \")\n",
        "y = input(\"Enter your Second Operand: \")\n",
        "print(\"The answer for {} times {} is {}\".format(x, y, float(x)*float(y)))"
      ],
      "metadata": {
        "colab": {
          "base_uri": "https://localhost:8080/"
        },
        "id": "1Nt18p_R0o9b",
        "outputId": "737e7185-fb27-44b0-c601-41c0fda7e63c"
      },
      "execution_count": null,
      "outputs": [
        {
          "output_type": "stream",
          "name": "stdout",
          "text": [
            "What's your name? Akshay\n",
            "Hello, Akshay\n",
            "Let's do a multiplication with you.\n",
            "Enter your first operand: 5\n",
            "Enter your Second Operand: 2\n",
            "The answer for 5 times 2 is 10.0\n"
          ]
        }
      ]
    }
  ]
}