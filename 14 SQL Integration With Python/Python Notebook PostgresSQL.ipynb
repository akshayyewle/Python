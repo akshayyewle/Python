{
 "cells": [
  {
   "cell_type": "code",
   "execution_count": 1,
   "metadata": {},
   "outputs": [],
   "source": [
    "import pandas as pd \n",
    "import sqlalchemy \n",
    "import psycopg2"
   ]
  },
  {
   "cell_type": "markdown",
   "metadata": {},
   "source": [
    "# **Create Query Engine**\n",
    "\n",
    "* SQLAlchemy Documentation\n",
    "    https://docs.sqlalchemy.org/en/20/core/engines.html"
   ]
  },
  {
   "cell_type": "code",
   "execution_count": 8,
   "metadata": {},
   "outputs": [],
   "source": [
    "PGSQL_Server = 'localhost:5432'  # Use Your Server Name\n",
    "PGSQL_Username = 'postgres'     # Use Your Username\n",
    "PGSQL_Password = '23poonam' # Use Your Password\n",
    "PGSQL_Database = 'postgres'\n",
    "\n",
    "engine = sqlalchemy.create_engine(f'postgresql://{PGSQL_Username}:{PGSQL_Password}@{PGSQL_Server}/{PGSQL_Database}')"
   ]
  },
  {
   "cell_type": "markdown",
   "metadata": {},
   "source": [
    "# **Fetch Data Table**"
   ]
  },
  {
   "cell_type": "code",
   "execution_count": 9,
   "metadata": {},
   "outputs": [
    {
     "name": "stdout",
     "output_type": "stream",
     "text": [
      "(4, 3)\n"
     ]
    },
    {
     "data": {
      "text/html": [
       "<div>\n",
       "<style scoped>\n",
       "    .dataframe tbody tr th:only-of-type {\n",
       "        vertical-align: middle;\n",
       "    }\n",
       "\n",
       "    .dataframe tbody tr th {\n",
       "        vertical-align: top;\n",
       "    }\n",
       "\n",
       "    .dataframe thead th {\n",
       "        text-align: right;\n",
       "    }\n",
       "</style>\n",
       "<table border=\"1\" class=\"dataframe\">\n",
       "  <thead>\n",
       "    <tr style=\"text-align: right;\">\n",
       "      <th></th>\n",
       "      <th>customer_id</th>\n",
       "      <th>transaction_id</th>\n",
       "      <th>amount</th>\n",
       "    </tr>\n",
       "  </thead>\n",
       "  <tbody>\n",
       "    <tr>\n",
       "      <th>0</th>\n",
       "      <td>1001</td>\n",
       "      <td>339473</td>\n",
       "      <td>89</td>\n",
       "    </tr>\n",
       "    <tr>\n",
       "      <th>1</th>\n",
       "      <td>1002</td>\n",
       "      <td>359433</td>\n",
       "      <td>5</td>\n",
       "    </tr>\n",
       "    <tr>\n",
       "      <th>2</th>\n",
       "      <td>1003</td>\n",
       "      <td>43176</td>\n",
       "      <td>52</td>\n",
       "    </tr>\n",
       "    <tr>\n",
       "      <th>3</th>\n",
       "      <td>1004</td>\n",
       "      <td>27169</td>\n",
       "      <td>19</td>\n",
       "    </tr>\n",
       "  </tbody>\n",
       "</table>\n",
       "</div>"
      ],
      "text/plain": [
       "   customer_id  transaction_id  amount\n",
       "0         1001          339473      89\n",
       "1         1002          359433       5\n",
       "2         1003           43176      52\n",
       "3         1004           27169      19"
      ]
     },
     "execution_count": 9,
     "metadata": {},
     "output_type": "execute_result"
    }
   ],
   "source": [
    "df = pd.read_sql_table(table_name='transactions',con=engine,\n",
    "                       columns=[])\n",
    "\n",
    "print(df.shape)\n",
    "df.head()"
   ]
  },
  {
   "cell_type": "code",
   "execution_count": 10,
   "metadata": {},
   "outputs": [
    {
     "name": "stdout",
     "output_type": "stream",
     "text": [
      "(4, 2)\n"
     ]
    },
    {
     "data": {
      "text/html": [
       "<div>\n",
       "<style scoped>\n",
       "    .dataframe tbody tr th:only-of-type {\n",
       "        vertical-align: middle;\n",
       "    }\n",
       "\n",
       "    .dataframe tbody tr th {\n",
       "        vertical-align: top;\n",
       "    }\n",
       "\n",
       "    .dataframe thead th {\n",
       "        text-align: right;\n",
       "    }\n",
       "</style>\n",
       "<table border=\"1\" class=\"dataframe\">\n",
       "  <thead>\n",
       "    <tr style=\"text-align: right;\">\n",
       "      <th></th>\n",
       "      <th>customer_id</th>\n",
       "      <th>transaction_id</th>\n",
       "    </tr>\n",
       "  </thead>\n",
       "  <tbody>\n",
       "    <tr>\n",
       "      <th>0</th>\n",
       "      <td>1001</td>\n",
       "      <td>339473</td>\n",
       "    </tr>\n",
       "    <tr>\n",
       "      <th>1</th>\n",
       "      <td>1002</td>\n",
       "      <td>359433</td>\n",
       "    </tr>\n",
       "    <tr>\n",
       "      <th>2</th>\n",
       "      <td>1003</td>\n",
       "      <td>43176</td>\n",
       "    </tr>\n",
       "    <tr>\n",
       "      <th>3</th>\n",
       "      <td>1004</td>\n",
       "      <td>27169</td>\n",
       "    </tr>\n",
       "  </tbody>\n",
       "</table>\n",
       "</div>"
      ],
      "text/plain": [
       "   customer_id  transaction_id\n",
       "0         1001          339473\n",
       "1         1002          359433\n",
       "2         1003           43176\n",
       "3         1004           27169"
      ]
     },
     "execution_count": 10,
     "metadata": {},
     "output_type": "execute_result"
    }
   ],
   "source": [
    "df = pd.read_sql_table(table_name='transactions',con=engine,\n",
    "                       columns=['customer_id','transaction_id'])\n",
    "\n",
    "print(df.shape)\n",
    "df.head()"
   ]
  },
  {
   "cell_type": "markdown",
   "metadata": {},
   "source": [
    "# **Fetch Data Using SQL Query**"
   ]
  },
  {
   "cell_type": "code",
   "execution_count": null,
   "metadata": {},
   "outputs": [
    {
     "name": "stdout",
     "output_type": "stream",
     "text": [
      "(1163, 17)\n"
     ]
    },
    {
     "data": {
      "text/html": [
       "<div>\n",
       "<style scoped>\n",
       "    .dataframe tbody tr th:only-of-type {\n",
       "        vertical-align: middle;\n",
       "    }\n",
       "\n",
       "    .dataframe tbody tr th {\n",
       "        vertical-align: top;\n",
       "    }\n",
       "\n",
       "    .dataframe thead th {\n",
       "        text-align: right;\n",
       "    }\n",
       "</style>\n",
       "<table border=\"1\" class=\"dataframe\">\n",
       "  <thead>\n",
       "    <tr style=\"text-align: right;\">\n",
       "      <th></th>\n",
       "      <th>Patient ID</th>\n",
       "      <th>Age</th>\n",
       "      <th>Gender</th>\n",
       "      <th>Ethnicity</th>\n",
       "      <th>Marital Status</th>\n",
       "      <th>Education Level</th>\n",
       "      <th>OCD Diagnosis Date</th>\n",
       "      <th>Duration of Symptoms (months)</th>\n",
       "      <th>Previous Diagnoses</th>\n",
       "      <th>Family History of OCD</th>\n",
       "      <th>Obsession Type</th>\n",
       "      <th>Compulsion Type</th>\n",
       "      <th>Y-BOCS Score (Obsessions)</th>\n",
       "      <th>Y-BOCS Score (Compulsions)</th>\n",
       "      <th>Depression Diagnosis</th>\n",
       "      <th>Anxiety Diagnosis</th>\n",
       "      <th>Medications</th>\n",
       "    </tr>\n",
       "  </thead>\n",
       "  <tbody>\n",
       "    <tr>\n",
       "      <th>0</th>\n",
       "      <td>1018</td>\n",
       "      <td>32</td>\n",
       "      <td>Female</td>\n",
       "      <td>African</td>\n",
       "      <td>Single</td>\n",
       "      <td>Some College</td>\n",
       "      <td>2016-07-15</td>\n",
       "      <td>203</td>\n",
       "      <td>MDD</td>\n",
       "      <td>No</td>\n",
       "      <td>Harm-related</td>\n",
       "      <td>Checking</td>\n",
       "      <td>17</td>\n",
       "      <td>10</td>\n",
       "      <td>Yes</td>\n",
       "      <td>Yes</td>\n",
       "      <td>SNRI</td>\n",
       "    </tr>\n",
       "    <tr>\n",
       "      <th>1</th>\n",
       "      <td>2406</td>\n",
       "      <td>69</td>\n",
       "      <td>Male</td>\n",
       "      <td>African</td>\n",
       "      <td>Divorced</td>\n",
       "      <td>Some College</td>\n",
       "      <td>2017-04-28</td>\n",
       "      <td>180</td>\n",
       "      <td>None</td>\n",
       "      <td>Yes</td>\n",
       "      <td>Harm-related</td>\n",
       "      <td>Washing</td>\n",
       "      <td>21</td>\n",
       "      <td>25</td>\n",
       "      <td>Yes</td>\n",
       "      <td>Yes</td>\n",
       "      <td>SSRI</td>\n",
       "    </tr>\n",
       "    <tr>\n",
       "      <th>2</th>\n",
       "      <td>1188</td>\n",
       "      <td>57</td>\n",
       "      <td>Male</td>\n",
       "      <td>Hispanic</td>\n",
       "      <td>Divorced</td>\n",
       "      <td>College Degree</td>\n",
       "      <td>2018-02-02</td>\n",
       "      <td>173</td>\n",
       "      <td>MDD</td>\n",
       "      <td>No</td>\n",
       "      <td>Contamination</td>\n",
       "      <td>Checking</td>\n",
       "      <td>3</td>\n",
       "      <td>4</td>\n",
       "      <td>No</td>\n",
       "      <td>No</td>\n",
       "      <td>Benzodiazepine</td>\n",
       "    </tr>\n",
       "    <tr>\n",
       "      <th>3</th>\n",
       "      <td>5824</td>\n",
       "      <td>56</td>\n",
       "      <td>Female</td>\n",
       "      <td>Hispanic</td>\n",
       "      <td>Married</td>\n",
       "      <td>High School</td>\n",
       "      <td>2022-02-20</td>\n",
       "      <td>168</td>\n",
       "      <td>PTSD</td>\n",
       "      <td>Yes</td>\n",
       "      <td>Hoarding</td>\n",
       "      <td>Ordering</td>\n",
       "      <td>39</td>\n",
       "      <td>18</td>\n",
       "      <td>No</td>\n",
       "      <td>No</td>\n",
       "      <td>None</td>\n",
       "    </tr>\n",
       "    <tr>\n",
       "      <th>4</th>\n",
       "      <td>6946</td>\n",
       "      <td>32</td>\n",
       "      <td>Female</td>\n",
       "      <td>Asian</td>\n",
       "      <td>Married</td>\n",
       "      <td>College Degree</td>\n",
       "      <td>2016-06-25</td>\n",
       "      <td>46</td>\n",
       "      <td>GAD</td>\n",
       "      <td>No</td>\n",
       "      <td>Hoarding</td>\n",
       "      <td>Ordering</td>\n",
       "      <td>26</td>\n",
       "      <td>11</td>\n",
       "      <td>Yes</td>\n",
       "      <td>Yes</td>\n",
       "      <td>SSRI</td>\n",
       "    </tr>\n",
       "  </tbody>\n",
       "</table>\n",
       "</div>"
      ],
      "text/plain": [
       "   Patient ID  Age  Gender Ethnicity Marital Status Education Level  \\\n",
       "0        1018   32  Female   African         Single    Some College   \n",
       "1        2406   69    Male   African       Divorced    Some College   \n",
       "2        1188   57    Male  Hispanic       Divorced  College Degree   \n",
       "3        5824   56  Female  Hispanic        Married     High School   \n",
       "4        6946   32  Female     Asian        Married  College Degree   \n",
       "\n",
       "  OCD Diagnosis Date  Duration of Symptoms (months) Previous Diagnoses  \\\n",
       "0         2016-07-15                            203                MDD   \n",
       "1         2017-04-28                            180               None   \n",
       "2         2018-02-02                            173                MDD   \n",
       "3         2022-02-20                            168               PTSD   \n",
       "4         2016-06-25                             46                GAD   \n",
       "\n",
       "  Family History of OCD Obsession Type Compulsion Type  \\\n",
       "0                    No   Harm-related        Checking   \n",
       "1                   Yes   Harm-related         Washing   \n",
       "2                    No  Contamination        Checking   \n",
       "3                   Yes       Hoarding        Ordering   \n",
       "4                    No       Hoarding        Ordering   \n",
       "\n",
       "   Y-BOCS Score (Obsessions)  Y-BOCS Score (Compulsions) Depression Diagnosis  \\\n",
       "0                         17                          10                  Yes   \n",
       "1                         21                          25                  Yes   \n",
       "2                          3                           4                   No   \n",
       "3                         39                          18                   No   \n",
       "4                         26                          11                  Yes   \n",
       "\n",
       "  Anxiety Diagnosis     Medications  \n",
       "0               Yes            SNRI  \n",
       "1               Yes            SSRI  \n",
       "2                No  Benzodiazepine  \n",
       "3                No            None  \n",
       "4               Yes            SSRI  "
      ]
     },
     "execution_count": 25,
     "metadata": {},
     "output_type": "execute_result"
    }
   ],
   "source": [
    "MySQL_Query01 = \"\"\"\n",
    "SELECT * FROM transactions\n",
    "WHERE Age > 30\n",
    "\"\"\"\n",
    "\n",
    "df = pd.read_sql_query(MySQL_Query01,engine)\n",
    "\n",
    "print(df.shape)\n",
    "df.head()"
   ]
  },
  {
   "cell_type": "markdown",
   "metadata": {},
   "source": [
    "# **Enter Data Using SQL Query**"
   ]
  },
  {
   "cell_type": "code",
   "execution_count": null,
   "metadata": {},
   "outputs": [],
   "source": [
    "df.to_sql('ocd_data',con=engine,index=False,if_exists='replace')"
   ]
  }
 ],
 "metadata": {
  "kernelspec": {
   "display_name": "Python 3",
   "language": "python",
   "name": "python3"
  },
  "language_info": {
   "codemirror_mode": {
    "name": "ipython",
    "version": 3
   },
   "file_extension": ".py",
   "mimetype": "text/x-python",
   "name": "python",
   "nbconvert_exporter": "python",
   "pygments_lexer": "ipython3",
   "version": "3.11.6"
  }
 },
 "nbformat": 4,
 "nbformat_minor": 2
}
