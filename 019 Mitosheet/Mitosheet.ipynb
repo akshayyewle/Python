{
 "cells": [
  {
   "cell_type": "code",
   "execution_count": 1,
   "metadata": {},
   "outputs": [
    {
     "name": "stdout",
     "output_type": "stream",
     "text": [
      "Python 3.11.8\n"
     ]
    }
   ],
   "source": [
    "!python --version"
   ]
  },
  {
   "cell_type": "code",
   "execution_count": 2,
   "metadata": {},
   "outputs": [
    {
     "name": "stdout",
     "output_type": "stream",
     "text": [
      "Requirement already satisfied: mitosheet in c:\\users\\aksha\\appdata\\local\\programs\\python\\python311\\lib\\site-packages (0.1.566)\n",
      "Requirement already satisfied: jupyterlab~=3.0 in c:\\users\\aksha\\appdata\\local\\programs\\python\\python311\\lib\\site-packages (from mitosheet) (3.6.7)\n",
      "Requirement already satisfied: pandas>=0.24.2 in c:\\users\\aksha\\appdata\\local\\programs\\python\\python311\\lib\\site-packages (from mitosheet) (2.1.4)\n",
      "Requirement already satisfied: analytics-python in c:\\users\\aksha\\appdata\\local\\programs\\python\\python311\\lib\\site-packages (from mitosheet) (1.4.post1)\n",
      "Requirement already satisfied: plotly>=4.14.3 in c:\\users\\aksha\\appdata\\local\\programs\\python\\python311\\lib\\site-packages (from mitosheet) (5.18.0)\n",
      "Requirement already satisfied: chardet>=3.0.4 in c:\\users\\aksha\\appdata\\local\\programs\\python\\python311\\lib\\site-packages (from mitosheet) (5.2.0)\n",
      "Requirement already satisfied: openpyxl in c:\\users\\aksha\\appdata\\local\\programs\\python\\python311\\lib\\site-packages (from mitosheet) (3.1.2)\n",
      "Requirement already satisfied: ipython in c:\\users\\aksha\\appdata\\local\\programs\\python\\python311\\lib\\site-packages (from jupyterlab~=3.0->mitosheet) (8.22.1)\n",
      "Requirement already satisfied: packaging in c:\\users\\aksha\\appdata\\local\\programs\\python\\python311\\lib\\site-packages (from jupyterlab~=3.0->mitosheet) (23.2)\n",
      "Requirement already satisfied: tornado>=6.1.0 in c:\\users\\aksha\\appdata\\local\\programs\\python\\python311\\lib\\site-packages (from jupyterlab~=3.0->mitosheet) (6.3.3)\n",
      "Requirement already satisfied: jupyter-core in c:\\users\\aksha\\appdata\\local\\programs\\python\\python311\\lib\\site-packages (from jupyterlab~=3.0->mitosheet) (5.7.1)\n",
      "Requirement already satisfied: jupyterlab-server~=2.19 in c:\\users\\aksha\\appdata\\local\\programs\\python\\python311\\lib\\site-packages (from jupyterlab~=3.0->mitosheet) (2.25.2)\n",
      "Requirement already satisfied: jupyter-server<3,>=1.16.0 in c:\\users\\aksha\\appdata\\local\\programs\\python\\python311\\lib\\site-packages (from jupyterlab~=3.0->mitosheet) (2.12.5)\n",
      "Requirement already satisfied: jupyter-ydoc~=0.2.4 in c:\\users\\aksha\\appdata\\local\\programs\\python\\python311\\lib\\site-packages (from jupyterlab~=3.0->mitosheet) (0.2.5)\n",
      "Requirement already satisfied: jupyter-server-ydoc~=0.8.0 in c:\\users\\aksha\\appdata\\local\\programs\\python\\python311\\lib\\site-packages (from jupyterlab~=3.0->mitosheet) (0.8.0)\n",
      "Requirement already satisfied: nbclassic in c:\\users\\aksha\\appdata\\local\\programs\\python\\python311\\lib\\site-packages (from jupyterlab~=3.0->mitosheet) (1.0.0)\n",
      "Requirement already satisfied: notebook<7 in c:\\users\\aksha\\appdata\\local\\programs\\python\\python311\\lib\\site-packages (from jupyterlab~=3.0->mitosheet) (6.5.6)\n",
      "Requirement already satisfied: jinja2>=2.1 in c:\\users\\aksha\\appdata\\local\\programs\\python\\python311\\lib\\site-packages (from jupyterlab~=3.0->mitosheet) (3.1.2)\n",
      "Requirement already satisfied: numpy<2,>=1.23.2 in c:\\users\\aksha\\appdata\\local\\programs\\python\\python311\\lib\\site-packages (from pandas>=0.24.2->mitosheet) (1.26.4)\n",
      "Requirement already satisfied: python-dateutil>=2.8.2 in c:\\users\\aksha\\appdata\\local\\programs\\python\\python311\\lib\\site-packages (from pandas>=0.24.2->mitosheet) (2.8.2)\n",
      "Requirement already satisfied: pytz>=2020.1 in c:\\users\\aksha\\appdata\\local\\programs\\python\\python311\\lib\\site-packages (from pandas>=0.24.2->mitosheet) (2023.3.post1)\n",
      "Requirement already satisfied: tzdata>=2022.1 in c:\\users\\aksha\\appdata\\local\\programs\\python\\python311\\lib\\site-packages (from pandas>=0.24.2->mitosheet) (2023.3)\n",
      "Requirement already satisfied: tenacity>=6.2.0 in c:\\users\\aksha\\appdata\\local\\programs\\python\\python311\\lib\\site-packages (from plotly>=4.14.3->mitosheet) (8.2.3)\n",
      "Requirement already satisfied: requests<3.0,>=2.7 in c:\\users\\aksha\\appdata\\local\\programs\\python\\python311\\lib\\site-packages (from analytics-python->mitosheet) (2.31.0)\n",
      "Requirement already satisfied: six>=1.5 in c:\\users\\aksha\\appdata\\local\\programs\\python\\python311\\lib\\site-packages (from analytics-python->mitosheet) (1.16.0)\n",
      "Requirement already satisfied: monotonic>=1.5 in c:\\users\\aksha\\appdata\\local\\programs\\python\\python311\\lib\\site-packages (from analytics-python->mitosheet) (1.6)\n",
      "Requirement already satisfied: backoff==1.10.0 in c:\\users\\aksha\\appdata\\local\\programs\\python\\python311\\lib\\site-packages (from analytics-python->mitosheet) (1.10.0)\n",
      "Requirement already satisfied: et-xmlfile in c:\\users\\aksha\\appdata\\local\\programs\\python\\python311\\lib\\site-packages (from openpyxl->mitosheet) (1.1.0)\n",
      "Requirement already satisfied: MarkupSafe>=2.0 in c:\\users\\aksha\\appdata\\local\\programs\\python\\python311\\lib\\site-packages (from jinja2>=2.1->jupyterlab~=3.0->mitosheet) (2.1.3)\n",
      "Requirement already satisfied: anyio>=3.1.0 in c:\\users\\aksha\\appdata\\local\\programs\\python\\python311\\lib\\site-packages (from jupyter-server<3,>=1.16.0->jupyterlab~=3.0->mitosheet) (4.0.0)\n",
      "Requirement already satisfied: argon2-cffi in c:\\users\\aksha\\appdata\\local\\programs\\python\\python311\\lib\\site-packages (from jupyter-server<3,>=1.16.0->jupyterlab~=3.0->mitosheet) (23.1.0)\n",
      "Requirement already satisfied: jupyter-client>=7.4.4 in c:\\users\\aksha\\appdata\\local\\programs\\python\\python311\\lib\\site-packages (from jupyter-server<3,>=1.16.0->jupyterlab~=3.0->mitosheet) (7.4.9)\n",
      "Requirement already satisfied: jupyter-events>=0.9.0 in c:\\users\\aksha\\appdata\\local\\programs\\python\\python311\\lib\\site-packages (from jupyter-server<3,>=1.16.0->jupyterlab~=3.0->mitosheet) (0.9.0)\n",
      "Requirement already satisfied: jupyter-server-terminals in c:\\users\\aksha\\appdata\\local\\programs\\python\\python311\\lib\\site-packages (from jupyter-server<3,>=1.16.0->jupyterlab~=3.0->mitosheet) (0.5.2)\n",
      "Requirement already satisfied: nbconvert>=6.4.4 in c:\\users\\aksha\\appdata\\local\\programs\\python\\python311\\lib\\site-packages (from jupyter-server<3,>=1.16.0->jupyterlab~=3.0->mitosheet) (7.11.0)\n",
      "Requirement already satisfied: nbformat>=5.3.0 in c:\\users\\aksha\\appdata\\local\\programs\\python\\python311\\lib\\site-packages (from jupyter-server<3,>=1.16.0->jupyterlab~=3.0->mitosheet) (5.9.2)\n",
      "Requirement already satisfied: overrides in c:\\users\\aksha\\appdata\\local\\programs\\python\\python311\\lib\\site-packages (from jupyter-server<3,>=1.16.0->jupyterlab~=3.0->mitosheet) (7.4.0)\n",
      "Requirement already satisfied: prometheus-client in c:\\users\\aksha\\appdata\\local\\programs\\python\\python311\\lib\\site-packages (from jupyter-server<3,>=1.16.0->jupyterlab~=3.0->mitosheet) (0.18.0)\n",
      "Requirement already satisfied: pywinpty in c:\\users\\aksha\\appdata\\local\\programs\\python\\python311\\lib\\site-packages (from jupyter-server<3,>=1.16.0->jupyterlab~=3.0->mitosheet) (2.0.12)\n",
      "Requirement already satisfied: pyzmq>=24 in c:\\users\\aksha\\appdata\\local\\programs\\python\\python311\\lib\\site-packages (from jupyter-server<3,>=1.16.0->jupyterlab~=3.0->mitosheet) (24.0.1)\n",
      "Requirement already satisfied: send2trash>=1.8.2 in c:\\users\\aksha\\appdata\\local\\programs\\python\\python311\\lib\\site-packages (from jupyter-server<3,>=1.16.0->jupyterlab~=3.0->mitosheet) (1.8.2)\n",
      "Requirement already satisfied: terminado>=0.8.3 in c:\\users\\aksha\\appdata\\local\\programs\\python\\python311\\lib\\site-packages (from jupyter-server<3,>=1.16.0->jupyterlab~=3.0->mitosheet) (0.18.0)\n",
      "Requirement already satisfied: traitlets>=5.6.0 in c:\\users\\aksha\\appdata\\local\\programs\\python\\python311\\lib\\site-packages (from jupyter-server<3,>=1.16.0->jupyterlab~=3.0->mitosheet) (5.13.0)\n",
      "Requirement already satisfied: websocket-client in c:\\users\\aksha\\appdata\\local\\programs\\python\\python311\\lib\\site-packages (from jupyter-server<3,>=1.16.0->jupyterlab~=3.0->mitosheet) (1.6.4)\n",
      "Requirement already satisfied: platformdirs>=2.5 in c:\\users\\aksha\\appdata\\local\\programs\\python\\python311\\lib\\site-packages (from jupyter-core->jupyterlab~=3.0->mitosheet) (4.0.0)\n",
      "Requirement already satisfied: pywin32>=300 in c:\\users\\aksha\\appdata\\local\\programs\\python\\python311\\lib\\site-packages (from jupyter-core->jupyterlab~=3.0->mitosheet) (306)\n",
      "Requirement already satisfied: jupyter-server-fileid<1,>=0.6.0 in c:\\users\\aksha\\appdata\\local\\programs\\python\\python311\\lib\\site-packages (from jupyter-server-ydoc~=0.8.0->jupyterlab~=3.0->mitosheet) (0.9.1)\n",
      "Requirement already satisfied: ypy-websocket<0.9.0,>=0.8.2 in c:\\users\\aksha\\appdata\\local\\programs\\python\\python311\\lib\\site-packages (from jupyter-server-ydoc~=0.8.0->jupyterlab~=3.0->mitosheet) (0.8.4)\n",
      "Requirement already satisfied: y-py<0.7.0,>=0.6.0 in c:\\users\\aksha\\appdata\\local\\programs\\python\\python311\\lib\\site-packages (from jupyter-ydoc~=0.2.4->jupyterlab~=3.0->mitosheet) (0.6.2)\n",
      "Requirement already satisfied: babel>=2.10 in c:\\users\\aksha\\appdata\\local\\programs\\python\\python311\\lib\\site-packages (from jupyterlab-server~=2.19->jupyterlab~=3.0->mitosheet) (2.13.1)\n",
      "Requirement already satisfied: json5>=0.9.0 in c:\\users\\aksha\\appdata\\local\\programs\\python\\python311\\lib\\site-packages (from jupyterlab-server~=2.19->jupyterlab~=3.0->mitosheet) (0.9.14)\n",
      "Requirement already satisfied: jsonschema>=4.18.0 in c:\\users\\aksha\\appdata\\local\\programs\\python\\python311\\lib\\site-packages (from jupyterlab-server~=2.19->jupyterlab~=3.0->mitosheet) (4.20.0)\n",
      "Requirement already satisfied: ipython-genutils in c:\\users\\aksha\\appdata\\local\\programs\\python\\python311\\lib\\site-packages (from notebook<7->jupyterlab~=3.0->mitosheet) (0.2.0)\n",
      "Requirement already satisfied: nest-asyncio>=1.5 in c:\\users\\aksha\\appdata\\local\\programs\\python\\python311\\lib\\site-packages (from notebook<7->jupyterlab~=3.0->mitosheet) (1.5.8)\n",
      "Requirement already satisfied: ipykernel in c:\\users\\aksha\\appdata\\local\\programs\\python\\python311\\lib\\site-packages (from notebook<7->jupyterlab~=3.0->mitosheet) (6.29.3)\n",
      "Requirement already satisfied: notebook-shim>=0.2.3 in c:\\users\\aksha\\appdata\\local\\programs\\python\\python311\\lib\\site-packages (from nbclassic->jupyterlab~=3.0->mitosheet) (0.2.3)\n",
      "Requirement already satisfied: charset-normalizer<4,>=2 in c:\\users\\aksha\\appdata\\local\\programs\\python\\python311\\lib\\site-packages (from requests<3.0,>=2.7->analytics-python->mitosheet) (3.3.2)\n",
      "Requirement already satisfied: idna<4,>=2.5 in c:\\users\\aksha\\appdata\\local\\programs\\python\\python311\\lib\\site-packages (from requests<3.0,>=2.7->analytics-python->mitosheet) (3.4)\n",
      "Requirement already satisfied: urllib3<3,>=1.21.1 in c:\\users\\aksha\\appdata\\local\\programs\\python\\python311\\lib\\site-packages (from requests<3.0,>=2.7->analytics-python->mitosheet) (2.2.0)\n",
      "Requirement already satisfied: certifi>=2017.4.17 in c:\\users\\aksha\\appdata\\local\\programs\\python\\python311\\lib\\site-packages (from requests<3.0,>=2.7->analytics-python->mitosheet) (2023.7.22)\n",
      "Requirement already satisfied: decorator in c:\\users\\aksha\\appdata\\local\\programs\\python\\python311\\lib\\site-packages (from ipython->jupyterlab~=3.0->mitosheet) (5.1.1)\n",
      "Requirement already satisfied: jedi>=0.16 in c:\\users\\aksha\\appdata\\local\\programs\\python\\python311\\lib\\site-packages (from ipython->jupyterlab~=3.0->mitosheet) (0.19.1)\n",
      "Requirement already satisfied: matplotlib-inline in c:\\users\\aksha\\appdata\\local\\programs\\python\\python311\\lib\\site-packages (from ipython->jupyterlab~=3.0->mitosheet) (0.1.6)\n",
      "Requirement already satisfied: prompt-toolkit<3.1.0,>=3.0.41 in c:\\users\\aksha\\appdata\\local\\programs\\python\\python311\\lib\\site-packages (from ipython->jupyterlab~=3.0->mitosheet) (3.0.41)\n",
      "Requirement already satisfied: pygments>=2.4.0 in c:\\users\\aksha\\appdata\\local\\programs\\python\\python311\\lib\\site-packages (from ipython->jupyterlab~=3.0->mitosheet) (2.16.1)\n",
      "Requirement already satisfied: stack-data in c:\\users\\aksha\\appdata\\local\\programs\\python\\python311\\lib\\site-packages (from ipython->jupyterlab~=3.0->mitosheet) (0.6.3)\n",
      "Requirement already satisfied: colorama in c:\\users\\aksha\\appdata\\local\\programs\\python\\python311\\lib\\site-packages (from ipython->jupyterlab~=3.0->mitosheet) (0.4.6)\n",
      "Requirement already satisfied: sniffio>=1.1 in c:\\users\\aksha\\appdata\\local\\programs\\python\\python311\\lib\\site-packages (from anyio>=3.1.0->jupyter-server<3,>=1.16.0->jupyterlab~=3.0->mitosheet) (1.3.0)\n",
      "Requirement already satisfied: parso<0.9.0,>=0.8.3 in c:\\users\\aksha\\appdata\\local\\programs\\python\\python311\\lib\\site-packages (from jedi>=0.16->ipython->jupyterlab~=3.0->mitosheet) (0.8.3)\n",
      "Requirement already satisfied: attrs>=22.2.0 in c:\\users\\aksha\\appdata\\local\\programs\\python\\python311\\lib\\site-packages (from jsonschema>=4.18.0->jupyterlab-server~=2.19->jupyterlab~=3.0->mitosheet) (23.1.0)\n",
      "Requirement already satisfied: jsonschema-specifications>=2023.03.6 in c:\\users\\aksha\\appdata\\local\\programs\\python\\python311\\lib\\site-packages (from jsonschema>=4.18.0->jupyterlab-server~=2.19->jupyterlab~=3.0->mitosheet) (2023.11.1)\n",
      "Requirement already satisfied: referencing>=0.28.4 in c:\\users\\aksha\\appdata\\local\\programs\\python\\python311\\lib\\site-packages (from jsonschema>=4.18.0->jupyterlab-server~=2.19->jupyterlab~=3.0->mitosheet) (0.31.0)\n",
      "Requirement already satisfied: rpds-py>=0.7.1 in c:\\users\\aksha\\appdata\\local\\programs\\python\\python311\\lib\\site-packages (from jsonschema>=4.18.0->jupyterlab-server~=2.19->jupyterlab~=3.0->mitosheet) (0.13.0)\n",
      "Requirement already satisfied: entrypoints in c:\\users\\aksha\\appdata\\local\\programs\\python\\python311\\lib\\site-packages (from jupyter-client>=7.4.4->jupyter-server<3,>=1.16.0->jupyterlab~=3.0->mitosheet) (0.4)\n",
      "Requirement already satisfied: python-json-logger>=2.0.4 in c:\\users\\aksha\\appdata\\local\\programs\\python\\python311\\lib\\site-packages (from jupyter-events>=0.9.0->jupyter-server<3,>=1.16.0->jupyterlab~=3.0->mitosheet) (2.0.7)\n",
      "Requirement already satisfied: pyyaml>=5.3 in c:\\users\\aksha\\appdata\\local\\programs\\python\\python311\\lib\\site-packages (from jupyter-events>=0.9.0->jupyter-server<3,>=1.16.0->jupyterlab~=3.0->mitosheet) (6.0.1)\n",
      "Requirement already satisfied: rfc3339-validator in c:\\users\\aksha\\appdata\\local\\programs\\python\\python311\\lib\\site-packages (from jupyter-events>=0.9.0->jupyter-server<3,>=1.16.0->jupyterlab~=3.0->mitosheet) (0.1.4)\n",
      "Requirement already satisfied: rfc3986-validator>=0.1.1 in c:\\users\\aksha\\appdata\\local\\programs\\python\\python311\\lib\\site-packages (from jupyter-events>=0.9.0->jupyter-server<3,>=1.16.0->jupyterlab~=3.0->mitosheet) (0.1.1)\n",
      "Requirement already satisfied: beautifulsoup4 in c:\\users\\aksha\\appdata\\local\\programs\\python\\python311\\lib\\site-packages (from nbconvert>=6.4.4->jupyter-server<3,>=1.16.0->jupyterlab~=3.0->mitosheet) (4.12.3)\n",
      "Requirement already satisfied: bleach!=5.0.0 in c:\\users\\aksha\\appdata\\local\\programs\\python\\python311\\lib\\site-packages (from nbconvert>=6.4.4->jupyter-server<3,>=1.16.0->jupyterlab~=3.0->mitosheet) (6.1.0)\n",
      "Requirement already satisfied: defusedxml in c:\\users\\aksha\\appdata\\local\\programs\\python\\python311\\lib\\site-packages (from nbconvert>=6.4.4->jupyter-server<3,>=1.16.0->jupyterlab~=3.0->mitosheet) (0.7.1)\n",
      "Requirement already satisfied: jupyterlab-pygments in c:\\users\\aksha\\appdata\\local\\programs\\python\\python311\\lib\\site-packages (from nbconvert>=6.4.4->jupyter-server<3,>=1.16.0->jupyterlab~=3.0->mitosheet) (0.3.0)\n",
      "Requirement already satisfied: mistune<4,>=2.0.3 in c:\\users\\aksha\\appdata\\local\\programs\\python\\python311\\lib\\site-packages (from nbconvert>=6.4.4->jupyter-server<3,>=1.16.0->jupyterlab~=3.0->mitosheet) (3.0.2)\n",
      "Requirement already satisfied: nbclient>=0.5.0 in c:\\users\\aksha\\appdata\\local\\programs\\python\\python311\\lib\\site-packages (from nbconvert>=6.4.4->jupyter-server<3,>=1.16.0->jupyterlab~=3.0->mitosheet) (0.9.0)\n",
      "Requirement already satisfied: pandocfilters>=1.4.1 in c:\\users\\aksha\\appdata\\local\\programs\\python\\python311\\lib\\site-packages (from nbconvert>=6.4.4->jupyter-server<3,>=1.16.0->jupyterlab~=3.0->mitosheet) (1.5.0)\n",
      "Requirement already satisfied: tinycss2 in c:\\users\\aksha\\appdata\\local\\programs\\python\\python311\\lib\\site-packages (from nbconvert>=6.4.4->jupyter-server<3,>=1.16.0->jupyterlab~=3.0->mitosheet) (1.2.1)\n",
      "Requirement already satisfied: fastjsonschema in c:\\users\\aksha\\appdata\\local\\programs\\python\\python311\\lib\\site-packages (from nbformat>=5.3.0->jupyter-server<3,>=1.16.0->jupyterlab~=3.0->mitosheet) (2.19.0)\n",
      "Requirement already satisfied: wcwidth in c:\\users\\aksha\\appdata\\local\\programs\\python\\python311\\lib\\site-packages (from prompt-toolkit<3.1.0,>=3.0.41->ipython->jupyterlab~=3.0->mitosheet) (0.2.10)\n",
      "Requirement already satisfied: aiofiles<23,>=22.1.0 in c:\\users\\aksha\\appdata\\local\\programs\\python\\python311\\lib\\site-packages (from ypy-websocket<0.9.0,>=0.8.2->jupyter-server-ydoc~=0.8.0->jupyterlab~=3.0->mitosheet) (22.1.0)\n",
      "Requirement already satisfied: aiosqlite<1,>=0.17.0 in c:\\users\\aksha\\appdata\\local\\programs\\python\\python311\\lib\\site-packages (from ypy-websocket<0.9.0,>=0.8.2->jupyter-server-ydoc~=0.8.0->jupyterlab~=3.0->mitosheet) (0.20.0)\n",
      "Requirement already satisfied: argon2-cffi-bindings in c:\\users\\aksha\\appdata\\local\\programs\\python\\python311\\lib\\site-packages (from argon2-cffi->jupyter-server<3,>=1.16.0->jupyterlab~=3.0->mitosheet) (21.2.0)\n",
      "Requirement already satisfied: comm>=0.1.1 in c:\\users\\aksha\\appdata\\local\\programs\\python\\python311\\lib\\site-packages (from ipykernel->notebook<7->jupyterlab~=3.0->mitosheet) (0.2.0)\n",
      "Requirement already satisfied: debugpy>=1.6.5 in c:\\users\\aksha\\appdata\\local\\programs\\python\\python311\\lib\\site-packages (from ipykernel->notebook<7->jupyterlab~=3.0->mitosheet) (1.8.0)\n",
      "Requirement already satisfied: psutil in c:\\users\\aksha\\appdata\\local\\programs\\python\\python311\\lib\\site-packages (from ipykernel->notebook<7->jupyterlab~=3.0->mitosheet) (5.9.8)\n",
      "Requirement already satisfied: executing>=1.2.0 in c:\\users\\aksha\\appdata\\local\\programs\\python\\python311\\lib\\site-packages (from stack-data->ipython->jupyterlab~=3.0->mitosheet) (2.0.1)\n",
      "Requirement already satisfied: asttokens>=2.1.0 in c:\\users\\aksha\\appdata\\local\\programs\\python\\python311\\lib\\site-packages (from stack-data->ipython->jupyterlab~=3.0->mitosheet) (2.4.1)\n",
      "Requirement already satisfied: pure-eval in c:\\users\\aksha\\appdata\\local\\programs\\python\\python311\\lib\\site-packages (from stack-data->ipython->jupyterlab~=3.0->mitosheet) (0.2.2)\n",
      "Requirement already satisfied: typing_extensions>=4.0 in c:\\users\\aksha\\appdata\\local\\programs\\python\\python311\\lib\\site-packages (from aiosqlite<1,>=0.17.0->ypy-websocket<0.9.0,>=0.8.2->jupyter-server-ydoc~=0.8.0->jupyterlab~=3.0->mitosheet) (4.8.0)\n",
      "Requirement already satisfied: webencodings in c:\\users\\aksha\\appdata\\local\\programs\\python\\python311\\lib\\site-packages (from bleach!=5.0.0->nbconvert>=6.4.4->jupyter-server<3,>=1.16.0->jupyterlab~=3.0->mitosheet) (0.5.1)\n",
      "Requirement already satisfied: fqdn in c:\\users\\aksha\\appdata\\local\\programs\\python\\python311\\lib\\site-packages (from jsonschema[format-nongpl]>=4.18.0->jupyter-events>=0.9.0->jupyter-server<3,>=1.16.0->jupyterlab~=3.0->mitosheet) (1.5.1)\n",
      "Requirement already satisfied: isoduration in c:\\users\\aksha\\appdata\\local\\programs\\python\\python311\\lib\\site-packages (from jsonschema[format-nongpl]>=4.18.0->jupyter-events>=0.9.0->jupyter-server<3,>=1.16.0->jupyterlab~=3.0->mitosheet) (20.11.0)\n",
      "Requirement already satisfied: jsonpointer>1.13 in c:\\users\\aksha\\appdata\\local\\programs\\python\\python311\\lib\\site-packages (from jsonschema[format-nongpl]>=4.18.0->jupyter-events>=0.9.0->jupyter-server<3,>=1.16.0->jupyterlab~=3.0->mitosheet) (2.4)\n",
      "Requirement already satisfied: uri-template in c:\\users\\aksha\\appdata\\local\\programs\\python\\python311\\lib\\site-packages (from jsonschema[format-nongpl]>=4.18.0->jupyter-events>=0.9.0->jupyter-server<3,>=1.16.0->jupyterlab~=3.0->mitosheet) (1.3.0)\n",
      "Requirement already satisfied: webcolors>=1.11 in c:\\users\\aksha\\appdata\\local\\programs\\python\\python311\\lib\\site-packages (from jsonschema[format-nongpl]>=4.18.0->jupyter-events>=0.9.0->jupyter-server<3,>=1.16.0->jupyterlab~=3.0->mitosheet) (1.13)\n",
      "Requirement already satisfied: cffi>=1.0.1 in c:\\users\\aksha\\appdata\\local\\programs\\python\\python311\\lib\\site-packages (from argon2-cffi-bindings->argon2-cffi->jupyter-server<3,>=1.16.0->jupyterlab~=3.0->mitosheet) (1.16.0)\n",
      "Requirement already satisfied: soupsieve>1.2 in c:\\users\\aksha\\appdata\\local\\programs\\python\\python311\\lib\\site-packages (from beautifulsoup4->nbconvert>=6.4.4->jupyter-server<3,>=1.16.0->jupyterlab~=3.0->mitosheet) (2.5)\n",
      "Requirement already satisfied: pycparser in c:\\users\\aksha\\appdata\\local\\programs\\python\\python311\\lib\\site-packages (from cffi>=1.0.1->argon2-cffi-bindings->argon2-cffi->jupyter-server<3,>=1.16.0->jupyterlab~=3.0->mitosheet) (2.21)\n",
      "Requirement already satisfied: arrow>=0.15.0 in c:\\users\\aksha\\appdata\\local\\programs\\python\\python311\\lib\\site-packages (from isoduration->jsonschema[format-nongpl]>=4.18.0->jupyter-events>=0.9.0->jupyter-server<3,>=1.16.0->jupyterlab~=3.0->mitosheet) (1.3.0)\n",
      "Requirement already satisfied: types-python-dateutil>=2.8.10 in c:\\users\\aksha\\appdata\\local\\programs\\python\\python311\\lib\\site-packages (from arrow>=0.15.0->isoduration->jsonschema[format-nongpl]>=4.18.0->jupyter-events>=0.9.0->jupyter-server<3,>=1.16.0->jupyterlab~=3.0->mitosheet) (2.8.19.14)\n"
     ]
    }
   ],
   "source": [
    "!python -m pip install mitosheet"
   ]
  },
  {
   "cell_type": "code",
   "execution_count": 3,
   "metadata": {},
   "outputs": [],
   "source": [
    "from IPython.display import clear_output\n",
    "clear_output()\n",
    "\n",
    "import mitosheet"
   ]
  },
  {
   "cell_type": "code",
   "execution_count": 4,
   "metadata": {},
   "outputs": [
    {
     "ename": "Exception",
     "evalue": "The mitosheet currently only works in JupyterLab.\n\nTo see instructions on getting Mitosheet running in JupyterLab, find install instructions here: https://docs.trymito.io/getting-started/installing-mito",
     "output_type": "error",
     "traceback": [
      "\u001b[1;31m---------------------------------------------------------------------------\u001b[0m",
      "\u001b[1;31mException\u001b[0m                                 Traceback (most recent call last)",
      "Cell \u001b[1;32mIn[4], line 1\u001b[0m\n\u001b[1;32m----> 1\u001b[0m \u001b[43mmitosheet\u001b[49m\u001b[38;5;241;43m.\u001b[39;49m\u001b[43msheet\u001b[49m\u001b[43m(\u001b[49m\u001b[43m)\u001b[49m\n\u001b[0;32m      2\u001b[0m df \u001b[38;5;241m=\u001b[39m mitosheet\u001b[38;5;241m.\u001b[39msheet\u001b[38;5;241m.\u001b[39mload(\u001b[38;5;124m'\u001b[39m\u001b[38;5;124mFBS_Football_Cities.csv\u001b[39m\u001b[38;5;124m'\u001b[39m)\n",
      "File \u001b[1;32mc:\\Users\\aksha\\AppData\\Local\\Programs\\Python\\Python311\\Lib\\site-packages\\mitosheet\\mito_backend.py:416\u001b[0m, in \u001b[0;36msheet\u001b[1;34m(analysis_to_replay, view_df, sheet_functions, importers, editors, *args)\u001b[0m\n\u001b[0;32m    414\u001b[0m \u001b[38;5;28;01mif\u001b[39;00m is_in_vs_code() \u001b[38;5;129;01mor\u001b[39;00m is_in_google_colab():\n\u001b[0;32m    415\u001b[0m     log(\u001b[38;5;124m'\u001b[39m\u001b[38;5;124mmitosheet_sheet_call_location_failed\u001b[39m\u001b[38;5;124m'\u001b[39m, failed\u001b[38;5;241m=\u001b[39m\u001b[38;5;28;01mTrue\u001b[39;00m)\n\u001b[1;32m--> 416\u001b[0m     \u001b[38;5;28;01mraise\u001b[39;00m \u001b[38;5;167;01mException\u001b[39;00m(\u001b[38;5;124m\"\u001b[39m\u001b[38;5;124mThe mitosheet currently only works in JupyterLab.\u001b[39m\u001b[38;5;130;01m\\n\u001b[39;00m\u001b[38;5;130;01m\\n\u001b[39;00m\u001b[38;5;124mTo see instructions on getting Mitosheet running in JupyterLab, find install instructions here: https://docs.trymito.io/getting-started/installing-mito\u001b[39m\u001b[38;5;124m\"\u001b[39m)\n\u001b[0;32m    417\u001b[0m \u001b[38;5;28;01melif\u001b[39;00m is_dash():\n\u001b[0;32m    418\u001b[0m     log(\u001b[38;5;124m'\u001b[39m\u001b[38;5;124mmitosheet_sheet_call_location_failed\u001b[39m\u001b[38;5;124m'\u001b[39m, failed\u001b[38;5;241m=\u001b[39m\u001b[38;5;28;01mTrue\u001b[39;00m)\n",
      "\u001b[1;31mException\u001b[0m: The mitosheet currently only works in JupyterLab.\n\nTo see instructions on getting Mitosheet running in JupyterLab, find install instructions here: https://docs.trymito.io/getting-started/installing-mito"
     ]
    }
   ],
   "source": [
    "mitosheet.sheet()\n",
    "df = mitosheet.sheet.load('FBS_Football_Cities.csv')"
   ]
  }
 ],
 "metadata": {
  "kernelspec": {
   "display_name": "Python 3",
   "language": "python",
   "name": "python3"
  },
  "language_info": {
   "codemirror_mode": {
    "name": "ipython",
    "version": 3
   },
   "file_extension": ".py",
   "mimetype": "text/x-python",
   "name": "python",
   "nbconvert_exporter": "python",
   "pygments_lexer": "ipython3",
   "version": "3.11.8"
  },
  "orig_nbformat": 4
 },
 "nbformat": 4,
 "nbformat_minor": 2
}
