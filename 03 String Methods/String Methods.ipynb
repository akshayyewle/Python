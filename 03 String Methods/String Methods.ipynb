{
 "cells": [
  {
   "cell_type": "markdown",
   "metadata": {},
   "source": [
    "# **Setup**"
   ]
  },
  {
   "cell_type": "code",
   "execution_count": 1,
   "metadata": {},
   "outputs": [],
   "source": [
    "import pandas as pd \n",
    "import regex"
   ]
  },
  {
   "cell_type": "markdown",
   "metadata": {},
   "source": [
    "# **String Methods**"
   ]
  },
  {
   "cell_type": "code",
   "execution_count": 9,
   "metadata": {},
   "outputs": [
    {
     "name": "stdout",
     "output_type": "stream",
     "text": [
      "Hello\n"
     ]
    }
   ],
   "source": [
    "# text = \"In appointing David Cameron to one of the top four offices of state, Rishi Sunak has chosen to disregard his close association with one of the UK's biggest financial scandals of recent years.Two years ago, BBC Panorama revealed internal documents suggesting Cameron made about $10m (£8.2m) jetting around the world to promote a highly controversial finance business, Greensill Capital. Greensill, whose disgraced boss Lex Greensill was given an office in Downing Street under Cameron's premiership and later became both his friend and his employer, collapsed in March 2021. Billions of dollars of investors money was missing. Criminal inquiries into alleged fraud are ongoing in Germany and Switzerland, where Greensill has been named as a suspect. Greensill previously denied allegations from MPs on the Commons Treasury Committee in 2021 that his collapsed finance firm was a \\\"fraud\\\" or a \\\"Ponzi scheme\\\" - and blamed the firm's collapse on the withdrawal of cover from its insurers.\"\n",
    "\n",
    "text = 'Hello'\n",
    "print(text)"
   ]
  },
  {
   "cell_type": "markdown",
   "metadata": {},
   "source": [
    "## **String Length**"
   ]
  },
  {
   "cell_type": "code",
   "execution_count": 10,
   "metadata": {},
   "outputs": [
    {
     "data": {
      "text/plain": [
       "5"
      ]
     },
     "execution_count": 10,
     "metadata": {},
     "output_type": "execute_result"
    }
   ],
   "source": [
    "len(text)"
   ]
  },
  {
   "cell_type": "markdown",
   "metadata": {},
   "source": [
    "## **String Splicing** "
   ]
  },
  {
   "cell_type": "code",
   "execution_count": 13,
   "metadata": {},
   "outputs": [
    {
     "name": "stdout",
     "output_type": "stream",
     "text": [
      "He\n",
      "llo\n"
     ]
    }
   ],
   "source": [
    "print(text[0:2])\n",
    "print(text[2:])"
   ]
  },
  {
   "cell_type": "markdown",
   "metadata": {},
   "source": [
    "## **Capitalize Initials**"
   ]
  },
  {
   "cell_type": "code",
   "execution_count": 16,
   "metadata": {},
   "outputs": [
    {
     "name": "stdout",
     "output_type": "stream",
     "text": [
      "Hello\n"
     ]
    }
   ],
   "source": [
    "# Capitalize Initials Of Each Word\n",
    "text = 'hello'\n",
    "print(text.capitalize())"
   ]
  },
  {
   "cell_type": "markdown",
   "metadata": {},
   "source": [
    "## **Upper & Lower Case**"
   ]
  },
  {
   "cell_type": "code",
   "execution_count": 17,
   "metadata": {},
   "outputs": [
    {
     "name": "stdout",
     "output_type": "stream",
     "text": [
      "HELLO\n"
     ]
    }
   ],
   "source": [
    "# Capitalize Initials Of Each Word\n",
    "text = 'hello'\n",
    "print(text.upper())"
   ]
  },
  {
   "cell_type": "code",
   "execution_count": 18,
   "metadata": {},
   "outputs": [
    {
     "name": "stdout",
     "output_type": "stream",
     "text": [
      "hello\n"
     ]
    }
   ],
   "source": [
    "# Capitalize Initials Of Each Word\n",
    "text = 'HELLO'\n",
    "print(text.lower())"
   ]
  },
  {
   "cell_type": "code",
   "execution_count": 1,
   "metadata": {},
   "outputs": [
    {
     "name": "stdout",
     "output_type": "stream",
     "text": [
      "Hello\n",
      "Hello\n"
     ]
    }
   ],
   "source": [
    "# Title Case\n",
    "text = 'Hello'\n",
    "print(text)\n",
    "print(text.title())"
   ]
  },
  {
   "cell_type": "code",
   "execution_count": 2,
   "metadata": {},
   "outputs": [
    {
     "name": "stdout",
     "output_type": "stream",
     "text": [
      "hELLO\n"
     ]
    }
   ],
   "source": [
    "# Swapcase\n",
    "text = 'Hello'\n",
    "print(text.swapcase())"
   ]
  },
  {
   "cell_type": "markdown",
   "metadata": {},
   "source": [
    "## **Casefold Function**"
   ]
  },
  {
   "cell_type": "code",
   "execution_count": 19,
   "metadata": {},
   "outputs": [
    {
     "data": {
      "text/plain": [
       "'hassss'"
      ]
     },
     "execution_count": 19,
     "metadata": {},
     "output_type": "execute_result"
    }
   ],
   "source": [
    "# Conver Non-English Characters To English\n",
    "text = 'Haßß'\n",
    "text.casefold()"
   ]
  },
  {
   "cell_type": "markdown",
   "metadata": {},
   "source": [
    "## **Endswith Function**"
   ]
  },
  {
   "cell_type": "code",
   "execution_count": 21,
   "metadata": {},
   "outputs": [
    {
     "ename": "TypeError",
     "evalue": "str.endswith() takes no keyword arguments",
     "output_type": "error",
     "traceback": [
      "\u001b[1;31m---------------------------------------------------------------------------\u001b[0m",
      "\u001b[1;31mTypeError\u001b[0m                                 Traceback (most recent call last)",
      "\u001b[1;32mc:\\Users\\aksha\\OneDrive\\06 Data Science & Analytics\\Github\\Python\\03 String Methods\\String Methods.ipynb Cell 17\u001b[0m line \u001b[0;36m2\n\u001b[0;32m      <a href='vscode-notebook-cell:/c%3A/Users/aksha/OneDrive/06%20Data%20Science%20%26%20Analytics/Github/Python/03%20String%20Methods/String%20Methods.ipynb#X23sZmlsZQ%3D%3D?line=0'>1</a>\u001b[0m text \u001b[39m=\u001b[39m \u001b[39m'\u001b[39m\u001b[39mHello My Friend 123456 How are you ?\u001b[39m\u001b[39m'\u001b[39m\n\u001b[1;32m----> <a href='vscode-notebook-cell:/c%3A/Users/aksha/OneDrive/06%20Data%20Science%20%26%20Analytics/Github/Python/03%20String%20Methods/String%20Methods.ipynb#X23sZmlsZQ%3D%3D?line=1'>2</a>\u001b[0m text\u001b[39m.\u001b[39;49mendswith(_end\u001b[39m=\u001b[39;49m\u001b[39m'\u001b[39;49m\u001b[39m123456\u001b[39;49m\u001b[39m'\u001b[39;49m)\n",
      "\u001b[1;31mTypeError\u001b[0m: str.endswith() takes no keyword arguments"
     ]
    }
   ],
   "source": [
    "text = 'Hello My Friend 123456 How are you ?'\n",
    "text.endswith(_end='123456')"
   ]
  },
  {
   "cell_type": "markdown",
   "metadata": {},
   "source": [
    "## **Check Datatype**"
   ]
  },
  {
   "cell_type": "code",
   "execution_count": 23,
   "metadata": {},
   "outputs": [
    {
     "name": "stdout",
     "output_type": "stream",
     "text": [
      "True\n",
      "False\n"
     ]
    }
   ],
   "source": [
    "# Check Alphabetic\n",
    "text = 'Hello'\n",
    "print(text.isalpha())\n",
    "\n",
    "text = 'Hello 1234'\n",
    "print(text.isalpha())"
   ]
  },
  {
   "cell_type": "code",
   "execution_count": 24,
   "metadata": {},
   "outputs": [
    {
     "name": "stdout",
     "output_type": "stream",
     "text": [
      "True\n",
      "False\n"
     ]
    }
   ],
   "source": [
    "# Check Alpha-Numeric\n",
    "text = 'Hello'\n",
    "print(text.isalnum())\n",
    "\n",
    "text = 'Hello 1234'\n",
    "print(text.isalnum())"
   ]
  },
  {
   "cell_type": "code",
   "execution_count": 25,
   "metadata": {},
   "outputs": [
    {
     "name": "stdout",
     "output_type": "stream",
     "text": [
      "True\n",
      "False\n"
     ]
    }
   ],
   "source": [
    "# Check Lowercase\n",
    "text = 'hello'\n",
    "print(text.islower())\n",
    "\n",
    "text = 'HELLO'\n",
    "print(text.islower())"
   ]
  },
  {
   "cell_type": "code",
   "execution_count": 27,
   "metadata": {},
   "outputs": [
    {
     "name": "stdout",
     "output_type": "stream",
     "text": [
      "False\n",
      "True\n"
     ]
    }
   ],
   "source": [
    "# Check Uppercase\n",
    "text = 'hello'\n",
    "print(text.isupper())\n",
    "\n",
    "text = 'HELLO'\n",
    "print(text.isupper())"
   ]
  },
  {
   "cell_type": "markdown",
   "metadata": {},
   "source": [
    "## **Strip Function**\n",
    "\n",
    "* strip()\n",
    "* lstrip()\n",
    "* rstrip()"
   ]
  },
  {
   "cell_type": "code",
   "execution_count": 4,
   "metadata": {},
   "outputs": [
    {
     "data": {
      "text/plain": [
       "'Hello 123'"
      ]
     },
     "execution_count": 4,
     "metadata": {},
     "output_type": "execute_result"
    }
   ],
   "source": [
    "# Strip\n",
    "text = ' Hello 123 '\n",
    "text.strip()"
   ]
  },
  {
   "cell_type": "code",
   "execution_count": 5,
   "metadata": {},
   "outputs": [
    {
     "data": {
      "text/plain": [
       "'Hello 123 '"
      ]
     },
     "execution_count": 5,
     "metadata": {},
     "output_type": "execute_result"
    }
   ],
   "source": [
    "# Left Strip\n",
    "text = ' Hello 123 '\n",
    "text.lstrip()"
   ]
  },
  {
   "cell_type": "code",
   "execution_count": 6,
   "metadata": {},
   "outputs": [
    {
     "data": {
      "text/plain": [
       "' Hello 123'"
      ]
     },
     "execution_count": 6,
     "metadata": {},
     "output_type": "execute_result"
    }
   ],
   "source": [
    "# Right Strip\n",
    "text = ' Hello 123 '\n",
    "text.rstrip()"
   ]
  },
  {
   "cell_type": "markdown",
   "metadata": {},
   "source": [
    "# **RegEx**"
   ]
  },
  {
   "cell_type": "code",
   "execution_count": 8,
   "metadata": {},
   "outputs": [],
   "source": [
    "import regex as re"
   ]
  },
  {
   "cell_type": "code",
   "execution_count": 7,
   "metadata": {},
   "outputs": [
    {
     "name": "stdout",
     "output_type": "stream",
     "text": [
      "In appointing David Cameron to one of the top four offices of state, Rishi Sunak has chosen to disregard his close association with one of the UK's biggest financial scandals of recent years.Two years ago, BBC Panorama revealed internal documents suggesting Cameron made about $10m (£8.2m) jetting around the world to promote a highly controversial finance business, Greensill Capital. Greensill, whose disgraced boss Lex Greensill was given an office in Downing Street under Cameron's premiership and later became both his friend and his employer, collapsed in March 2021. Billions of dollars of investors money was missing. Criminal inquiries into alleged fraud are ongoing in Germany and Switzerland, where Greensill has been named as a suspect. Greensill previously denied allegations from MPs on the Commons Treasury Committee in 2021 that his collapsed finance firm was a \"fraud\" or a \"Ponzi scheme\" - and blamed the firm's collapse on the withdrawal of cover from its insurers.\n"
     ]
    }
   ],
   "source": [
    "text = \"In appointing David Cameron to one of the top four offices of state, Rishi Sunak has chosen to disregard his close association with one of the UK's biggest financial scandals of recent years.Two years ago, BBC Panorama revealed internal documents suggesting Cameron made about $10m (£8.2m) jetting around the world to promote a highly controversial finance business, Greensill Capital. Greensill, whose disgraced boss Lex Greensill was given an office in Downing Street under Cameron's premiership and later became both his friend and his employer, collapsed in March 2021. Billions of dollars of investors money was missing. Criminal inquiries into alleged fraud are ongoing in Germany and Switzerland, where Greensill has been named as a suspect. Greensill previously denied allegations from MPs on the Commons Treasury Committee in 2021 that his collapsed finance firm was a \\\"fraud\\\" or a \\\"Ponzi scheme\\\" - and blamed the firm's collapse on the withdrawal of cover from its insurers.\"\n",
    "print(text)"
   ]
  },
  {
   "cell_type": "markdown",
   "metadata": {},
   "source": [
    "## **Findall Function**"
   ]
  },
  {
   "cell_type": "code",
   "execution_count": 24,
   "metadata": {},
   "outputs": [
    {
     "name": "stdout",
     "output_type": "stream",
     "text": [
      "['a', 'a', 'a', 'a', 'a', 'a', 'a', 'a', 'a', 'a', 'a', 'a', 'a', 'a', 'a', 'a', 'a', 'a', 'a', 'a', 'a', 'a', 'a', 'a', 'a', 'a', 'a', 'a', 'a', 'a', 'a', 'a', 'a', 'a', 'a', 'a', 'a', 'a', 'a', 'a', 'a', 'a', 'a', 'a', 'a', 'a', 'a', 'a', 'a', 'a', 'a', 'a', 'a', 'a', 'a', 'a', 'a', 'a', 'a', 'a', 'a', 'a', 'a', 'a', 'a', 'a', 'a', 'a']\n"
     ]
    }
   ],
   "source": [
    "print(re.findall('a',text))"
   ]
  },
  {
   "cell_type": "markdown",
   "metadata": {},
   "source": [
    "# **Exact Word**"
   ]
  },
  {
   "cell_type": "code",
   "execution_count": 27,
   "metadata": {},
   "outputs": [
    {
     "name": "stdout",
     "output_type": "stream",
     "text": [
      "[]\n",
      "['David']\n"
     ]
    }
   ],
   "source": [
    "# Note: RegEx pattern is case sensitive\n",
    "print(re.findall('david',text))\n",
    "print(re.findall('David',text))"
   ]
  },
  {
   "cell_type": "markdown",
   "metadata": {},
   "source": [
    "## **Character Sequences**"
   ]
  },
  {
   "cell_type": "code",
   "execution_count": 49,
   "metadata": {},
   "outputs": [
    {
     "name": "stdout",
     "output_type": "stream",
     "text": [
      "Single Character:  \n",
      " ['I', 'n', ' ', 'a', 'p', 'p', 'o', 'i', 'n', 't', 'i', 'n', 'g', ' ', 'D', 'a', 'v', 'i', 'd', ' ', 'C', 'a', 'm', 'e', 'r', 'o', 'n', ' ', 't', 'o', ' ', 'o', 'n', 'e', ' ', 'o', 'f', ' ', 't', 'h', 'e', ' ', 't', 'o', 'p', ' ', 'f', 'o', 'u', 'r', ' ', 'o', 'f', 'f', 'i', 'c', 'e', 's', ' ', 'o', 'f', ' ', 's', 't', 'a', 't', 'e', ',', ' ', 'R', 'i', 's', 'h', 'i', ' ', 'S', 'u', 'n', 'a', 'k', ' ', 'h', 'a', 's', ' ', 'c', 'h', 'o', 's', 'e', 'n', ' ', 't', 'o', ' ', 'd', 'i', 's', 'r', 'e', 'g', 'a', 'r', 'd', ' ', 'h', 'i', 's', ' ', 'c', 'l', 'o', 's', 'e', ' ', 'a', 's', 's', 'o', 'c', 'i', 'a', 't', 'i', 'o', 'n', ' ', 'w', 'i', 't', 'h', ' ', 'o', 'n', 'e', ' ', 'o', 'f', ' ', 't', 'h', 'e', ' ', 'U', 'K', \"'\", 's', ' ', 'b', 'i', 'g', 'g', 'e', 's', 't', ' ', 'f', 'i', 'n', 'a', 'n', 'c', 'i', 'a', 'l', ' ', 's', 'c', 'a', 'n', 'd', 'a', 'l', 's', ' ', 'o', 'f', ' ', 'r', 'e', 'c', 'e', 'n', 't', ' ', 'y', 'e', 'a', 'r', 's', '.', 'T', 'w', 'o', ' ', 'y', 'e', 'a', 'r', 's', ' ', 'a', 'g', 'o', ',', ' ', 'B', 'B', 'C', ' ', 'P', 'a', 'n', 'o', 'r', 'a', 'm', 'a', ' ', 'r', 'e', 'v', 'e', 'a', 'l', 'e', 'd', ' ', 'i', 'n', 't', 'e', 'r', 'n', 'a', 'l', ' ', 'd', 'o', 'c', 'u', 'm', 'e', 'n', 't', 's', ' ', 's', 'u', 'g', 'g', 'e', 's', 't', 'i', 'n', 'g', ' ', 'C', 'a', 'm', 'e', 'r', 'o', 'n', ' ', 'm', 'a', 'd', 'e', ' ', 'a', 'b', 'o', 'u', 't', ' ', '$', '1', '0', 'm', ' ', '(', '£', '8', '.', '2', 'm', ')', ' ', 'j', 'e', 't', 't', 'i', 'n', 'g', ' ', 'a', 'r', 'o', 'u', 'n', 'd', ' ', 't', 'h', 'e', ' ', 'w', 'o', 'r', 'l', 'd', ' ', 't', 'o', ' ', 'p', 'r', 'o', 'm', 'o', 't', 'e', ' ', 'a', ' ', 'h', 'i', 'g', 'h', 'l', 'y', ' ', 'c', 'o', 'n', 't', 'r', 'o', 'v', 'e', 'r', 's', 'i', 'a', 'l', ' ', 'f', 'i', 'n', 'a', 'n', 'c', 'e', ' ', 'b', 'u', 's', 'i', 'n', 'e', 's', 's', ',', ' ', 'G', 'r', 'e', 'e', 'n', 's', 'i', 'l', 'l', ' ', 'C', 'a', 'p', 'i', 't', 'a', 'l', '.', ' ', 'G', 'r', 'e', 'e', 'n', 's', 'i', 'l', 'l', ',', ' ', 'w', 'h', 'o', 's', 'e', ' ', 'd', 'i', 's', 'g', 'r', 'a', 'c', 'e', 'd', ' ', 'b', 'o', 's', 's', ' ', 'L', 'e', 'x', ' ', 'G', 'r', 'e', 'e', 'n', 's', 'i', 'l', 'l', ' ', 'w', 'a', 's', ' ', 'g', 'i', 'v', 'e', 'n', ' ', 'a', 'n', ' ', 'o', 'f', 'f', 'i', 'c', 'e', ' ', 'i', 'n', ' ', 'D', 'o', 'w', 'n', 'i', 'n', 'g', ' ', 'S', 't', 'r', 'e', 'e', 't', ' ', 'u', 'n', 'd', 'e', 'r', ' ', 'C', 'a', 'm', 'e', 'r', 'o', 'n', \"'\", 's', ' ', 'p', 'r', 'e', 'm', 'i', 'e', 'r', 's', 'h', 'i', 'p', ' ', 'a', 'n', 'd', ' ', 'l', 'a', 't', 'e', 'r', ' ', 'b', 'e', 'c', 'a', 'm', 'e', ' ', 'b', 'o', 't', 'h', ' ', 'h', 'i', 's', ' ', 'f', 'r', 'i', 'e', 'n', 'd', ' ', 'a', 'n', 'd', ' ', 'h', 'i', 's', ' ', 'e', 'm', 'p', 'l', 'o', 'y', 'e', 'r', ',', ' ', 'c', 'o', 'l', 'l', 'a', 'p', 's', 'e', 'd', ' ', 'i', 'n', ' ', 'M', 'a', 'r', 'c', 'h', ' ', '2', '0', '2', '1', '.', ' ', 'B', 'i', 'l', 'l', 'i', 'o', 'n', 's', ' ', 'o', 'f', ' ', 'd', 'o', 'l', 'l', 'a', 'r', 's', ' ', 'o', 'f', ' ', 'i', 'n', 'v', 'e', 's', 't', 'o', 'r', 's', ' ', 'm', 'o', 'n', 'e', 'y', ' ', 'w', 'a', 's', ' ', 'm', 'i', 's', 's', 'i', 'n', 'g', '.', ' ', 'C', 'r', 'i', 'm', 'i', 'n', 'a', 'l', ' ', 'i', 'n', 'q', 'u', 'i', 'r', 'i', 'e', 's', ' ', 'i', 'n', 't', 'o', ' ', 'a', 'l', 'l', 'e', 'g', 'e', 'd', ' ', 'f', 'r', 'a', 'u', 'd', ' ', 'a', 'r', 'e', ' ', 'o', 'n', 'g', 'o', 'i', 'n', 'g', ' ', 'i', 'n', ' ', 'G', 'e', 'r', 'm', 'a', 'n', 'y', ' ', 'a', 'n', 'd', ' ', 'S', 'w', 'i', 't', 'z', 'e', 'r', 'l', 'a', 'n', 'd', ',', ' ', 'w', 'h', 'e', 'r', 'e', ' ', 'G', 'r', 'e', 'e', 'n', 's', 'i', 'l', 'l', ' ', 'h', 'a', 's', ' ', 'b', 'e', 'e', 'n', ' ', 'n', 'a', 'm', 'e', 'd', ' ', 'a', 's', ' ', 'a', ' ', 's', 'u', 's', 'p', 'e', 'c', 't', '.', ' ', 'G', 'r', 'e', 'e', 'n', 's', 'i', 'l', 'l', ' ', 'p', 'r', 'e', 'v', 'i', 'o', 'u', 's', 'l', 'y', ' ', 'd', 'e', 'n', 'i', 'e', 'd', ' ', 'a', 'l', 'l', 'e', 'g', 'a', 't', 'i', 'o', 'n', 's', ' ', 'f', 'r', 'o', 'm', ' ', 'M', 'P', 's', ' ', 'o', 'n', ' ', 't', 'h', 'e', ' ', 'C', 'o', 'm', 'm', 'o', 'n', 's', ' ', 'T', 'r', 'e', 'a', 's', 'u', 'r', 'y', ' ', 'C', 'o', 'm', 'm', 'i', 't', 't', 'e', 'e', ' ', 'i', 'n', ' ', '2', '0', '2', '1', ' ', 't', 'h', 'a', 't', ' ', 'h', 'i', 's', ' ', 'c', 'o', 'l', 'l', 'a', 'p', 's', 'e', 'd', ' ', 'f', 'i', 'n', 'a', 'n', 'c', 'e', ' ', 'f', 'i', 'r', 'm', ' ', 'w', 'a', 's', ' ', 'a', ' ', '\"', 'f', 'r', 'a', 'u', 'd', '\"', ' ', 'o', 'r', ' ', 'a', ' ', '\"', 'P', 'o', 'n', 'z', 'i', ' ', 's', 'c', 'h', 'e', 'm', 'e', '\"', ' ', '-', ' ', 'a', 'n', 'd', ' ', 'b', 'l', 'a', 'm', 'e', 'd', ' ', 't', 'h', 'e', ' ', 'f', 'i', 'r', 'm', \"'\", 's', ' ', 'c', 'o', 'l', 'l', 'a', 'p', 's', 'e', ' ', 'o', 'n', ' ', 't', 'h', 'e', ' ', 'w', 'i', 't', 'h', 'd', 'r', 'a', 'w', 'a', 'l', ' ', 'o', 'f', ' ', 'c', 'o', 'v', 'e', 'r', ' ', 'f', 'r', 'o', 'm', ' ', 'i', 't', 's', ' ', 'i', 'n', 's', 'u', 'r', 'e', 'r', 's', '.'] \n",
      "\n",
      "0 Or More Character:  \n",
      " ['In appointing David Cameron to one of the top four offices of state, Rishi Sunak has chosen to disregard his close association with one of the UK\\'s biggest financial scandals of recent years.Two years ago, BBC Panorama revealed internal documents suggesting Cameron made about $10m (£8.2m) jetting around the world to promote a highly controversial finance business, Greensill Capital. Greensill, whose disgraced boss Lex Greensill was given an office in Downing Street under Cameron\\'s premiership and later became both his friend and his employer, collapsed in March 2021. Billions of dollars of investors money was missing. Criminal inquiries into alleged fraud are ongoing in Germany and Switzerland, where Greensill has been named as a suspect. Greensill previously denied allegations from MPs on the Commons Treasury Committee in 2021 that his collapsed finance firm was a \"fraud\" or a \"Ponzi scheme\" - and blamed the firm\\'s collapse on the withdrawal of cover from its insurers.', ''] \n",
      "\n",
      "1 Or More Character:  \n",
      " ['In appointing David Cameron to one of the top four offices of state, Rishi Sunak has chosen to disregard his close association with one of the UK\\'s biggest financial scandals of recent years.Two years ago, BBC Panorama revealed internal documents suggesting Cameron made about $10m (£8.2m) jetting around the world to promote a highly controversial finance business, Greensill Capital. Greensill, whose disgraced boss Lex Greensill was given an office in Downing Street under Cameron\\'s premiership and later became both his friend and his employer, collapsed in March 2021. Billions of dollars of investors money was missing. Criminal inquiries into alleged fraud are ongoing in Germany and Switzerland, where Greensill has been named as a suspect. Greensill previously denied allegations from MPs on the Commons Treasury Committee in 2021 that his collapsed finance firm was a \"fraud\" or a \"Ponzi scheme\" - and blamed the firm\\'s collapse on the withdrawal of cover from its insurers.'] \n",
      "\n",
      "Exactly 5 Character:  \n",
      " [] \n",
      "\n"
     ]
    }
   ],
   "source": [
    "# Findall Single Character Denoted By Token \".\"\n",
    "print('Single Character: ','\\n',re.findall('.',text),'\\n')\n",
    "\n",
    "# Findall 0 Or More Character Denoted By Token \".\"\n",
    "print('0 Or More Character: ','\\n',re.findall('.*',text),'\\n')\n",
    "\n",
    "# Findall 1 Or More Character Denoted By Token \".\"\n",
    "print('1 Or More Character: ','\\n',re.findall('.+',text),'\\n')\n",
    "\n",
    "# Findall Exactly 5 Character Denoted By Token \".\"\n",
    "print('Exactly 5 Character: ','\\n',re.findall(f'.{5}',text),'\\n')"
   ]
  },
  {
   "cell_type": "markdown",
   "metadata": {},
   "source": [
    "## **White Space Characters**"
   ]
  },
  {
   "cell_type": "code",
   "execution_count": 69,
   "metadata": {},
   "outputs": [
    {
     "name": "stdout",
     "output_type": "stream",
     "text": [
      "White Space Characters:  \n",
      " [' ', ' ', ' ', ' ', ' ', ' ', ' ', ' ', ' ', ' ', ' ', ' ', ' ', ' ', ' ', ' ', ' ', ' ', ' ', ' ', ' ', ' ', ' ', ' ', ' ', ' ', ' ', ' ', ' ', ' ', ' ', ' ', ' ', ' ', ' ', ' ', ' ', ' ', ' ', ' ', ' ', ' ', ' ', ' ', ' ', ' ', ' ', ' ', ' ', ' ', ' ', ' ', ' ', ' ', ' ', ' ', ' ', ' ', ' ', ' ', ' ', ' ', ' ', ' ', ' ', ' ', ' ', ' ', ' ', ' ', ' ', ' ', ' ', ' ', ' ', ' ', ' ', ' ', ' ', ' ', ' ', ' ', ' ', ' ', ' ', ' ', ' ', ' ', ' ', ' ', ' ', ' ', ' ', ' ', ' ', ' ', ' ', ' ', ' ', ' ', ' ', ' ', ' ', ' ', ' ', ' ', ' ', ' ', ' ', ' ', ' ', ' ', ' ', ' ', ' ', ' ', ' ', ' ', ' ', ' ', ' ', ' ', ' ', ' ', ' ', ' ', ' ', ' ', ' ', ' ', ' ', ' ', ' ', ' ', ' ', ' ', ' ', ' ', ' ', ' ', ' ', ' ', ' ', ' ', ' ', ' ', ' ', ' ', ' ', ' ', ' ', ' ', ' '] \n",
      "\n"
     ]
    }
   ],
   "source": [
    "print('White Space Characters: ','\\n',re.findall(r'\\s',text),'\\n')"
   ]
  },
  {
   "cell_type": "markdown",
   "metadata": {},
   "source": [
    "## **Numeric Characters**"
   ]
  },
  {
   "cell_type": "code",
   "execution_count": 74,
   "metadata": {},
   "outputs": [
    {
     "name": "stdout",
     "output_type": "stream",
     "text": [
      "Numeric Characters:  \n",
      " ['1', '0', '8', '2', '2', '0', '2', '1', '2', '0', '2', '1'] \n",
      "\n",
      "Numeric Characters Sequences Of Length 1 Or More :  \n",
      " ['10', '8', '2', '2021', '2021'] \n",
      "\n",
      "Non-Numeric Characters Sequences Of Length 1 Or More :  \n",
      " [\"In appointing David Cameron to one of the top four offices of state, Rishi Sunak has chosen to disregard his close association with one of the UK's biggest financial scandals of recent years.Two years ago, BBC Panorama revealed internal documents suggesting Cameron made about $\", 'm (£', '.', \"m) jetting around the world to promote a highly controversial finance business, Greensill Capital. Greensill, whose disgraced boss Lex Greensill was given an office in Downing Street under Cameron's premiership and later became both his friend and his employer, collapsed in March \", '. Billions of dollars of investors money was missing. Criminal inquiries into alleged fraud are ongoing in Germany and Switzerland, where Greensill has been named as a suspect. Greensill previously denied allegations from MPs on the Commons Treasury Committee in ', ' that his collapsed finance firm was a \"fraud\" or a \"Ponzi scheme\" - and blamed the firm\\'s collapse on the withdrawal of cover from its insurers.'] \n",
      "\n"
     ]
    }
   ],
   "source": [
    "# Numeric Characters\n",
    "print('Numeric Characters: ','\\n',re.findall(r'\\d',text),'\\n')\n",
    "\n",
    "# Numeric Character Sequences | Lenght 1 Or More \n",
    "print('Numeric Characters Sequences Of Length 1 Or More : ','\\n',re.findall(r'\\d+',text),'\\n')\n",
    "\n",
    "# Non-Numeric Character Sequences | Lenght 1 Or More \n",
    "print('Non-Numeric Characters Sequences Of Length 1 Or More : ','\\n',re.findall(r'\\D+',text),'\\n')"
   ]
  },
  {
   "cell_type": "markdown",
   "metadata": {},
   "source": [
    "## **Alphabetic Characters**"
   ]
  },
  {
   "cell_type": "code",
   "execution_count": 78,
   "metadata": {},
   "outputs": [
    {
     "name": "stdout",
     "output_type": "stream",
     "text": [
      "Single Alphabetic Character:  \n",
      " ['I', 'n', 'a', 'p', 'p', 'o', 'i', 'n', 't', 'i', 'n', 'g', 'D', 'a', 'v', 'i', 'd', 'C', 'a', 'm', 'e', 'r', 'o', 'n', 't', 'o', 'o', 'n', 'e', 'o', 'f', 't', 'h', 'e', 't', 'o', 'p', 'f', 'o', 'u', 'r', 'o', 'f', 'f', 'i', 'c', 'e', 's', 'o', 'f', 's', 't', 'a', 't', 'e', 'R', 'i', 's', 'h', 'i', 'S', 'u', 'n', 'a', 'k', 'h', 'a', 's', 'c', 'h', 'o', 's', 'e', 'n', 't', 'o', 'd', 'i', 's', 'r', 'e', 'g', 'a', 'r', 'd', 'h', 'i', 's', 'c', 'l', 'o', 's', 'e', 'a', 's', 's', 'o', 'c', 'i', 'a', 't', 'i', 'o', 'n', 'w', 'i', 't', 'h', 'o', 'n', 'e', 'o', 'f', 't', 'h', 'e', 'U', 'K', 's', 'b', 'i', 'g', 'g', 'e', 's', 't', 'f', 'i', 'n', 'a', 'n', 'c', 'i', 'a', 'l', 's', 'c', 'a', 'n', 'd', 'a', 'l', 's', 'o', 'f', 'r', 'e', 'c', 'e', 'n', 't', 'y', 'e', 'a', 'r', 's', 'T', 'w', 'o', 'y', 'e', 'a', 'r', 's', 'a', 'g', 'o', 'B', 'B', 'C', 'P', 'a', 'n', 'o', 'r', 'a', 'm', 'a', 'r', 'e', 'v', 'e', 'a', 'l', 'e', 'd', 'i', 'n', 't', 'e', 'r', 'n', 'a', 'l', 'd', 'o', 'c', 'u', 'm', 'e', 'n', 't', 's', 's', 'u', 'g', 'g', 'e', 's', 't', 'i', 'n', 'g', 'C', 'a', 'm', 'e', 'r', 'o', 'n', 'm', 'a', 'd', 'e', 'a', 'b', 'o', 'u', 't', '1', '0', 'm', '8', '2', 'm', 'j', 'e', 't', 't', 'i', 'n', 'g', 'a', 'r', 'o', 'u', 'n', 'd', 't', 'h', 'e', 'w', 'o', 'r', 'l', 'd', 't', 'o', 'p', 'r', 'o', 'm', 'o', 't', 'e', 'a', 'h', 'i', 'g', 'h', 'l', 'y', 'c', 'o', 'n', 't', 'r', 'o', 'v', 'e', 'r', 's', 'i', 'a', 'l', 'f', 'i', 'n', 'a', 'n', 'c', 'e', 'b', 'u', 's', 'i', 'n', 'e', 's', 's', 'G', 'r', 'e', 'e', 'n', 's', 'i', 'l', 'l', 'C', 'a', 'p', 'i', 't', 'a', 'l', 'G', 'r', 'e', 'e', 'n', 's', 'i', 'l', 'l', 'w', 'h', 'o', 's', 'e', 'd', 'i', 's', 'g', 'r', 'a', 'c', 'e', 'd', 'b', 'o', 's', 's', 'L', 'e', 'x', 'G', 'r', 'e', 'e', 'n', 's', 'i', 'l', 'l', 'w', 'a', 's', 'g', 'i', 'v', 'e', 'n', 'a', 'n', 'o', 'f', 'f', 'i', 'c', 'e', 'i', 'n', 'D', 'o', 'w', 'n', 'i', 'n', 'g', 'S', 't', 'r', 'e', 'e', 't', 'u', 'n', 'd', 'e', 'r', 'C', 'a', 'm', 'e', 'r', 'o', 'n', 's', 'p', 'r', 'e', 'm', 'i', 'e', 'r', 's', 'h', 'i', 'p', 'a', 'n', 'd', 'l', 'a', 't', 'e', 'r', 'b', 'e', 'c', 'a', 'm', 'e', 'b', 'o', 't', 'h', 'h', 'i', 's', 'f', 'r', 'i', 'e', 'n', 'd', 'a', 'n', 'd', 'h', 'i', 's', 'e', 'm', 'p', 'l', 'o', 'y', 'e', 'r', 'c', 'o', 'l', 'l', 'a', 'p', 's', 'e', 'd', 'i', 'n', 'M', 'a', 'r', 'c', 'h', '2', '0', '2', '1', 'B', 'i', 'l', 'l', 'i', 'o', 'n', 's', 'o', 'f', 'd', 'o', 'l', 'l', 'a', 'r', 's', 'o', 'f', 'i', 'n', 'v', 'e', 's', 't', 'o', 'r', 's', 'm', 'o', 'n', 'e', 'y', 'w', 'a', 's', 'm', 'i', 's', 's', 'i', 'n', 'g', 'C', 'r', 'i', 'm', 'i', 'n', 'a', 'l', 'i', 'n', 'q', 'u', 'i', 'r', 'i', 'e', 's', 'i', 'n', 't', 'o', 'a', 'l', 'l', 'e', 'g', 'e', 'd', 'f', 'r', 'a', 'u', 'd', 'a', 'r', 'e', 'o', 'n', 'g', 'o', 'i', 'n', 'g', 'i', 'n', 'G', 'e', 'r', 'm', 'a', 'n', 'y', 'a', 'n', 'd', 'S', 'w', 'i', 't', 'z', 'e', 'r', 'l', 'a', 'n', 'd', 'w', 'h', 'e', 'r', 'e', 'G', 'r', 'e', 'e', 'n', 's', 'i', 'l', 'l', 'h', 'a', 's', 'b', 'e', 'e', 'n', 'n', 'a', 'm', 'e', 'd', 'a', 's', 'a', 's', 'u', 's', 'p', 'e', 'c', 't', 'G', 'r', 'e', 'e', 'n', 's', 'i', 'l', 'l', 'p', 'r', 'e', 'v', 'i', 'o', 'u', 's', 'l', 'y', 'd', 'e', 'n', 'i', 'e', 'd', 'a', 'l', 'l', 'e', 'g', 'a', 't', 'i', 'o', 'n', 's', 'f', 'r', 'o', 'm', 'M', 'P', 's', 'o', 'n', 't', 'h', 'e', 'C', 'o', 'm', 'm', 'o', 'n', 's', 'T', 'r', 'e', 'a', 's', 'u', 'r', 'y', 'C', 'o', 'm', 'm', 'i', 't', 't', 'e', 'e', 'i', 'n', '2', '0', '2', '1', 't', 'h', 'a', 't', 'h', 'i', 's', 'c', 'o', 'l', 'l', 'a', 'p', 's', 'e', 'd', 'f', 'i', 'n', 'a', 'n', 'c', 'e', 'f', 'i', 'r', 'm', 'w', 'a', 's', 'a', 'f', 'r', 'a', 'u', 'd', 'o', 'r', 'a', 'P', 'o', 'n', 'z', 'i', 's', 'c', 'h', 'e', 'm', 'e', 'a', 'n', 'd', 'b', 'l', 'a', 'm', 'e', 'd', 't', 'h', 'e', 'f', 'i', 'r', 'm', 's', 'c', 'o', 'l', 'l', 'a', 'p', 's', 'e', 'o', 'n', 't', 'h', 'e', 'w', 'i', 't', 'h', 'd', 'r', 'a', 'w', 'a', 'l', 'o', 'f', 'c', 'o', 'v', 'e', 'r', 'f', 'r', 'o', 'm', 'i', 't', 's', 'i', 'n', 's', 'u', 'r', 'e', 'r', 's'] \n",
      "\n",
      "Single Non-Alphabetic Character:  \n",
      " [' ', ' ', ' ', ' ', ' ', ' ', ' ', ' ', ' ', ' ', ' ', ' ', ',', ' ', ' ', ' ', ' ', ' ', ' ', ' ', ' ', ' ', ' ', ' ', ' ', ' ', ' ', \"'\", ' ', ' ', ' ', ' ', ' ', ' ', '.', ' ', ' ', ',', ' ', ' ', ' ', ' ', ' ', ' ', ' ', ' ', ' ', ' ', '$', ' ', '(', '£', '.', ')', ' ', ' ', ' ', ' ', ' ', ' ', ' ', ' ', ' ', ' ', ' ', ',', ' ', ' ', '.', ' ', ',', ' ', ' ', ' ', ' ', ' ', ' ', ' ', ' ', ' ', ' ', ' ', ' ', ' ', ' ', \"'\", ' ', ' ', ' ', ' ', ' ', ' ', ' ', ' ', ' ', ' ', ',', ' ', ' ', ' ', ' ', '.', ' ', ' ', ' ', ' ', ' ', ' ', ' ', ' ', '.', ' ', ' ', ' ', ' ', ' ', ' ', ' ', ' ', ' ', ' ', ' ', ',', ' ', ' ', ' ', ' ', ' ', ' ', ' ', ' ', '.', ' ', ' ', ' ', ' ', ' ', ' ', ' ', ' ', ' ', ' ', ' ', ' ', ' ', ' ', ' ', ' ', ' ', ' ', ' ', ' ', ' ', '\"', '\"', ' ', ' ', ' ', '\"', ' ', '\"', ' ', '-', ' ', ' ', ' ', ' ', \"'\", ' ', ' ', ' ', ' ', ' ', ' ', ' ', ' ', ' ', '.'] \n",
      "\n"
     ]
    }
   ],
   "source": [
    "# Word Character Denoted By Token \"/w*\"\n",
    "print('Single Alphabetic Character: ','\\n',re.findall(r'\\w',text),'\\n')\n",
    "\n",
    "# Non-Word Character Denoted By Token \"/w*\"\n",
    "print('Single Non-Alphabetic Character: ','\\n',re.findall(r'\\W',text),'\\n')"
   ]
  },
  {
   "cell_type": "code",
   "execution_count": 79,
   "metadata": {},
   "outputs": [
    {
     "name": "stdout",
     "output_type": "stream",
     "text": [
      "0 Or More Alphabetic Character:  \n",
      " ['In', '', 'appointing', '', 'David', '', 'Cameron', '', 'to', '', 'one', '', 'of', '', 'the', '', 'top', '', 'four', '', 'offices', '', 'of', '', 'state', '', '', 'Rishi', '', 'Sunak', '', 'has', '', 'chosen', '', 'to', '', 'disregard', '', 'his', '', 'close', '', 'association', '', 'with', '', 'one', '', 'of', '', 'the', '', 'UK', '', 's', '', 'biggest', '', 'financial', '', 'scandals', '', 'of', '', 'recent', '', 'years', '', 'Two', '', 'years', '', 'ago', '', '', 'BBC', '', 'Panorama', '', 'revealed', '', 'internal', '', 'documents', '', 'suggesting', '', 'Cameron', '', 'made', '', 'about', '', '', '10m', '', '', '', '8', '', '2m', '', '', 'jetting', '', 'around', '', 'the', '', 'world', '', 'to', '', 'promote', '', 'a', '', 'highly', '', 'controversial', '', 'finance', '', 'business', '', '', 'Greensill', '', 'Capital', '', '', 'Greensill', '', '', 'whose', '', 'disgraced', '', 'boss', '', 'Lex', '', 'Greensill', '', 'was', '', 'given', '', 'an', '', 'office', '', 'in', '', 'Downing', '', 'Street', '', 'under', '', 'Cameron', '', 's', '', 'premiership', '', 'and', '', 'later', '', 'became', '', 'both', '', 'his', '', 'friend', '', 'and', '', 'his', '', 'employer', '', '', 'collapsed', '', 'in', '', 'March', '', '2021', '', '', 'Billions', '', 'of', '', 'dollars', '', 'of', '', 'investors', '', 'money', '', 'was', '', 'missing', '', '', 'Criminal', '', 'inquiries', '', 'into', '', 'alleged', '', 'fraud', '', 'are', '', 'ongoing', '', 'in', '', 'Germany', '', 'and', '', 'Switzerland', '', '', 'where', '', 'Greensill', '', 'has', '', 'been', '', 'named', '', 'as', '', 'a', '', 'suspect', '', '', 'Greensill', '', 'previously', '', 'denied', '', 'allegations', '', 'from', '', 'MPs', '', 'on', '', 'the', '', 'Commons', '', 'Treasury', '', 'Committee', '', 'in', '', '2021', '', 'that', '', 'his', '', 'collapsed', '', 'finance', '', 'firm', '', 'was', '', 'a', '', '', 'fraud', '', '', 'or', '', 'a', '', '', 'Ponzi', '', 'scheme', '', '', '', '', 'and', '', 'blamed', '', 'the', '', 'firm', '', 's', '', 'collapse', '', 'on', '', 'the', '', 'withdrawal', '', 'of', '', 'cover', '', 'from', '', 'its', '', 'insurers', '', ''] \n",
      "\n",
      "1 or More Alphabetic Character:  \n",
      " ['In', 'appointing', 'David', 'Cameron', 'to', 'one', 'of', 'the', 'top', 'four', 'offices', 'of', 'state', 'Rishi', 'Sunak', 'has', 'chosen', 'to', 'disregard', 'his', 'close', 'association', 'with', 'one', 'of', 'the', 'UK', 's', 'biggest', 'financial', 'scandals', 'of', 'recent', 'years', 'Two', 'years', 'ago', 'BBC', 'Panorama', 'revealed', 'internal', 'documents', 'suggesting', 'Cameron', 'made', 'about', '10m', '8', '2m', 'jetting', 'around', 'the', 'world', 'to', 'promote', 'a', 'highly', 'controversial', 'finance', 'business', 'Greensill', 'Capital', 'Greensill', 'whose', 'disgraced', 'boss', 'Lex', 'Greensill', 'was', 'given', 'an', 'office', 'in', 'Downing', 'Street', 'under', 'Cameron', 's', 'premiership', 'and', 'later', 'became', 'both', 'his', 'friend', 'and', 'his', 'employer', 'collapsed', 'in', 'March', '2021', 'Billions', 'of', 'dollars', 'of', 'investors', 'money', 'was', 'missing', 'Criminal', 'inquiries', 'into', 'alleged', 'fraud', 'are', 'ongoing', 'in', 'Germany', 'and', 'Switzerland', 'where', 'Greensill', 'has', 'been', 'named', 'as', 'a', 'suspect', 'Greensill', 'previously', 'denied', 'allegations', 'from', 'MPs', 'on', 'the', 'Commons', 'Treasury', 'Committee', 'in', '2021', 'that', 'his', 'collapsed', 'finance', 'firm', 'was', 'a', 'fraud', 'or', 'a', 'Ponzi', 'scheme', 'and', 'blamed', 'the', 'firm', 's', 'collapse', 'on', 'the', 'withdrawal', 'of', 'cover', 'from', 'its', 'insurers'] \n",
      "\n",
      "0 Or 1 Alphabetic Character:  \n",
      " ['I', 'n', '', 'a', 'p', 'p', 'o', 'i', 'n', 't', 'i', 'n', 'g', '', 'D', 'a', 'v', 'i', 'd', '', 'C', 'a', 'm', 'e', 'r', 'o', 'n', '', 't', 'o', '', 'o', 'n', 'e', '', 'o', 'f', '', 't', 'h', 'e', '', 't', 'o', 'p', '', 'f', 'o', 'u', 'r', '', 'o', 'f', 'f', 'i', 'c', 'e', 's', '', 'o', 'f', '', 's', 't', 'a', 't', 'e', '', '', 'R', 'i', 's', 'h', 'i', '', 'S', 'u', 'n', 'a', 'k', '', 'h', 'a', 's', '', 'c', 'h', 'o', 's', 'e', 'n', '', 't', 'o', '', 'd', 'i', 's', 'r', 'e', 'g', 'a', 'r', 'd', '', 'h', 'i', 's', '', 'c', 'l', 'o', 's', 'e', '', 'a', 's', 's', 'o', 'c', 'i', 'a', 't', 'i', 'o', 'n', '', 'w', 'i', 't', 'h', '', 'o', 'n', 'e', '', 'o', 'f', '', 't', 'h', 'e', '', 'U', 'K', '', 's', '', 'b', 'i', 'g', 'g', 'e', 's', 't', '', 'f', 'i', 'n', 'a', 'n', 'c', 'i', 'a', 'l', '', 's', 'c', 'a', 'n', 'd', 'a', 'l', 's', '', 'o', 'f', '', 'r', 'e', 'c', 'e', 'n', 't', '', 'y', 'e', 'a', 'r', 's', '', 'T', 'w', 'o', '', 'y', 'e', 'a', 'r', 's', '', 'a', 'g', 'o', '', '', 'B', 'B', 'C', '', 'P', 'a', 'n', 'o', 'r', 'a', 'm', 'a', '', 'r', 'e', 'v', 'e', 'a', 'l', 'e', 'd', '', 'i', 'n', 't', 'e', 'r', 'n', 'a', 'l', '', 'd', 'o', 'c', 'u', 'm', 'e', 'n', 't', 's', '', 's', 'u', 'g', 'g', 'e', 's', 't', 'i', 'n', 'g', '', 'C', 'a', 'm', 'e', 'r', 'o', 'n', '', 'm', 'a', 'd', 'e', '', 'a', 'b', 'o', 'u', 't', '', '', '1', '0', 'm', '', '', '', '8', '', '2', 'm', '', '', 'j', 'e', 't', 't', 'i', 'n', 'g', '', 'a', 'r', 'o', 'u', 'n', 'd', '', 't', 'h', 'e', '', 'w', 'o', 'r', 'l', 'd', '', 't', 'o', '', 'p', 'r', 'o', 'm', 'o', 't', 'e', '', 'a', '', 'h', 'i', 'g', 'h', 'l', 'y', '', 'c', 'o', 'n', 't', 'r', 'o', 'v', 'e', 'r', 's', 'i', 'a', 'l', '', 'f', 'i', 'n', 'a', 'n', 'c', 'e', '', 'b', 'u', 's', 'i', 'n', 'e', 's', 's', '', '', 'G', 'r', 'e', 'e', 'n', 's', 'i', 'l', 'l', '', 'C', 'a', 'p', 'i', 't', 'a', 'l', '', '', 'G', 'r', 'e', 'e', 'n', 's', 'i', 'l', 'l', '', '', 'w', 'h', 'o', 's', 'e', '', 'd', 'i', 's', 'g', 'r', 'a', 'c', 'e', 'd', '', 'b', 'o', 's', 's', '', 'L', 'e', 'x', '', 'G', 'r', 'e', 'e', 'n', 's', 'i', 'l', 'l', '', 'w', 'a', 's', '', 'g', 'i', 'v', 'e', 'n', '', 'a', 'n', '', 'o', 'f', 'f', 'i', 'c', 'e', '', 'i', 'n', '', 'D', 'o', 'w', 'n', 'i', 'n', 'g', '', 'S', 't', 'r', 'e', 'e', 't', '', 'u', 'n', 'd', 'e', 'r', '', 'C', 'a', 'm', 'e', 'r', 'o', 'n', '', 's', '', 'p', 'r', 'e', 'm', 'i', 'e', 'r', 's', 'h', 'i', 'p', '', 'a', 'n', 'd', '', 'l', 'a', 't', 'e', 'r', '', 'b', 'e', 'c', 'a', 'm', 'e', '', 'b', 'o', 't', 'h', '', 'h', 'i', 's', '', 'f', 'r', 'i', 'e', 'n', 'd', '', 'a', 'n', 'd', '', 'h', 'i', 's', '', 'e', 'm', 'p', 'l', 'o', 'y', 'e', 'r', '', '', 'c', 'o', 'l', 'l', 'a', 'p', 's', 'e', 'd', '', 'i', 'n', '', 'M', 'a', 'r', 'c', 'h', '', '2', '0', '2', '1', '', '', 'B', 'i', 'l', 'l', 'i', 'o', 'n', 's', '', 'o', 'f', '', 'd', 'o', 'l', 'l', 'a', 'r', 's', '', 'o', 'f', '', 'i', 'n', 'v', 'e', 's', 't', 'o', 'r', 's', '', 'm', 'o', 'n', 'e', 'y', '', 'w', 'a', 's', '', 'm', 'i', 's', 's', 'i', 'n', 'g', '', '', 'C', 'r', 'i', 'm', 'i', 'n', 'a', 'l', '', 'i', 'n', 'q', 'u', 'i', 'r', 'i', 'e', 's', '', 'i', 'n', 't', 'o', '', 'a', 'l', 'l', 'e', 'g', 'e', 'd', '', 'f', 'r', 'a', 'u', 'd', '', 'a', 'r', 'e', '', 'o', 'n', 'g', 'o', 'i', 'n', 'g', '', 'i', 'n', '', 'G', 'e', 'r', 'm', 'a', 'n', 'y', '', 'a', 'n', 'd', '', 'S', 'w', 'i', 't', 'z', 'e', 'r', 'l', 'a', 'n', 'd', '', '', 'w', 'h', 'e', 'r', 'e', '', 'G', 'r', 'e', 'e', 'n', 's', 'i', 'l', 'l', '', 'h', 'a', 's', '', 'b', 'e', 'e', 'n', '', 'n', 'a', 'm', 'e', 'd', '', 'a', 's', '', 'a', '', 's', 'u', 's', 'p', 'e', 'c', 't', '', '', 'G', 'r', 'e', 'e', 'n', 's', 'i', 'l', 'l', '', 'p', 'r', 'e', 'v', 'i', 'o', 'u', 's', 'l', 'y', '', 'd', 'e', 'n', 'i', 'e', 'd', '', 'a', 'l', 'l', 'e', 'g', 'a', 't', 'i', 'o', 'n', 's', '', 'f', 'r', 'o', 'm', '', 'M', 'P', 's', '', 'o', 'n', '', 't', 'h', 'e', '', 'C', 'o', 'm', 'm', 'o', 'n', 's', '', 'T', 'r', 'e', 'a', 's', 'u', 'r', 'y', '', 'C', 'o', 'm', 'm', 'i', 't', 't', 'e', 'e', '', 'i', 'n', '', '2', '0', '2', '1', '', 't', 'h', 'a', 't', '', 'h', 'i', 's', '', 'c', 'o', 'l', 'l', 'a', 'p', 's', 'e', 'd', '', 'f', 'i', 'n', 'a', 'n', 'c', 'e', '', 'f', 'i', 'r', 'm', '', 'w', 'a', 's', '', 'a', '', '', 'f', 'r', 'a', 'u', 'd', '', '', 'o', 'r', '', 'a', '', '', 'P', 'o', 'n', 'z', 'i', '', 's', 'c', 'h', 'e', 'm', 'e', '', '', '', '', 'a', 'n', 'd', '', 'b', 'l', 'a', 'm', 'e', 'd', '', 't', 'h', 'e', '', 'f', 'i', 'r', 'm', '', 's', '', 'c', 'o', 'l', 'l', 'a', 'p', 's', 'e', '', 'o', 'n', '', 't', 'h', 'e', '', 'w', 'i', 't', 'h', 'd', 'r', 'a', 'w', 'a', 'l', '', 'o', 'f', '', 'c', 'o', 'v', 'e', 'r', '', 'f', 'r', 'o', 'm', '', 'i', 't', 's', '', 'i', 'n', 's', 'u', 'r', 'e', 'r', 's', '', ''] \n",
      "\n",
      "Exactly 5 Alphabetic Character:  \n",
      " ['appoi', 'nting', 'David', 'Camer', 'offic', 'state', 'Rishi', 'Sunak', 'chose', 'disre', 'close', 'assoc', 'iatio', 'bigge', 'finan', 'scand', 'recen', 'years', 'years', 'Panor', 'revea', 'inter', 'docum', 'sugge', 'sting', 'Camer', 'about', 'jetti', 'aroun', 'world', 'promo', 'highl', 'contr', 'overs', 'finan', 'busin', 'Green', 'Capit', 'Green', 'whose', 'disgr', 'Green', 'given', 'offic', 'Downi', 'Stree', 'under', 'Camer', 'premi', 'ershi', 'later', 'becam', 'frien', 'emplo', 'colla', 'March', 'Billi', 'dolla', 'inves', 'money', 'missi', 'Crimi', 'inqui', 'alleg', 'fraud', 'ongoi', 'Germa', 'Switz', 'erlan', 'where', 'Green', 'named', 'suspe', 'Green', 'previ', 'ously', 'denie', 'alleg', 'ation', 'Commo', 'Treas', 'Commi', 'colla', 'finan', 'fraud', 'Ponzi', 'schem', 'blame', 'colla', 'withd', 'rawal', 'cover', 'insur'] \n",
      "\n"
     ]
    }
   ],
   "source": [
    "# Findall 0 or more Word Character Denoted By Token \"/w*\"\n",
    "print('0 Or More Alphabetic Character: ','\\n',re.findall(r'\\w*',text),'\\n')\n",
    "\n",
    "# Findall 1 or more Word Character Denoted By Token \"/w+\"\n",
    "print('1 or More Alphabetic Character: ','\\n',re.findall(r'\\w+',text),'\\n')\n",
    "\n",
    "# Findall 0 or 1 Word Character Denoted By Token \"/w+\"\n",
    "print('0 Or 1 Alphabetic Character: ','\\n',re.findall(r'\\w?',text),'\\n')\n",
    "\n",
    "# Findall Exactly 5 Word Character Denoted By Token \"/w+\"\n",
    "print('Exactly 5 Alphabetic Character: ','\\n',re.findall(r'\\w{5}',text),'\\n')"
   ]
  },
  {
   "cell_type": "code",
   "execution_count": 82,
   "metadata": {},
   "outputs": [
    {
     "name": "stdout",
     "output_type": "stream",
     "text": [
      "Exactly 5 Alphabetic Character:  \n",
      " ['appointing', 'avid', 'ameron', 'ces', 'ate', 'ak', 'as', 'chosen', 'ard', 'close', 'association', 'biggest', 'ancial', 'candals', 'cent', 'ars', 'ars', 'ago', 'anorama', 'aled', 'al', 'cuments', 'ameron', 'ade', 'about', 'around', 'controversial', 'ance', 'business', 'apital', 'aced', 'boss', 'as', 'an', 'ce', 'ameron', 'and', 'ater', 'became', 'both', 'and', 'collapsed', 'arch', 'ars', 'as', 'al', 'alleged', 'aud', 'are', 'any', 'and', 'and', 'as', 'been', 'amed', 'as', 'ct', 'allegations', 'asury', 'at', 'collapsed', 'ance', 'as', 'aud', 'cheme', 'and', 'blamed', 'collapse', 'awal', 'cover'] \n",
      "\n",
      "Starting With 'd':  \n",
      " ['disregard', 'dals', 'documents', 'de', 'disgraced', 'der', 'dollars', 'denied', 'drawal'] \n",
      "\n",
      "Starting With 'D':  \n",
      " ['David', 'Downing'] \n",
      "\n",
      "Starting With 'd' or 'D':  \n",
      " ['David', 'disregard', 'dals', 'documents', 'de', 'disgraced', 'Downing', 'der', 'dollars', 'denied', 'drawal'] \n",
      "\n"
     ]
    }
   ],
   "source": [
    "# Alphabetic Sequences Starting With a,b or c\n",
    "print('Exactly 5 Alphabetic Character: ','\\n',re.findall(r'[a-c]+[a-zA-Z]+',text),'\\n')\n",
    "\n",
    "# Alphabetic Sequences Starting With d\n",
    "print('Starting With \\'d\\': ','\\n',re.findall(r'[d][a-zA-Z]+',text),'\\n')\n",
    "\n",
    "# Alphabetic Sequences Starting With D\n",
    "print('Starting With \\'D\\': ','\\n',re.findall(r'[D][a-zA-Z]+',text),'\\n')\n",
    "\n",
    "# Alphabetic Sequences Starting With d or D\n",
    "print('Starting With \\'d\\' or \\'D\\': ','\\n',re.findall(r'[dD][a-zA-Z]+',text),'\\n')"
   ]
  },
  {
   "cell_type": "markdown",
   "metadata": {},
   "source": [
    "## **Starts With .....**"
   ]
  },
  {
   "cell_type": "code",
   "execution_count": 51,
   "metadata": {},
   "outputs": [
    {
     "name": "stdout",
     "output_type": "stream",
     "text": [
      "Alphabetic Character Sequences Starting With \"d\":  \n",
      " [''] \n",
      "\n"
     ]
    }
   ],
   "source": [
    "# All Alphabetic Characters Starting With d\n",
    "print('Alphabetic Character Sequences Starting With \"d\": ','\\n',re.findall(r'\\A',text),'\\n')"
   ]
  }
 ],
 "metadata": {
  "kernelspec": {
   "display_name": "Python 3",
   "language": "python",
   "name": "python3"
  },
  "language_info": {
   "codemirror_mode": {
    "name": "ipython",
    "version": 3
   },
   "file_extension": ".py",
   "mimetype": "text/x-python",
   "name": "python",
   "nbconvert_exporter": "python",
   "pygments_lexer": "ipython3",
   "version": "3.12.0"
  }
 },
 "nbformat": 4,
 "nbformat_minor": 2
}
