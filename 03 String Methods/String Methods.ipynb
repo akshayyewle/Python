{
 "cells": [
  {
   "cell_type": "markdown",
   "metadata": {},
   "source": [
    "# **Setup**"
   ]
  },
  {
   "cell_type": "code",
   "execution_count": 1,
   "metadata": {},
   "outputs": [],
   "source": [
    "import pandas as pd \n",
    "import regex"
   ]
  },
  {
   "cell_type": "markdown",
   "metadata": {},
   "source": [
    "# **String Methods**"
   ]
  },
  {
   "cell_type": "code",
   "execution_count": 9,
   "metadata": {},
   "outputs": [
    {
     "name": "stdout",
     "output_type": "stream",
     "text": [
      "Hello\n"
     ]
    }
   ],
   "source": [
    "# text = \"In appointing David Cameron to one of the top four offices of state, Rishi Sunak has chosen to disregard his close association with one of the UK's biggest financial scandals of recent years.Two years ago, BBC Panorama revealed internal documents suggesting Cameron made about $10m (£8.2m) jetting around the world to promote a highly controversial finance business, Greensill Capital. Greensill, whose disgraced boss Lex Greensill was given an office in Downing Street under Cameron's premiership and later became both his friend and his employer, collapsed in March 2021. Billions of dollars of investors money was missing. Criminal inquiries into alleged fraud are ongoing in Germany and Switzerland, where Greensill has been named as a suspect. Greensill previously denied allegations from MPs on the Commons Treasury Committee in 2021 that his collapsed finance firm was a \\\"fraud\\\" or a \\\"Ponzi scheme\\\" - and blamed the firm's collapse on the withdrawal of cover from its insurers.\"\n",
    "\n",
    "text = 'Hello'\n",
    "print(text)"
   ]
  },
  {
   "cell_type": "markdown",
   "metadata": {},
   "source": [
    "## **String Length**"
   ]
  },
  {
   "cell_type": "code",
   "execution_count": 10,
   "metadata": {},
   "outputs": [
    {
     "data": {
      "text/plain": [
       "5"
      ]
     },
     "execution_count": 10,
     "metadata": {},
     "output_type": "execute_result"
    }
   ],
   "source": [
    "len(text)"
   ]
  },
  {
   "cell_type": "markdown",
   "metadata": {},
   "source": [
    "## **String Splicing** "
   ]
  },
  {
   "cell_type": "code",
   "execution_count": 13,
   "metadata": {},
   "outputs": [
    {
     "name": "stdout",
     "output_type": "stream",
     "text": [
      "He\n",
      "llo\n"
     ]
    }
   ],
   "source": [
    "print(text[0:2])\n",
    "print(text[2:])"
   ]
  },
  {
   "cell_type": "markdown",
   "metadata": {},
   "source": [
    "## **Capitalize Initials**"
   ]
  },
  {
   "cell_type": "code",
   "execution_count": 16,
   "metadata": {},
   "outputs": [
    {
     "name": "stdout",
     "output_type": "stream",
     "text": [
      "Hello\n"
     ]
    }
   ],
   "source": [
    "# Capitalize Initials Of Each Word\n",
    "text = 'hello'\n",
    "print(text.capitalize())"
   ]
  },
  {
   "cell_type": "markdown",
   "metadata": {},
   "source": [
    "## **Upper & Lower Case**"
   ]
  },
  {
   "cell_type": "code",
   "execution_count": 17,
   "metadata": {},
   "outputs": [
    {
     "name": "stdout",
     "output_type": "stream",
     "text": [
      "HELLO\n"
     ]
    }
   ],
   "source": [
    "# Capitalize Initials Of Each Word\n",
    "text = 'hello'\n",
    "print(text.upper())"
   ]
  },
  {
   "cell_type": "code",
   "execution_count": 18,
   "metadata": {},
   "outputs": [
    {
     "name": "stdout",
     "output_type": "stream",
     "text": [
      "hello\n"
     ]
    }
   ],
   "source": [
    "# Capitalize Initials Of Each Word\n",
    "text = 'HELLO'\n",
    "print(text.lower())"
   ]
  },
  {
   "cell_type": "markdown",
   "metadata": {},
   "source": [
    "## **Casefold Function**"
   ]
  },
  {
   "cell_type": "code",
   "execution_count": 19,
   "metadata": {},
   "outputs": [
    {
     "data": {
      "text/plain": [
       "'hassss'"
      ]
     },
     "execution_count": 19,
     "metadata": {},
     "output_type": "execute_result"
    }
   ],
   "source": [
    "# Conver Non-English Characters To English\n",
    "text = 'Haßß'\n",
    "text.casefold()"
   ]
  },
  {
   "cell_type": "markdown",
   "metadata": {},
   "source": [
    "## **Endswith Function**"
   ]
  },
  {
   "cell_type": "code",
   "execution_count": 21,
   "metadata": {},
   "outputs": [
    {
     "ename": "TypeError",
     "evalue": "str.endswith() takes no keyword arguments",
     "output_type": "error",
     "traceback": [
      "\u001b[1;31m---------------------------------------------------------------------------\u001b[0m",
      "\u001b[1;31mTypeError\u001b[0m                                 Traceback (most recent call last)",
      "\u001b[1;32mc:\\Users\\aksha\\OneDrive\\06 Data Science & Analytics\\Github\\Python\\03 String Methods\\String Methods.ipynb Cell 17\u001b[0m line \u001b[0;36m2\n\u001b[0;32m      <a href='vscode-notebook-cell:/c%3A/Users/aksha/OneDrive/06%20Data%20Science%20%26%20Analytics/Github/Python/03%20String%20Methods/String%20Methods.ipynb#X23sZmlsZQ%3D%3D?line=0'>1</a>\u001b[0m text \u001b[39m=\u001b[39m \u001b[39m'\u001b[39m\u001b[39mHello My Friend 123456 How are you ?\u001b[39m\u001b[39m'\u001b[39m\n\u001b[1;32m----> <a href='vscode-notebook-cell:/c%3A/Users/aksha/OneDrive/06%20Data%20Science%20%26%20Analytics/Github/Python/03%20String%20Methods/String%20Methods.ipynb#X23sZmlsZQ%3D%3D?line=1'>2</a>\u001b[0m text\u001b[39m.\u001b[39;49mendswith(_end\u001b[39m=\u001b[39;49m\u001b[39m'\u001b[39;49m\u001b[39m123456\u001b[39;49m\u001b[39m'\u001b[39;49m)\n",
      "\u001b[1;31mTypeError\u001b[0m: str.endswith() takes no keyword arguments"
     ]
    }
   ],
   "source": [
    "text = 'Hello My Friend 123456 How are you ?'\n",
    "text.endswith(_end='123456')"
   ]
  },
  {
   "cell_type": "markdown",
   "metadata": {},
   "source": [
    "## **Check Datatype**"
   ]
  },
  {
   "cell_type": "code",
   "execution_count": 23,
   "metadata": {},
   "outputs": [
    {
     "name": "stdout",
     "output_type": "stream",
     "text": [
      "True\n",
      "False\n"
     ]
    }
   ],
   "source": [
    "# Check Alphabetic\n",
    "text = 'Hello'\n",
    "print(text.isalpha())\n",
    "\n",
    "text = 'Hello 1234'\n",
    "print(text.isalpha())"
   ]
  },
  {
   "cell_type": "code",
   "execution_count": 24,
   "metadata": {},
   "outputs": [
    {
     "name": "stdout",
     "output_type": "stream",
     "text": [
      "True\n",
      "False\n"
     ]
    }
   ],
   "source": [
    "# Check Alpha-Numeric\n",
    "text = 'Hello'\n",
    "print(text.isalnum())\n",
    "\n",
    "text = 'Hello 1234'\n",
    "print(text.isalnum())"
   ]
  },
  {
   "cell_type": "code",
   "execution_count": 25,
   "metadata": {},
   "outputs": [
    {
     "name": "stdout",
     "output_type": "stream",
     "text": [
      "True\n",
      "False\n"
     ]
    }
   ],
   "source": [
    "# Check Lowercase\n",
    "text = 'hello'\n",
    "print(text.islower())\n",
    "\n",
    "text = 'HELLO'\n",
    "print(text.islower())"
   ]
  },
  {
   "cell_type": "code",
   "execution_count": 27,
   "metadata": {},
   "outputs": [
    {
     "name": "stdout",
     "output_type": "stream",
     "text": [
      "False\n",
      "True\n"
     ]
    }
   ],
   "source": [
    "# Check Uppercase\n",
    "text = 'hello'\n",
    "print(text.isupper())\n",
    "\n",
    "text = 'HELLO'\n",
    "print(text.isupper())"
   ]
  }
 ],
 "metadata": {
  "kernelspec": {
   "display_name": "Python 3",
   "language": "python",
   "name": "python3"
  },
  "language_info": {
   "codemirror_mode": {
    "name": "ipython",
    "version": 3
   },
   "file_extension": ".py",
   "mimetype": "text/x-python",
   "name": "python",
   "nbconvert_exporter": "python",
   "pygments_lexer": "ipython3",
   "version": "3.12.0"
  }
 },
 "nbformat": 4,
 "nbformat_minor": 2
}
