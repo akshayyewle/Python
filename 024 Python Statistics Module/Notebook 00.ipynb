{
 "cells": [
  {
   "cell_type": "markdown",
   "metadata": {},
   "source": [
    "# **Setup**"
   ]
  },
  {
   "cell_type": "code",
   "execution_count": 2,
   "metadata": {},
   "outputs": [],
   "source": [
    "import statistics"
   ]
  },
  {
   "cell_type": "markdown",
   "metadata": {},
   "source": [
    "# **Mean**"
   ]
  },
  {
   "cell_type": "code",
   "execution_count": 19,
   "metadata": {},
   "outputs": [
    {
     "data": {
      "text/plain": [
       "2"
      ]
     },
     "execution_count": 19,
     "metadata": {},
     "output_type": "execute_result"
    }
   ],
   "source": [
    "# Mean\n",
    "# https://docs.python.org/3/library/statistics.html#statistics.mean \n",
    "\n",
    "statistics.mean([1, 2, 3])"
   ]
  },
  {
   "cell_type": "code",
   "execution_count": 20,
   "metadata": {},
   "outputs": [
    {
     "data": {
      "text/plain": [
       "2.0"
      ]
     },
     "execution_count": 20,
     "metadata": {},
     "output_type": "execute_result"
    }
   ],
   "source": [
    "# Faster Mean\n",
    "# https://docs.python.org/3/library/statistics.html#statistics.fmean\n",
    "\n",
    "statistics.fmean([1, 2, 3])"
   ]
  },
  {
   "cell_type": "code",
   "execution_count": 21,
   "metadata": {},
   "outputs": [
    {
     "data": {
      "text/plain": [
       "1.8171205928321397"
      ]
     },
     "execution_count": 21,
     "metadata": {},
     "output_type": "execute_result"
    }
   ],
   "source": [
    "# Geometric Mean\n",
    "# https://docs.python.org/3/library/statistics.html#statistics.geometric_mean\n",
    "\n",
    "statistics.geometric_mean([1, 2, 3])"
   ]
  },
  {
   "cell_type": "code",
   "execution_count": 22,
   "metadata": {},
   "outputs": [
    {
     "data": {
      "text/plain": [
       "1.6363636363636365"
      ]
     },
     "execution_count": 22,
     "metadata": {},
     "output_type": "execute_result"
    }
   ],
   "source": [
    "# Harmonic Mean\n",
    "# https://docs.python.org/3/library/statistics.html#statistics.harmonic_mean\n",
    "\n",
    "statistics.harmonic_mean([1, 2, 3])"
   ]
  },
  {
   "cell_type": "markdown",
   "metadata": {},
   "source": [
    "# **Median**"
   ]
  },
  {
   "cell_type": "code",
   "execution_count": 23,
   "metadata": {},
   "outputs": [
    {
     "data": {
      "text/plain": [
       "2.5"
      ]
     },
     "execution_count": 23,
     "metadata": {},
     "output_type": "execute_result"
    }
   ],
   "source": [
    "# Median\n",
    "# https://docs.python.org/3/library/statistics.html#statistics.median\n",
    "\n",
    "statistics.median([1, 2, 3,4])"
   ]
  },
  {
   "cell_type": "code",
   "execution_count": 24,
   "metadata": {},
   "outputs": [
    {
     "data": {
      "text/plain": [
       "2"
      ]
     },
     "execution_count": 24,
     "metadata": {},
     "output_type": "execute_result"
    }
   ],
   "source": [
    "# Median Low\n",
    "# https://docs.python.org/3/library/statistics.html#statistics.median_low\n",
    "\n",
    "statistics.median_low([1, 2, 3, 4])"
   ]
  },
  {
   "cell_type": "code",
   "execution_count": 25,
   "metadata": {},
   "outputs": [
    {
     "data": {
      "text/plain": [
       "3"
      ]
     },
     "execution_count": 25,
     "metadata": {},
     "output_type": "execute_result"
    }
   ],
   "source": [
    "# Median High\n",
    "# https://docs.python.org/3/library/statistics.html#statistics.median_high\n",
    "\n",
    "statistics.median_high([1, 2, 3, 4])"
   ]
  },
  {
   "cell_type": "code",
   "execution_count": 26,
   "metadata": {},
   "outputs": [
    {
     "data": {
      "text/plain": [
       "2.25"
      ]
     },
     "execution_count": 26,
     "metadata": {},
     "output_type": "execute_result"
    }
   ],
   "source": [
    "# Median Grouped\n",
    "# https://docs.python.org/3/library/statistics.html#statistics.median_grouped \n",
    "\n",
    "statistics.median_grouped([1, 2, 2, 3, 4])"
   ]
  },
  {
   "cell_type": "markdown",
   "metadata": {},
   "source": [
    "# **Mode**"
   ]
  },
  {
   "cell_type": "code",
   "execution_count": 18,
   "metadata": {},
   "outputs": [
    {
     "data": {
      "text/plain": [
       "2"
      ]
     },
     "execution_count": 18,
     "metadata": {},
     "output_type": "execute_result"
    }
   ],
   "source": [
    "# Mode\n",
    "# https://docs.python.org/3/library/statistics.html#statistics.mode\n",
    "\n",
    "statistics.mode([1, 2, 2, 3])"
   ]
  },
  {
   "cell_type": "code",
   "execution_count": 17,
   "metadata": {},
   "outputs": [
    {
     "data": {
      "text/plain": [
       "[2, 3]"
      ]
     },
     "execution_count": 17,
     "metadata": {},
     "output_type": "execute_result"
    }
   ],
   "source": [
    "# Multi Mode\n",
    "# https://docs.python.org/3/library/statistics.html#statistics.multimode\n",
    "\n",
    "statistics.multimode([1, 2, 2, 3, 3])"
   ]
  },
  {
   "cell_type": "markdown",
   "metadata": {},
   "source": [
    "# **KDE**"
   ]
  },
  {
   "cell_type": "code",
   "execution_count": 28,
   "metadata": {},
   "outputs": [
    {
     "name": "stdout",
     "output_type": "stream",
     "text": [
      "<function kde.<locals>.pdf at 0x000002556A09D3A0>\n"
     ]
    }
   ],
   "source": [
    "# KDE \n",
    "# https://docs.python.org/3/library/statistics.html#statistics.kde \n",
    "\n",
    "sample = [-2.1, -1.3, -0.4, 1.9, 5.1, 6.2]\n",
    "f_hat = statistics.kde(sample, h=1.5)\n",
    "print(f_hat)\n",
    "\n"
   ]
  },
  {
   "cell_type": "markdown",
   "metadata": {},
   "source": [
    "# **Variance & Std. Deviation**"
   ]
  },
  {
   "cell_type": "markdown",
   "metadata": {},
   "source": [
    "# **Population**"
   ]
  },
  {
   "cell_type": "code",
   "execution_count": 29,
   "metadata": {},
   "outputs": [
    {
     "data": {
      "text/plain": [
       "0.816496580927726"
      ]
     },
     "execution_count": 29,
     "metadata": {},
     "output_type": "execute_result"
    }
   ],
   "source": [
    "# Population Standard Deviation\n",
    "statistics.pstdev([1, 2, 3])"
   ]
  },
  {
   "cell_type": "code",
   "execution_count": 30,
   "metadata": {},
   "outputs": [
    {
     "data": {
      "text/plain": [
       "0.6666666666666666"
      ]
     },
     "execution_count": 30,
     "metadata": {},
     "output_type": "execute_result"
    }
   ],
   "source": [
    "# Population Variance\n",
    "statistics.pvariance([1, 2, 3])"
   ]
  },
  {
   "cell_type": "markdown",
   "metadata": {},
   "source": [
    "## **Sample**"
   ]
  },
  {
   "cell_type": "code",
   "execution_count": 32,
   "metadata": {},
   "outputs": [
    {
     "data": {
      "text/plain": [
       "1.0"
      ]
     },
     "execution_count": 32,
     "metadata": {},
     "output_type": "execute_result"
    }
   ],
   "source": [
    "# Sample Std. Deviation\n",
    "statistics.stdev([1, 2, 3])"
   ]
  },
  {
   "cell_type": "code",
   "execution_count": 33,
   "metadata": {},
   "outputs": [
    {
     "data": {
      "text/plain": [
       "1"
      ]
     },
     "execution_count": 33,
     "metadata": {},
     "output_type": "execute_result"
    }
   ],
   "source": [
    "# Sample Variance\n",
    "statistics.variance([1, 2, 3])"
   ]
  },
  {
   "cell_type": "markdown",
   "metadata": {},
   "source": [
    "# **Covariance**"
   ]
  },
  {
   "cell_type": "code",
   "execution_count": 36,
   "metadata": {},
   "outputs": [
    {
     "data": {
      "text/plain": [
       "0.5"
      ]
     },
     "execution_count": 36,
     "metadata": {},
     "output_type": "execute_result"
    }
   ],
   "source": [
    "# Covariance\n",
    "# https://docs.python.org/3/library/statistics.html#statistics.covariance \n",
    "\n",
    "statistics.covariance([1, 2], [3, 4])"
   ]
  },
  {
   "cell_type": "code",
   "execution_count": 38,
   "metadata": {},
   "outputs": [
    {
     "data": {
      "text/plain": [
       "1.0"
      ]
     },
     "execution_count": 38,
     "metadata": {},
     "output_type": "execute_result"
    }
   ],
   "source": [
    "# Correlation\n",
    "# https://docs.python.org/3/library/statistics.html#statistics.correlation \n",
    "\n",
    "# Mercury, Venus, Earth, Mars, Jupiter, Saturn, Uranus, and  Neptune\n",
    "orbital_period = [88, 225, 365, 687, 4331, 10_756, 30_687, 60_190]    # days\n",
    "dist_from_sun = [58, 108, 150, 228, 778, 1_400, 2_900, 4_500] # million km\n",
    "\n",
    "# Show that a perfect monotonic relationship exists\n",
    "statistics.correlation(orbital_period, dist_from_sun, method='ranked')"
   ]
  },
  {
   "cell_type": "markdown",
   "metadata": {},
   "source": [
    "# **Linear Regression**"
   ]
  },
  {
   "cell_type": "code",
   "execution_count": 44,
   "metadata": {},
   "outputs": [
    {
     "ename": "NameError",
     "evalue": "name 'slope' is not defined",
     "output_type": "error",
     "traceback": [
      "\u001b[1;31m---------------------------------------------------------------------------\u001b[0m",
      "\u001b[1;31mNameError\u001b[0m                                 Traceback (most recent call last)",
      "Cell \u001b[1;32mIn[44], line 9\u001b[0m\n\u001b[0;32m      7\u001b[0m \u001b[38;5;66;03m# Dwarf planets:   Pluto,  Eris,    Makemake, Haumea, Ceres\u001b[39;00m\n\u001b[0;32m      8\u001b[0m orbital_periods \u001b[38;5;241m=\u001b[39m [\u001b[38;5;241m90_560\u001b[39m, \u001b[38;5;241m204_199\u001b[39m, \u001b[38;5;241m111_845\u001b[39m, \u001b[38;5;241m103_410\u001b[39m, \u001b[38;5;241m1_680\u001b[39m]  \u001b[38;5;66;03m# days\u001b[39;00m\n\u001b[1;32m----> 9\u001b[0m predicted_dist \u001b[38;5;241m=\u001b[39m [math\u001b[38;5;241m.\u001b[39mcbrt(\u001b[43mslope\u001b[49m \u001b[38;5;241m*\u001b[39m (p \u001b[38;5;241m*\u001b[39m p)) \u001b[38;5;28;01mfor\u001b[39;00m p \u001b[38;5;129;01min\u001b[39;00m orbital_periods]\n\u001b[0;32m     10\u001b[0m period_squared \u001b[38;5;241m=\u001b[39m [p \u001b[38;5;241m*\u001b[39m p \u001b[38;5;28;01mfor\u001b[39;00m p \u001b[38;5;129;01min\u001b[39;00m orbital_period]\n\u001b[0;32m     12\u001b[0m model \u001b[38;5;241m=\u001b[39m statistics\u001b[38;5;241m.\u001b[39mlinear_regression(statistics\u001b[38;5;241m.\u001b[39mperiod_squared, dist_cubed, proportional\u001b[38;5;241m=\u001b[39m\u001b[38;5;28;01mTrue\u001b[39;00m)\n",
      "\u001b[1;31mNameError\u001b[0m: name 'slope' is not defined"
     ]
    }
   ],
   "source": [
    "# Linear Regression\n",
    "# https://docs.python.org/3/library/statistics.html#statistics.linear_regression \n",
    "\n",
    "# Dwarf planets:   Pluto,  Eris,    Makemake, Haumea, Ceres\n",
    "orbital_periods = [90_560, 204_199, 111_845, 103_410, 1_680]  # days\n",
    "predicted_dist = [math.cbrt(slope * (p * p)) for p in orbital_periods]\n",
    "period_squared = [p * p for p in orbital_period]\n",
    "\n",
    "model = statistics.linear_regression(statistics.period_squared, dist_cubed, proportional=True)\n",
    "slope = model.slope\n",
    "\n",
    "list(map(round, predicted_dist))"
   ]
  },
  {
   "cell_type": "markdown",
   "metadata": {},
   "source": [
    "# **Reference**\n",
    "\n",
    "- https://www.kdnuggets.com/mastering-pythons-built-in-statistics-module\n",
    "- https://docs.python.org/3/library/statistics.html"
   ]
  }
 ],
 "metadata": {
  "kernelspec": {
   "display_name": "Python 3",
   "language": "python",
   "name": "python3"
  },
  "language_info": {
   "codemirror_mode": {
    "name": "ipython",
    "version": 3
   },
   "file_extension": ".py",
   "mimetype": "text/x-python",
   "name": "python",
   "nbconvert_exporter": "python",
   "pygments_lexer": "ipython3",
   "version": "3.13.1"
  }
 },
 "nbformat": 4,
 "nbformat_minor": 2
}
