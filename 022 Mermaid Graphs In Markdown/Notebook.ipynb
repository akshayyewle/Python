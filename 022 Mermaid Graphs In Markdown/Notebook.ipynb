{
 "cells": [
  {
   "cell_type": "markdown",
   "metadata": {},
   "source": [
    "# **Setup**"
   ]
  },
  {
   "cell_type": "code",
   "execution_count": null,
   "metadata": {},
   "outputs": [],
   "source": []
  },
  {
   "cell_type": "markdown",
   "metadata": {},
   "source": [
    "# **Flow Chart**\n",
    "\n",
    "* TB: Top down, vertical flow\n",
    "* LR: Left to right, horizontal flow\n",
    "* BT: Bottom up, vertical flow\n",
    "* RL: Right to left, horizontal flow"
   ]
  },
  {
   "cell_type": "markdown",
   "metadata": {},
   "source": [
    "## **Chart 01**"
   ]
  },
  {
   "cell_type": "markdown",
   "metadata": {},
   "source": [
    "### **Left To Right**"
   ]
  },
  {
   "cell_type": "markdown",
   "metadata": {},
   "source": [
    "```mermaid\n",
    "flowchart LR\n",
    "    ItemA-->ItemB-->ItemC\n",
    "```"
   ]
  },
  {
   "cell_type": "markdown",
   "metadata": {},
   "source": [
    "### **Right To Left**"
   ]
  },
  {
   "cell_type": "markdown",
   "metadata": {},
   "source": [
    "```mermaid\n",
    "flowchart RL\n",
    "    ItemA-->ItemB-->ItemC\n",
    "```"
   ]
  },
  {
   "cell_type": "markdown",
   "metadata": {},
   "source": [
    "### **Top To Bottom**"
   ]
  },
  {
   "cell_type": "markdown",
   "metadata": {},
   "source": [
    "```mermaid\n",
    "flowchart TB\n",
    "    ItemA-->ItemB-->ItemC\n",
    "```"
   ]
  },
  {
   "cell_type": "markdown",
   "metadata": {},
   "source": [
    "### **Bottom To Top**"
   ]
  },
  {
   "cell_type": "markdown",
   "metadata": {},
   "source": [
    "```mermaid\n",
    "flowchart BT\n",
    "    ItemA-->ItemB-->ItemC\n",
    "```"
   ]
  },
  {
   "cell_type": "markdown",
   "metadata": {},
   "source": [
    "## **Chart 02**"
   ]
  },
  {
   "cell_type": "markdown",
   "metadata": {},
   "source": [
    "```mermaid\n",
    "flowchart LR\n",
    "    style ItemA fill:#C4F7A1, stroke:#7FC6A4\n",
    "    style ItemB fill:#FFEC51, stroke:#FFEC51  \n",
    "    style ItemC fill:#FFC4EB, stroke:#FFC4EB \n",
    "    ItemA-->ItemB-->ItemC\n",
    "```"
   ]
  },
  {
   "cell_type": "markdown",
   "metadata": {},
   "source": [
    "## **Chart 03**"
   ]
  },
  {
   "cell_type": "markdown",
   "metadata": {},
   "source": [
    "```mermaid\n",
    "graph\n",
    "    A[ItemA]--> ItemB\n",
    "    A--> ItemC\n",
    "    subgraph ItemC\n",
    "        D[ItemD]-->E[ItemE]\n",
    "        E-->D\n",
    "    end\n",
    "\n",
    "    X[ItemX]==>Decision\n",
    "    click X \"https://mermaid.js.org/\"\n",
    "    Decision{Item Y?}==>|Yes| Y[ItemY]\n",
    "    Decision==>|No| Z[ItemZ]\n",
    "```"
   ]
  },
  {
   "cell_type": "markdown",
   "metadata": {},
   "source": [
    "# **Pie Chart**"
   ]
  },
  {
   "cell_type": "markdown",
   "metadata": {},
   "source": [
    "```mermaid\n",
    "pie title Pie chart 1\n",
    "    \"Category A\" : 0.5\n",
    "    \"Category B\" : 0.2\n",
    "    \"Category C\" : 0.3\n",
    "```"
   ]
  },
  {
   "cell_type": "markdown",
   "metadata": {},
   "source": [
    "```mermaid\n",
    "pie title Pie chart 2\n",
    "    \"Category A\" : 2000\n",
    "    \"Category B\" : 500\n",
    "    \"Category C\" : 1000\n",
    "```"
   ]
  },
  {
   "cell_type": "markdown",
   "metadata": {},
   "source": [
    "# **XY Charts**"
   ]
  },
  {
   "cell_type": "markdown",
   "metadata": {},
   "source": [
    "```mermaid\n",
    "xychart-beta\n",
    "    title \"XY chart title\"\n",
    "    x-axis \"Purchase date\" [Jan, Feb, Mar, Apr, May, Jun]\n",
    "    y-axis \"Y variable\" 0 --> 100\n",
    "    bar [50, 60, 75, 82, 75, 40]\n",
    "    line [50, 45, 75, 82, 65, 55]\n",
    "```"
   ]
  },
  {
   "cell_type": "markdown",
   "metadata": {},
   "source": [
    "# **Sankey Charts**"
   ]
  },
  {
   "cell_type": "markdown",
   "metadata": {},
   "source": [
    "```mermaid\n",
    "sankey-beta\n",
    "    Category L1, Category R1, 5\n",
    "    Category L1, Category R2, 10\n",
    "    Category L2, Category R1, 15\n",
    "    Category L2, Category R3, 8\n",
    "    Category L3, Category R3, 20\n",
    "```"
   ]
  },
  {
   "cell_type": "markdown",
   "metadata": {},
   "source": [
    "# **Quadrant Charts**"
   ]
  },
  {
   "cell_type": "markdown",
   "metadata": {},
   "source": [
    "```mermaid\n",
    "quadrantChart\n",
    "    title Quadrant chart\n",
    "    x-axis Left x --> Right x\n",
    "    y-axis Bottom y --> Top y\n",
    "    quadrant-1 Quadrant A\n",
    "    quadrant-2 Quadrant B\n",
    "    quadrant-3 Quadrant C\n",
    "    quadrant-4 Quadrant D\n",
    "    Point A: [0.3, 0.6]\n",
    "    Point B: [0.4, 0.2]\n",
    "    Point C: [0.6, 0.8]\n",
    "    Point D: [0.8, 0.3]\n",
    "    Point E: [0.2, 0.3]\n",
    "    Point F: [0.5, 0.7]\n",
    "```"
   ]
  },
  {
   "cell_type": "markdown",
   "metadata": {},
   "source": [
    "# **Timeline Charts**"
   ]
  },
  {
   "cell_type": "markdown",
   "metadata": {},
   "source": [
    "```mermaid\n",
    "timeline\n",
    "    title Timeline title\n",
    "    2015: EventA\n",
    "        : EventB\n",
    "    2020: EventC\n",
    "    2025: EventD\n",
    "        : EventE\n",
    "        : EventF\n",
    "```"
   ]
  },
  {
   "cell_type": "markdown",
   "metadata": {},
   "source": [
    "# **Gantt Charts**"
   ]
  },
  {
   "cell_type": "markdown",
   "metadata": {},
   "source": [
    "```mermaid\n",
    "gantt \n",
    "    title Gantt chart 1\n",
    "    dateFormat YYYY-MM-DD\n",
    "    axisFormat %b %d\n",
    "    section Section A\n",
    "        Task A1: a1, 2024-04-15, 7d\n",
    "        Task A2: after a1, 5d\n",
    "    section Section B\n",
    "        Task B1: 2024-04-22, 2024-05-02\n",
    "        Task B2: 2024-04-29, 5d\n",
    "```"
   ]
  },
  {
   "cell_type": "markdown",
   "metadata": {},
   "source": [
    "```mermaid\n",
    "gantt \n",
    "    title Gantt chart 2\n",
    "    dateFormat YYYY-MM-DD\n",
    "    axisFormat %b %d\n",
    "    excludes weekends 2024-04-25\n",
    "    section Section A\n",
    "        Task A1: done, a1, 2024-04-15, 7d\n",
    "        Task A2: active, after a1, 5d\n",
    "    section Section B\n",
    "        Task B1: active, 2024-04-22, 2024-05-02\n",
    "        Task B2: 2024-04-29, 5d\n",
    "```"
   ]
  },
  {
   "cell_type": "markdown",
   "metadata": {},
   "source": [
    "# **Journey Maps**"
   ]
  },
  {
   "cell_type": "markdown",
   "metadata": {},
   "source": [
    "```mermaid\n",
    "journey\n",
    "    title Journey 1\n",
    "    section Section A\n",
    "        Activity 1A: 5: Person1\n",
    "        Activity 2A: 3: Person2\n",
    "        Activity 3A: 2: Person1, Person2\n",
    "    section Section B\n",
    "        Activity 1B: 4: Person2\n",
    "        Activity 1B: 5: Person1\n",
    "```"
   ]
  },
  {
   "cell_type": "markdown",
   "metadata": {},
   "source": [
    "# **Mind Maps**"
   ]
  },
  {
   "cell_type": "markdown",
   "metadata": {},
   "source": [
    "```mermaid\n",
    "mindmap\n",
    "root((Center node))\n",
    "    Node1\n",
    "        Node1A\n",
    "        Node1B\n",
    "        Node1C\n",
    "    Node2\n",
    "        Node2A\n",
    "        Node2B\n",
    "            Node2B1\n",
    "            Node2B2\n",
    "    Node3\n",
    "        Node3A\n",
    "        Node3B\n",
    "    Node4\n",
    "        Node4A\n",
    "            Node4A1    \n",
    "```"
   ]
  },
  {
   "cell_type": "markdown",
   "metadata": {},
   "source": [
    "# **State Diagram**"
   ]
  },
  {
   "cell_type": "markdown",
   "metadata": {},
   "source": [
    "```mermaid\n",
    "stateDiagram\n",
    "    [*] --> StateA\n",
    "    StateA --> [*]\n",
    "    StateA --> StateB\n",
    "    StateB --> StateA\n",
    "    StateB --> StateD\n",
    "    StateD --> [*]\n",
    "```"
   ]
  },
  {
   "cell_type": "markdown",
   "metadata": {},
   "source": [
    "# **Sequence Diagram**"
   ]
  },
  {
   "cell_type": "markdown",
   "metadata": {},
   "source": [
    "## **Chart 01**"
   ]
  },
  {
   "cell_type": "markdown",
   "metadata": {},
   "source": [
    "```mermaid\n",
    "sequenceDiagram\n",
    "    ParticipantA->ParticipantB: Line\n",
    "    ParticipantB-->ParticipantC: Dotted line\n",
    "    ParticipantA->>ParticipantB: Line arrow\n",
    "    ParticipantA-->>ParticipantC: Dotted line arrow\n",
    "    ParticipantB->>ParticipantB: Rounded arrow\n",
    "    ParticipantC-->>ParticipantC: Dotted rounded arrow\n",
    "```"
   ]
  },
  {
   "cell_type": "markdown",
   "metadata": {},
   "source": [
    "## **Chart 02**\n",
    "\n",
    "- Adding Numbers"
   ]
  },
  {
   "cell_type": "markdown",
   "metadata": {},
   "source": [
    "```mermaid\n",
    "sequenceDiagram\n",
    "    autonumber\n",
    "    participant A as ParticipantA\n",
    "    participant B as ParticipantB\n",
    "    participant C as ParticipantC\n",
    "    A->B: Line\n",
    "    B-->C: Dotted line\n",
    "    A->>B: Line arrow\n",
    "    A-->>C: Dotted line arrow\n",
    "    B->>B: Rounded arrow\n",
    "    C-->>C: Dotted rounded arrow\n",
    "    Note left of A: NOTE\n",
    "    loop\n",
    "        A->>B: Loop text\n",
    "    end\n",
    "```"
   ]
  },
  {
   "cell_type": "markdown",
   "metadata": {},
   "source": [
    "# **ER Diagrams**"
   ]
  },
  {
   "cell_type": "markdown",
   "metadata": {},
   "source": [
    "```mermaid\n",
    "erDiagram\n",
    "    Item1 ||--o{ Item2: text1\n",
    "    Item2 ||--|{ Item3: text2\n",
    "    Item1 }|..|{ Item4: text3\n",
    "    Item4 }o--o{ Item4: text3\n",
    "```"
   ]
  },
  {
   "cell_type": "markdown",
   "metadata": {},
   "source": [
    "# **Class Diagrams**"
   ]
  },
  {
   "cell_type": "markdown",
   "metadata": {},
   "source": [
    "```mermaid\n",
    "classDiagram\n",
    "    SuperClass --> SubclassA\n",
    "    SuperClass --> SubclassB: Note\n",
    "    SuperClass : +int attribute1\n",
    "    SuperClass : +str attribute2\n",
    "    SuperClass: +method1()\n",
    "    SuperClass: +method2()\n",
    "    class SubclassA{\n",
    "        +str attribute2A\n",
    "        +method1A()\n",
    "        +method2A()\n",
    "      }\n",
    "    class SubclassB{\n",
    "        +int attribute1B\n",
    "        +method1B()\n",
    "      }\n",
    "```"
   ]
  },
  {
   "cell_type": "markdown",
   "metadata": {},
   "source": [
    "# **Git Diagrams**"
   ]
  },
  {
   "cell_type": "markdown",
   "metadata": {},
   "source": [
    "```mermaid\n",
    "gitGraph\n",
    "      commit\n",
    "      commit\n",
    "      branch develop\n",
    "      checkout develop\n",
    "      commit\n",
    "      commit\n",
    "      checkout main\n",
    "      merge develop\n",
    "      commit\n",
    "      commit\n",
    "```"
   ]
  },
  {
   "cell_type": "markdown",
   "metadata": {},
   "source": [
    "```mermaid\n",
    "    gitGraph\n",
    "       commit\n",
    "       commit\n",
    "       commit\n",
    "\n",
    "\n",
    "```"
   ]
  },
  {
   "cell_type": "markdown",
   "metadata": {},
   "source": [
    "```mermaid\n",
    "    gitGraph\n",
    "       commit\n",
    "       commit\n",
    "       branch develop\n",
    "       commit\n",
    "       commit\n",
    "       commit\n",
    "       checkout main\n",
    "       commit\n",
    "       commit\n",
    "\n",
    "       \n",
    "```"
   ]
  },
  {
   "cell_type": "markdown",
   "metadata": {},
   "source": [
    "# **Reference**\n",
    "\n",
    "* https://towardsdatascience.com/introduction-to-mermaid-graphs-in-markdown-080d4377cab4\n",
    "* https://mermaid.js.org/intro/"
   ]
  }
 ],
 "metadata": {
  "language_info": {
   "name": "python"
  }
 },
 "nbformat": 4,
 "nbformat_minor": 2
}
