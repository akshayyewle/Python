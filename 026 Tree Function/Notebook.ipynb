{
 "cells": [
  {
   "cell_type": "markdown",
   "metadata": {},
   "source": [
    "# **Tree Function**"
   ]
  },
  {
   "cell_type": "code",
   "execution_count": 118,
   "metadata": {},
   "outputs": [
    {
     "name": "stdout",
     "output_type": "stream",
     "text": [
      "# Drawing Tree\n",
      "   *   \n",
      "   **  \n",
      "  ***  \n",
      "   *   \n"
     ]
    }
   ],
   "source": [
    "def tree(height):\n",
    "    print('# Drawing Tree')\n",
    "    string_length = (height * 2)+1\n",
    "\n",
    "    # Draw the top of the tree\n",
    "    for i in range(height):\n",
    "        string = '*'*(i+1)\n",
    "        print(string.center(string_length))\n",
    "    \n",
    "    # Draw the bottom of the tree\n",
    "    print('*'.center(string_length))\n",
    "\n",
    "# Draw the trunk of the tree\n",
    "tree(3)"
   ]
  },
  {
   "cell_type": "markdown",
   "metadata": {},
   "source": [
    "# **Reference**"
   ]
  },
  {
   "cell_type": "code",
   "execution_count": 2,
   "metadata": {},
   "outputs": [],
   "source": [
    "# https://www.youtube.com/shorts/SGD7k-8i0Mw"
   ]
  }
 ],
 "metadata": {
  "kernelspec": {
   "display_name": "Python 3",
   "language": "python",
   "name": "python3"
  },
  "language_info": {
   "codemirror_mode": {
    "name": "ipython",
    "version": 3
   },
   "file_extension": ".py",
   "mimetype": "text/x-python",
   "name": "python",
   "nbconvert_exporter": "python",
   "pygments_lexer": "ipython3",
   "version": "3.13.2"
  }
 },
 "nbformat": 4,
 "nbformat_minor": 2
}
