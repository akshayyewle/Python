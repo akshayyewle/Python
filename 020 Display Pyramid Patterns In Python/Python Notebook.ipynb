{
 "cells": [
  {
   "cell_type": "markdown",
   "metadata": {},
   "source": [
    "# **Normal Pyramid**"
   ]
  },
  {
   "cell_type": "code",
   "execution_count": 13,
   "metadata": {},
   "outputs": [
    {
     "name": "stdout",
     "output_type": "stream",
     "text": [
      "          "
     ]
    }
   ],
   "source": [
    "x = '*'\n",
    "height = 5 \n",
    "\n",
    "for i in range(5):\n",
    "    for j in range(5-i-1):\n",
    "        print(' ',end='')\n",
    "    \n",
    "    for k in range(height + )"
   ]
  },
  {
   "cell_type": "code",
   "execution_count": 10,
   "metadata": {},
   "outputs": [],
   "source": [
    "def print_pyramid(height):\n",
    "    for i in range(height):\n",
    "        # Print leading spaces\n",
    "        for j in range(height - i - 1):\n",
    "            print(\" \", end=\"\")\n",
    "        \n",
    "        # Print the '*' characters\n",
    "        for k in range(2 * i + 1):\n",
    "            print(\"*\", end=\"\")\n",
    "        \n",
    "        # Move to the next line\n",
    "        print()"
   ]
  },
  {
   "cell_type": "code",
   "execution_count": 11,
   "metadata": {},
   "outputs": [
    {
     "name": "stdout",
     "output_type": "stream",
     "text": [
      "    *\n",
      "   ***\n",
      "  *****\n",
      " *******\n",
      "*********\n"
     ]
    }
   ],
   "source": [
    "# Set the height of the pyramid\n",
    "pyramid_height = 5\n",
    "print_pyramid(pyramid_height)"
   ]
  }
 ],
 "metadata": {
  "kernelspec": {
   "display_name": "Python 3",
   "language": "python",
   "name": "python3"
  },
  "language_info": {
   "codemirror_mode": {
    "name": "ipython",
    "version": 3
   },
   "file_extension": ".py",
   "mimetype": "text/x-python",
   "name": "python",
   "nbconvert_exporter": "python",
   "pygments_lexer": "ipython3",
   "version": "3.12.3"
  }
 },
 "nbformat": 4,
 "nbformat_minor": 2
}
