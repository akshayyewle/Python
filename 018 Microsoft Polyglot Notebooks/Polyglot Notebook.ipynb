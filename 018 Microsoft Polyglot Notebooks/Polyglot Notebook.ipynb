{
 "cells": [
  {
   "cell_type": "code",
   "execution_count": 2,
   "metadata": {
    "dotnet_interactive": {
     "language": "csharp"
    },
    "polyglot_notebook": {
     "kernelName": "csharp"
    }
   },
   "outputs": [
    {
     "data": {
      "text/html": [
       "<div><div></div><div></div><div><strong>Installed Packages</strong><ul><li><span>Microsoft.DotNet.Interactive.SqlServer, 1.0.0-beta.24101.2</span></li></ul></div></div>"
      ]
     },
     "metadata": {},
     "output_type": "display_data"
    },
    {
     "data": {
      "text/plain": [
       "Loading extension script from `C:\\Users\\aksha\\.nuget\\packages\\microsoft.dotnet.interactive.sqlserver\\1.0.0-beta.24101.2\\interactive-extensions\\dotnet\\extension.dib`"
      ]
     },
     "metadata": {},
     "output_type": "display_data"
    },
    {
     "data": {
      "text/html": [
       "<details><summary>Query Microsoft SQL Server databases.</summary>\r\n",
       "<p>This extension adds support for connecting to Microsoft SQL Server databases using the <code>#!connect mssql</code> magic command. For more information, run a cell using the <code>#!sql</code> magic command.</p>\r\n",
       "</details>"
      ]
     },
     "metadata": {},
     "output_type": "display_data"
    }
   ],
   "source": [
    "#r \"nuget:Microsoft.DotNet.Interactive.SqlServer,*-*\""
   ]
  },
  {
   "cell_type": "code",
   "execution_count": null,
   "metadata": {
    "dotnet_interactive": {
     "language": "csharp"
    },
    "polyglot_notebook": {
     "kernelName": "csharp"
    }
   },
   "outputs": [],
   "source": [
    "#!connect mssql --kernel-name mydatabase \"Persist Security Info=False; Integrated Security=true; Initial Catalog=MyDatabase; Server=localhost\""
   ]
  },
  {
   "cell_type": "code",
   "execution_count": 6,
   "metadata": {
    "dotnet_interactive": {
     "language": "csharp"
    },
    "polyglot_notebook": {
     "kernelName": "csharp"
    }
   },
   "outputs": [
    {
     "ename": "Error",
     "evalue": "Unrecognized command or argument 'psql'.\r\nUnrecognized command or argument 'localhost'.\r\nUnrecognized command or argument '-p'.\r\nUnrecognized command or argument '5432'.\r\nUnrecognized command or argument '-U'.\r\nUnrecognized command or argument 'postgres'.\r\nUnrecognized command or argument '-d'.\r\nUnrecognized command or argument 'postgres'.",
     "output_type": "error",
     "traceback": [
      "Unrecognized command or argument 'psql'.\r\n",
      "Unrecognized command or argument 'localhost'.\r\n",
      "Unrecognized command or argument '-p'.\r\n",
      "Unrecognized command or argument '5432'.\r\n",
      "Unrecognized command or argument '-U'.\r\n",
      "Unrecognized command or argument 'postgres'.\r\n",
      "Unrecognized command or argument '-d'.\r\n",
      "Unrecognized command or argument 'postgres'."
     ]
    }
   ],
   "source": [
    "#!connect psql -h localhost -p 5432 -U postgres -d postgres"
   ]
  },
  {
   "cell_type": "code",
   "execution_count": 1,
   "metadata": {
    "dotnet_interactive": {
     "language": "sql"
    },
    "polyglot_notebook": {
     "kernelName": "sql"
    }
   },
   "outputs": [
    {
     "data": {
      "text/html": [
       "\r\n",
       "<p>A SQL connection has not been established.</p>\r\n",
       "<p>To connect to a database, first add the SQL extension package by running the following in a C# cell:</p>\r\n",
       "<code>\r\n",
       "    <pre>\r\n",
       "    #r \"nuget:Microsoft.DotNet.Interactive.SqlServer,*-*\"\r\n",
       "    </pre>\r\n",
       "</code>\r\n",
       "Now, you can connect to a Microsoft SQL Server database by running the following in a C# cell:\r\n",
       "<code>\r\n",
       "    <pre>\r\n",
       "    #!connect mssql --kernel-name mydatabase \"Persist Security Info=False; Integrated Security=true; Initial Catalog=MyDatabase; Server=localhost\"\r\n",
       "    </pre>\r\n",
       "</code>\r\n",
       "<p>Once a connection is established, you can send SQL statements by prefixing them with the magic command for your connection.</p>\r\n",
       "<code>\r\n",
       "    <pre>\r\n",
       "#!sql-mydatabase\r\n",
       "SELECT * \r\n",
       "FROM `bigquery-public-data.new_york.citibike_trips`\r\n",
       "    </pre>\r\n",
       "</code>\r\n"
      ]
     },
     "metadata": {},
     "output_type": "display_data"
    },
    {
     "ename": "Error",
     "evalue": "SQL statements cannot be executed in this kernel.",
     "output_type": "error",
     "traceback": [
      "SQL statements cannot be executed in this kernel."
     ]
    }
   ],
   "source": [
    "SELECT * \n",
    "FROM `bigquery-public-data.new_york.citibike_trips`"
   ]
  }
 ],
 "metadata": {
  "kernelspec": {
   "display_name": ".NET (C#)",
   "language": "C#",
   "name": ".net-csharp"
  },
  "language_info": {
   "name": "polyglot-notebook"
  },
  "polyglot_notebook": {
   "kernelInfo": {
    "defaultKernelName": "sql",
    "items": [
     {
      "aliases": [],
      "languageName": "sql",
      "name": "sql"
     }
    ]
   }
  }
 },
 "nbformat": 4,
 "nbformat_minor": 2
}
