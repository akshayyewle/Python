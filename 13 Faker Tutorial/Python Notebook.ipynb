{
 "cells": [
  {
   "cell_type": "markdown",
   "metadata": {},
   "source": [
    "# **Setup**\n",
    "\n",
    "* https://pypi.org/project/Faker/\n",
    "* https://www.youtube.com/watch?v=7M2Q5wrqC7I"
   ]
  },
  {
   "cell_type": "code",
   "execution_count": 1,
   "metadata": {},
   "outputs": [],
   "source": [
    "from faker import Faker"
   ]
  },
  {
   "cell_type": "code",
   "execution_count": 3,
   "metadata": {},
   "outputs": [
    {
     "data": {
      "text/plain": [
       "faker.proxy.Faker"
      ]
     },
     "execution_count": 3,
     "metadata": {},
     "output_type": "execute_result"
    }
   ],
   "source": [
    "f = Faker()\n",
    "\n",
    "type(f)"
   ]
  },
  {
   "cell_type": "markdown",
   "metadata": {},
   "source": [
    "# **Basic**"
   ]
  },
  {
   "cell_type": "code",
   "execution_count": 31,
   "metadata": {},
   "outputs": [
    {
     "name": "stdout",
     "output_type": "stream",
     "text": [
      "Name: Barbara Wagner\n",
      "Phone: 5712792428\n",
      "Address: 143 Michael Rapids\n",
      "Ashleyview, SC 35237\n",
      "ZIP Code: 52495\n"
     ]
    }
   ],
   "source": [
    "# Fake Name\n",
    "print('Name:',f.name())\n",
    "\n",
    "# Fake Phone Number\n",
    "print('Phone:',f.phone_number())\n",
    "\n",
    "# Fake Address\n",
    "print('Address:',f.address())\n",
    "\n",
    "# Fake ZIP Codes\n",
    "print('ZIP Code:',f.zipcode())"
   ]
  },
  {
   "cell_type": "code",
   "execution_count": 79,
   "metadata": {},
   "outputs": [
    {
     "name": "stdout",
     "output_type": "stream",
     "text": [
      "Julie\n",
      "Jeffrey\n",
      "Deborah\n"
     ]
    }
   ],
   "source": [
    "# First Name Only\n",
    "print(f.first_name())\n",
    "\n",
    "# Male First Name\n",
    "print(f.first_name_male())\n",
    "\n",
    "# Female First Name\n",
    "print(f.first_name_female())"
   ]
  },
  {
   "cell_type": "code",
   "execution_count": 21,
   "metadata": {},
   "outputs": [
    {
     "name": "stdout",
     "output_type": "stream",
     "text": [
      "115.208.144.177\n",
      "192.168.54.99\n"
     ]
    }
   ],
   "source": [
    "# Public & Private IP Address\n",
    "print(f.ipv4_public())\n",
    "print(f.ipv4_private())"
   ]
  },
  {
   "cell_type": "code",
   "execution_count": 69,
   "metadata": {},
   "outputs": [
    {
     "name": "stdout",
     "output_type": "stream",
     "text": [
      "Success low management ever food produce hour rich.\n",
      "['Within contain teach ok.', 'Raise information study time above cold card plant.', 'Early center similar.']\n",
      "Style this could type end since. Become huge find book available. Structure respond few sing.\n",
      "Add perhaps half bag see police. Improve establish behavior television stage than official.\n"
     ]
    }
   ],
   "source": [
    "# Single Sentence\n",
    "print(f.sentence())\n",
    "\n",
    "# Multiple Sentences\n",
    "print(f.sentences())\n",
    "\n",
    "# Text\n",
    "print(f.text())"
   ]
  },
  {
   "cell_type": "code",
   "execution_count": 65,
   "metadata": {},
   "outputs": [
    {
     "name": "stdout",
     "output_type": "stream",
     "text": [
      "st_ZA\n",
      "EFH-084\n"
     ]
    }
   ],
   "source": [
    "# Fake Locale \n",
    "print(f.locale())\n",
    "\n",
    "# Fake License Plate\n",
    "print(f.license_plate())"
   ]
  },
  {
   "cell_type": "markdown",
   "metadata": {},
   "source": [
    "# **Country Specific Data**"
   ]
  },
  {
   "cell_type": "code",
   "execution_count": 108,
   "metadata": {},
   "outputs": [
    {
     "name": "stdout",
     "output_type": "stream",
     "text": [
      "Name: Jörgen Börner-Jäntsch\n",
      "Phone: +44(0)116 496 0399\n",
      "Address: Gertzallee 7/6\n",
      "26429 Miesbach\n"
     ]
    }
   ],
   "source": [
    "f = Faker(['en_IN','en_UK','de_DE'])\n",
    "\n",
    "\n",
    "print('Name:',f.name())\n",
    "print('Phone:',f.phone_number())\n",
    "print('Address:',f.address())\n",
    "# print('ZIP Code:',f.zipcode())"
   ]
  },
  {
   "cell_type": "markdown",
   "metadata": {},
   "source": [
    "# **Unique Function**"
   ]
  },
  {
   "cell_type": "code",
   "execution_count": 114,
   "metadata": {},
   "outputs": [
    {
     "name": "stdout",
     "output_type": "stream",
     "text": [
      "Carol\n",
      "Patrick\n",
      "Vanessa\n",
      "Tiffany\n",
      "Victoria\n",
      "Walter\n",
      "Jesse\n",
      "William\n",
      "David\n",
      "Melissa\n"
     ]
    }
   ],
   "source": [
    "f = Faker()\n",
    "\n",
    "for i in range(10):\n",
    "    print(f.unique.first_name())"
   ]
  },
  {
   "cell_type": "markdown",
   "metadata": {},
   "source": [
    "# **Bothify**"
   ]
  },
  {
   "cell_type": "code",
   "execution_count": 121,
   "metadata": {},
   "outputs": [
    {
     "name": "stdout",
     "output_type": "stream",
     "text": [
      "03 WQ\n",
      "45 YQ\n",
      "68 LN\n",
      "44 AA\n",
      "26 ON\n"
     ]
    }
   ],
   "source": [
    "for i in range(5):\n",
    "    print(f.bothify(letters='ABCDEFGHIJKLMNOPQRSTUVWXYZ'))"
   ]
  },
  {
   "cell_type": "code",
   "execution_count": 134,
   "metadata": {},
   "outputs": [
    {
     "name": "stdout",
     "output_type": "stream",
     "text": [
      "OJFQDR-9433-VU\n",
      "PCMNCG-7504-YG\n",
      "CEBOXL-4646-SR\n",
      "EBFEZR-4823-VC\n",
      "GPYKAT-1953-PF\n"
     ]
    }
   ],
   "source": [
    "# Letter = ?\n",
    "# Digits = #\n",
    "\n",
    "for i in range(5):\n",
    "    print(f.bothify(text='??????-####-??',letters='ABCDEFGHIJKLMNOPQRSTUVWXYZ'))  # ? = Letter # = Digits"
   ]
  },
  {
   "cell_type": "markdown",
   "metadata": {},
   "source": [
    "# **Hexify**"
   ]
  },
  {
   "cell_type": "code",
   "execution_count": 136,
   "metadata": {},
   "outputs": [
    {
     "name": "stdout",
     "output_type": "stream",
     "text": [
      "MAC: 31:f6:ff:05:71:43\n",
      "MAC: 1f:33:85:60:62:10\n",
      "MAC: fc:64:3d:16:f9:bd\n",
      "MAC: 63:00:10:44:ca:a9\n",
      "MAC: 53:28:96:f6:ba:73\n"
     ]
    }
   ],
   "source": [
    "# Alpha Numeric Character = ^\n",
    "\n",
    "# Generate Random MAC IDs\n",
    "for i in range(5):\n",
    "    print(f.hexify(text='MAC: ^^:^^:^^:^^:^^:^^'))"
   ]
  },
  {
   "cell_type": "markdown",
   "metadata": {},
   "source": [
    "# **Custom Fake Category**"
   ]
  },
  {
   "cell_type": "code",
   "execution_count": 143,
   "metadata": {},
   "outputs": [],
   "source": [
    "from faker.providers import BaseProvider\n",
    "import random\n",
    "\n",
    "f = Faker()\n",
    "\n",
    "class Product_Category(BaseProvider):\n",
    "    product_category_list = ['Food', 'Clothing', 'Electronics', 'Books', 'Toys', 'Sports']\n",
    "    def product_category(self):\n",
    "        return random.choice(self.product_category_list)\n",
    "\n",
    "# Add Provider To Faker\n",
    "f.add_provider(Product_Category)"
   ]
  },
  {
   "cell_type": "code",
   "execution_count": 156,
   "metadata": {},
   "outputs": [
    {
     "name": "stdout",
     "output_type": "stream",
     "text": [
      "Toys\n",
      "Clothing\n",
      "Books\n",
      "Books\n",
      "Toys\n"
     ]
    }
   ],
   "source": [
    "for i in range(5):\n",
    "    print(f.product_category())"
   ]
  }
 ],
 "metadata": {
  "kernelspec": {
   "display_name": "Python 3",
   "language": "python",
   "name": "python3"
  },
  "language_info": {
   "codemirror_mode": {
    "name": "ipython",
    "version": 3
   },
   "file_extension": ".py",
   "mimetype": "text/x-python",
   "name": "python",
   "nbconvert_exporter": "python",
   "pygments_lexer": "ipython3",
   "version": "3.11.6"
  }
 },
 "nbformat": 4,
 "nbformat_minor": 2
}
